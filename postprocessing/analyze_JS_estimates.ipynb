{
 "cells": [
  {
   "cell_type": "markdown",
   "metadata": {},
   "source": [
    "# Analyze JS estimates"
   ]
  },
  {
   "cell_type": "markdown",
   "metadata": {},
   "source": [
    "Checking the JS estimates"
   ]
  },
  {
   "cell_type": "code",
   "execution_count": 1,
   "metadata": {},
   "outputs": [],
   "source": [
    "import os\n",
    "import copy\n",
    "import psutil\n",
    "p = psutil.Process()\n",
    "p.cpu_affinity([0])\n",
    "os.environ[\"CUDA_VISIBLE_DEVICES\"] = \"-1\"\n",
    "\n",
    "from collections import defaultdict\n",
    "import numpy as np\n",
    "import matplotlib.pyplot as plt\n",
    "import jax.numpy as jnp\n",
    "import jax\n",
    "jax.config.update(\"jax_disable_jit\", True)\n",
    "\n",
    "from scipy.spatial.distance import jensenshannon\n",
    "\n",
    "NAMING = ['M_c', 'q', 's1_z', 's2_z', 'lambda_1', 'lambda_2', 'd_L', 't_c', 'phase_c', 'cos_iota', 'psi', 'ra', 'sin_dec']\n",
    "\n",
    "from ripple import get_chi_eff, Mc_eta_to_ms, lambdas_to_lambda_tildes"
   ]
  },
  {
   "cell_type": "code",
   "execution_count": 2,
   "metadata": {},
   "outputs": [],
   "source": [
    "def convert_chains(chains: np.array,\n",
    "                   iota_index: int = 9,\n",
    "                   dec_index: int = 12):\n",
    "    \n",
    "    # Initialize the new chains\n",
    "    new_chains = copy.deepcopy(chains)\n",
    "    \n",
    "    # First, the cos and sin:    \n",
    "    new_chains[:, iota_index] = np.arccos(chains[:, iota_index])\n",
    "    new_chains[:, dec_index] = np.arcsin(chains[:, dec_index])\n",
    "    \n",
    "    # Now, for chi eff and lambdas:\n",
    "    mc, q = chains[:, 0], chains[:, 1]\n",
    "    eta = q / (1 + q)**2\n",
    "    m1, m2 = Mc_eta_to_ms(jnp.array([mc, eta]))\n",
    "    chi1, chi2 = chains[:, 2], chains[:, 3]\n",
    "    lambda1, lambda2 = chains[:, 4], chains[:, 5]\n",
    "    \n",
    "    # Convert the chains\n",
    "    chi_eff = get_chi_eff(jnp.array([m1, m2, chi1, chi2]))\n",
    "    lambda_tilde, delta_lambda_tilde = lambdas_to_lambda_tildes(jnp.array([lambda1, lambda2, m1, m2]))\n",
    "    \n",
    "    # Replace the chi and lambdas:\n",
    "    new_chains[:, 4] = lambda_tilde \n",
    "    new_chains[:, 5] = delta_lambda_tilde\n",
    "    new_chains[:, 2] = chi_eff\n",
    "    \n",
    "    # Now, remove chi2 column:\n",
    "    new_chains = np.delete(new_chains, 3, axis=1)\n",
    "    \n",
    "    return new_chains"
   ]
  },
  {
   "cell_type": "code",
   "execution_count": 3,
   "metadata": {},
   "outputs": [],
   "source": [
    "def get_JS_estimate(default_samples: np.array,\n",
    "                    variation_outdir: str = \"/home/thibeau.wouters/TurboPE-BNS/JS_estimate/GW190425_TaylorF2/varied_runs/outdir/\",\n",
    "                    debug: bool = False,\n",
    "                    nb_bins = 20):\n",
    "    \n",
    "    # Make the histogram for the repro run, histogram per 1D parameter:\n",
    "    histogram_dict = {}\n",
    "    edges_dict = {}\n",
    "    for i, key in enumerate(NAMING):\n",
    "        values = default_samples[:, i]\n",
    "        histogram, edges = np.histogram(values, bins=nb_bins, density=True)\n",
    "        histogram_dict[key] = histogram\n",
    "        edges_dict[key] = edges\n",
    "    \n",
    "    # Will save the JS divergence for each run ibt\n",
    "    js_dict = defaultdict(list)\n",
    "    \n",
    "    for path in os.listdir(variation_outdir):\n",
    "        # Only get subdirectory, which is a run\n",
    "        if not os.path.isdir(variation_outdir + path):\n",
    "            continue\n",
    "        \n",
    "        # Check if the run has a results_production.npz file\n",
    "        file = variation_outdir + path + \"/results_production.npz\"\n",
    "        \n",
    "        if not os.path.exists(file):\n",
    "            print(f\"WARNING: {file} does not exist, skipping this\")\n",
    "            continue\n",
    "            \n",
    "        # Load the data\n",
    "        data = np.load(file)\n",
    "        chains = data[\"chains\"]\n",
    "        chains = np.reshape(chains, (-1, 13))\n",
    "\n",
    "        # chains = convert_chains(chains)\n",
    "        \n",
    "        # Iterate over all the parameters\n",
    "        for i, key in enumerate(NAMING):\n",
    "            \n",
    "            # Get the values of this parameter\n",
    "            values = chains[:, i]\n",
    "            \n",
    "            # Get the histogram of the current run\n",
    "            histogram, _ = np.histogram(values, bins=edges_dict[key], density=True)\n",
    "            \n",
    "            if debug:\n",
    "                plt.hist(histogram, edges_dict[key], label = \"Current run\")\n",
    "                plt.hist(histogram_dict[key], edges_dict[key], label = \"Default run\")\n",
    "                plt.legend()\n",
    "                plt.show()\n",
    "            \n",
    "            \n",
    "            # Compute the JS divergence against the default run\n",
    "            js_div = jensenshannon(histogram, histogram_dict[key], base = 2) ** 2\n",
    "            js_dict[key].append(js_div)\n",
    "            \n",
    "    return js_dict"
   ]
  },
  {
   "cell_type": "markdown",
   "metadata": {},
   "source": [
    "## Load the samples"
   ]
  },
  {
   "cell_type": "code",
   "execution_count": 4,
   "metadata": {},
   "outputs": [],
   "source": [
    "repro_samples = \"/home/thibeau.wouters/TurboPE-BNS/JS_estimate/GW190425_TaylorF2/repro/outdir/results_production.npz\"\n",
    "\n",
    "repro_data = np.load(repro_samples)\n",
    "repro_chains = repro_data[\"chains\"]\n",
    "repro_chains = np.reshape(repro_chains, (-1, 13))\n",
    "\n",
    "# repro_chains = convert_chains(repro_chains)"
   ]
  },
  {
   "cell_type": "markdown",
   "metadata": {},
   "source": [
    "## Compute the JS divergences"
   ]
  },
  {
   "cell_type": "code",
   "execution_count": 5,
   "metadata": {},
   "outputs": [],
   "source": [
    "js_dict = get_JS_estimate(repro_chains)"
   ]
  },
  {
   "cell_type": "code",
   "execution_count": 6,
   "metadata": {},
   "outputs": [
    {
     "data": {
      "text/plain": [
       "defaultdict(list,\n",
       "            {'M_c': [0.00021476234426517647,\n",
       "              0.00026117638337234776,\n",
       "              0.00017303249554248,\n",
       "              0.00015825397140405576,\n",
       "              0.0002203251414816731,\n",
       "              0.0001605458849025018,\n",
       "              0.00019527393133460198,\n",
       "              0.00012663123192121773,\n",
       "              7.643742296414048e-05,\n",
       "              0.0001386299038126467],\n",
       "             'q': [0.00024167965999735778,\n",
       "              0.00017561668150511462,\n",
       "              0.00013300875811472825,\n",
       "              0.00013808419953950546,\n",
       "              0.00013831985308409114,\n",
       "              0.00017987363373826943,\n",
       "              0.0001223679862769129,\n",
       "              0.00015245634897474196,\n",
       "              0.00011068449041929593,\n",
       "              0.00013413671246207795],\n",
       "             's1_z': [0.0002430886251553477,\n",
       "              0.00011378149487373951,\n",
       "              0.00027607710948396763,\n",
       "              0.00029108076943635663,\n",
       "              0.0003247404041144363,\n",
       "              0.0003243695599392809,\n",
       "              0.0004909089592184067,\n",
       "              0.0002146184364878078,\n",
       "              0.00016890291208502412,\n",
       "              0.0002266173699814739],\n",
       "             's2_z': [0.00015287361405201706,\n",
       "              0.00020575020343690053,\n",
       "              0.00018700454184981515,\n",
       "              0.0002470131770505785,\n",
       "              0.00019009504941603126,\n",
       "              0.00019171855248576017,\n",
       "              0.00014785129811548635,\n",
       "              0.00012182730650513536,\n",
       "              0.00020155013852284128,\n",
       "              0.00023715911944711788],\n",
       "             'lambda_1': [0.00011261372252127125,\n",
       "              0.0002031037082728689,\n",
       "              0.0002331953081498509,\n",
       "              0.0002486053078071943,\n",
       "              0.0002497717179759638,\n",
       "              0.0003627746497586466,\n",
       "              0.00022366762920903872,\n",
       "              0.00013939257858193476,\n",
       "              0.00022941347160958017,\n",
       "              0.0001930368743708269],\n",
       "             'lambda_2': [0.0003710293421668425,\n",
       "              0.0002778686324657362,\n",
       "              0.0002849731475850616,\n",
       "              0.00028740866911293857,\n",
       "              7.897255569921066e-05,\n",
       "              0.00019181538707030175,\n",
       "              0.00030349312656988777,\n",
       "              0.00020446319662897444,\n",
       "              0.0001881854769349638,\n",
       "              0.00047690452544412316],\n",
       "             'd_L': [0.00029526843418501477,\n",
       "              0.0005869963244701997,\n",
       "              0.0007045511306496861,\n",
       "              0.000682701565951377,\n",
       "              0.0006488666067781542,\n",
       "              0.00028742376556825406,\n",
       "              0.0009689013535239913,\n",
       "              0.0004464910970009257,\n",
       "              0.0005067000870972466,\n",
       "              0.0007569401731962724],\n",
       "             't_c': [0.0006929926815282256,\n",
       "              0.00046128109127008173,\n",
       "              0.0005004713626767362,\n",
       "              0.001048645995716003,\n",
       "              0.000907104211691402,\n",
       "              0.0003541832280877206,\n",
       "              0.0007276443343705682,\n",
       "              0.0004504555300879916,\n",
       "              0.0005275693993674195,\n",
       "              0.0004890527291939016],\n",
       "             'phase_c': [8.377311112254679e-05,\n",
       "              0.00013730623687314785,\n",
       "              0.0002813011058543313,\n",
       "              0.0001784236861665199,\n",
       "              0.000136527878399087,\n",
       "              0.0001722778831734515,\n",
       "              0.00023167320363291059,\n",
       "              0.00017083829065546859,\n",
       "              9.885126139973615e-05,\n",
       "              0.00015093192382723304],\n",
       "             'cos_iota': [0.00020958359971347235,\n",
       "              0.00023352720212978047,\n",
       "              0.00015443303175297516,\n",
       "              0.00027512461284155974,\n",
       "              0.0001513967100451227,\n",
       "              0.0001994425094024437,\n",
       "              0.00020296788489309833,\n",
       "              0.00014187353239685595,\n",
       "              0.00019544960347236566,\n",
       "              0.0002886253207121095],\n",
       "             'psi': [7.521317816280765e-05,\n",
       "              9.688761112274553e-05,\n",
       "              0.00015876370498110198,\n",
       "              9.019274963677207e-05,\n",
       "              8.799780448147875e-05,\n",
       "              0.00013001163678036214,\n",
       "              0.00020302354791951522,\n",
       "              0.00017062934249798597,\n",
       "              0.00013444280164576016,\n",
       "              0.0001259199398165973],\n",
       "             'ra': [0.0015341732673670315,\n",
       "              0.0010634827432688464,\n",
       "              0.0005636348956672765,\n",
       "              0.0012749326309796371,\n",
       "              0.0015231395037225396,\n",
       "              0.0007083093986549903,\n",
       "              0.0016238978867611836,\n",
       "              0.0011245463361237783,\n",
       "              0.0007322811419505813,\n",
       "              0.0010969353440339691],\n",
       "             'sin_dec': [0.00025298203877445165,\n",
       "              0.0002539134695408975,\n",
       "              0.00017840284028422697,\n",
       "              0.00016958115595226445,\n",
       "              0.00015202876661737043,\n",
       "              0.0006398225294175787,\n",
       "              0.0005980986488463497,\n",
       "              0.0003285600170096454,\n",
       "              0.0003565553119260813,\n",
       "              0.00036098505371608315]})"
      ]
     },
     "execution_count": 6,
     "metadata": {},
     "output_type": "execute_result"
    }
   ],
   "source": [
    "js_dict"
   ]
  },
  {
   "cell_type": "markdown",
   "metadata": {},
   "source": [
    "## Postprocessing"
   ]
  },
  {
   "cell_type": "code",
   "execution_count": 7,
   "metadata": {},
   "outputs": [
    {
     "name": "stdout",
     "output_type": "stream",
     "text": [
      "M_c: 0.00017\n",
      "q: 0.00015\n",
      "s1_z: 0.00027\n",
      "s2_z: 0.00019\n",
      "lambda_1: 0.00022\n",
      "lambda_2: 0.00027\n",
      "d_L: 0.00059\n",
      "t_c: 0.00062\n",
      "phase_c: 0.00016\n",
      "cos_iota: 0.00021\n",
      "psi: 0.00013\n",
      "ra: 0.00112\n",
      "sin_dec: 0.00033\n"
     ]
    }
   ],
   "source": [
    "mean_js_dict = {key: np.mean(value) for key, value in js_dict.items()}\n",
    "\n",
    "for key, value in mean_js_dict.items():\n",
    "    print(f\"{key}: {np.round(value, 5)}\")"
   ]
  },
  {
   "cell_type": "code",
   "execution_count": 8,
   "metadata": {},
   "outputs": [
    {
     "name": "stdout",
     "output_type": "stream",
     "text": [
      "M_c: 0.00026\n",
      "q: 0.00024\n",
      "s1_z: 0.00049\n",
      "s2_z: 0.00025\n",
      "lambda_1: 0.00036\n",
      "lambda_2: 0.00048\n",
      "d_L: 0.00097\n",
      "t_c: 0.00105\n",
      "phase_c: 0.00028\n",
      "cos_iota: 0.00029\n",
      "psi: 0.0002\n",
      "ra: 0.00162\n",
      "sin_dec: 0.00064\n"
     ]
    }
   ],
   "source": [
    "max_js_dict = {key: np.max(value) for key, value in js_dict.items()}\n",
    "\n",
    "for key, value in max_js_dict.items():\n",
    "    print(f\"{key}: {np.round(value, 5)}\")"
   ]
  },
  {
   "cell_type": "markdown",
   "metadata": {},
   "source": [
    "First, drop tc from the dicts:"
   ]
  },
  {
   "cell_type": "code",
   "execution_count": 9,
   "metadata": {},
   "outputs": [],
   "source": [
    "# First, drop tc from the dicts:\n",
    "\n",
    "max_js_dict = {key: value for key, value in max_js_dict.items() if key != \"t_c\"}\n",
    "mean_js_dict = {key: value for key, value in mean_js_dict.items() if key != \"t_c\"}\n",
    "\n",
    "# Save the JS div values\n",
    "np.savez(\"js_div_noise.npz\", max = list(max_js_dict.values()), mean = list(mean_js_dict.values()))"
   ]
  },
  {
   "cell_type": "code",
   "execution_count": null,
   "metadata": {},
   "outputs": [],
   "source": []
  }
 ],
 "metadata": {
  "kernelspec": {
   "display_name": "Python 3",
   "language": "python",
   "name": "python3"
  },
  "language_info": {
   "codemirror_mode": {
    "name": "ipython",
    "version": 3
   },
   "file_extension": ".py",
   "mimetype": "text/x-python",
   "name": "python",
   "nbconvert_exporter": "python",
   "pygments_lexer": "ipython3",
   "version": "3.10.13"
  },
  "orig_nbformat": 4
 },
 "nbformat": 4,
 "nbformat_minor": 2
}
