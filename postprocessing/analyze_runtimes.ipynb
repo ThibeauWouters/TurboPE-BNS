{
 "cells": [
  {
   "cell_type": "markdown",
   "metadata": {},
   "source": [
    "# Analyze runtimes"
   ]
  },
  {
   "cell_type": "markdown",
   "metadata": {},
   "source": [
    "Analyze the runtimes of the injections we did"
   ]
  },
  {
   "cell_type": "markdown",
   "metadata": {},
   "source": [
    "## Preamble"
   ]
  },
  {
   "cell_type": "code",
   "execution_count": 339,
   "metadata": {},
   "outputs": [],
   "source": [
    "import psutil\n",
    "p = psutil.Process()\n",
    "p.cpu_affinity([0])\n",
    "import os\n",
    "import json\n",
    "os.environ[\"CUDA_VISIBLE_DEVICES\"] = \"-1\"\n",
    "\n",
    "import numpy as np \n",
    "import matplotlib.pyplot as plt\n",
    "from IPython.display import Latex\n",
    "\n",
    "params = {\"axes.grid\": True,\n",
    "        \"text.usetex\" : True,\n",
    "        \"font.family\" : \"serif\",\n",
    "        \"ytick.color\" : \"black\",\n",
    "        \"xtick.color\" : \"black\",\n",
    "        \"axes.labelcolor\" : \"black\",\n",
    "        \"axes.edgecolor\" : \"black\",\n",
    "        \"font.serif\" : [\"Computer Modern Serif\"],\n",
    "        \"xtick.labelsize\": 16,\n",
    "        \"ytick.labelsize\": 16,\n",
    "        \"axes.labelsize\": 16,\n",
    "        \"legend.fontsize\": 16,\n",
    "        \"legend.title_fontsize\": 16,\n",
    "        \"figure.titlesize\": 16}\n",
    "\n",
    "plt.rcParams.update(params)\n",
    "import copy\n",
    "\n",
    "# from utils_compare_runs import paths_dict"
   ]
  },
  {
   "cell_type": "code",
   "execution_count": 340,
   "metadata": {},
   "outputs": [],
   "source": [
    "outdirs_injections = {\"TF2\": \"../injections/outdir_TF2/\",\n",
    "                      \"NRTv2\": \"../injections/outdir_NRTv2/\"}\n",
    "\n",
    "jim_root_path = \"/home/thibeau.wouters/TurboPE-BNS/real_events/\"\n",
    "bilby_root_path = \"/home/thibeau.wouters/jim_pbilby_samples/older_bilby_version/\"\n",
    "paths_dict = {\"GW170817_TaylorF2\": {\"jim\": jim_root_path + \"GW170817_TaylorF2/outdir_snellius/\",\n",
    "                    \"bilby\": bilby_root_path + \"GW170817_TF2_with_tukey_fix_result.json\"},\n",
    "              \n",
    "              \"GW170817_NRTidalv2\": {\"jim\": jim_root_path + \"GW170817_NRTidalv2/outdir_snellius/\",\n",
    "                                     \"bilby\": bilby_root_path + \"GW170817_IMRPhenomD_NRTidalv2_result.json\",\n",
    "                    },\n",
    "              \n",
    "              \"GW190425_TaylorF2\": {\"jim\": jim_root_path + \"GW190425_TaylorF2/outdir_snellius/\",\n",
    "                                    \"bilby\": bilby_root_path + \"GW190425_TF2_with_tukey_fix_result.json\",\n",
    "                    },\n",
    "              \n",
    "              \"GW190425_NRTidalv2\": {\"jim\": jim_root_path + \"GW190425_NRTidalv2/outdir_snellius/\",\n",
    "                                     \"bilby\": bilby_root_path + \"GW190425_IMRPhenomD_NRTidalv2_result.json\",\n",
    "                    },\n",
    "}\n",
    "\n",
    "### Old version\n",
    "# jim_paths = {\"GW170817_TaylorF2\": \"../real_events/GW170817_TaylorF2/outdir/\",\n",
    "#              \"GW170817_NRTidalv2\": \"../real_events/GW170817_NRTidalv2/outdir/\",\n",
    "#              \"GW190425_TaylorF2\": \"../real_events/GW190425_TaylorF2/outdir/\",\n",
    "#              \"GW190425_NRTidalv2\": \"../real_events/GW190425_NRTidalv2/outdir/\"}\n",
    "\n",
    "# bilby_paths = {\"GW170817_TaylorF2\": \"/home/thibeau.wouters/jim_pbilby_samples/GW170817/GW170817-TF2_rejection_sampling_result.json\",\n",
    "#                \"GW170817_NRTidalv2\": \"/home/thibeau.wouters/jim_pbilby_samples/GW170817/GW170817_IMRDNRTv2_older_bilby_result.json\",\n",
    "#                \"GW190425_TaylorF2\": \"/home/thibeau.wouters/jim_pbilby_samples/GW190425/GW190425-TF2_result.json\",\n",
    "#                \"GW190425_NRTidalv2\": \"/home/thibeau.wouters/jim_pbilby_samples/GW190425/GW190425_IMRDNRTv2_older_bilby_result.json\"}\n",
    "\n",
    "# run_names = list(jim_paths.keys())"
   ]
  },
  {
   "cell_type": "code",
   "execution_count": 341,
   "metadata": {},
   "outputs": [],
   "source": [
    "def format_runtime(runtime_minutes: float, \n",
    "                   nb_round: int = 2) -> str:\n",
    "    \"\"\"\n",
    "    Simple function to format the runtime in minutes appropriately.\n",
    "\n",
    "    Args:\n",
    "        runtime_minutes (float): Runtime in minutes\n",
    "        nb_round (int, optional): Number of digits for rounding. Defaults to 2.\n",
    "\n",
    "    Returns:\n",
    "        str: Nicely formatted runtime\n",
    "    \"\"\"\n",
    "    runtime_string = str(np.round(runtime_minutes, nb_round))\n",
    "    before, after = runtime_string.split(\".\")\n",
    "    if len(after) == 1:\n",
    "        runtime_string = before + \".\" + after + \"0\" \n",
    "        \n",
    "    if len(runtime_string) == 4:\n",
    "        runtime_string = \"\\\\phantom{0}\" + runtime_string\n",
    "        \n",
    "    return runtime_string"
   ]
  },
  {
   "cell_type": "code",
   "execution_count": 342,
   "metadata": {},
   "outputs": [],
   "source": [
    "def fetch_runtime_injection(run_dir: str,\n",
    "                      nb_round: int = 2) -> float:\n",
    "    \"\"\"\n",
    "    Fetch the runtime of a given run directory of a jim run.\n",
    "\n",
    "    Args:\n",
    "        run_dir (str): Directory of the run, i.e. the outdir\n",
    "\n",
    "    Returns:\n",
    "        float: Runtime.\n",
    "    \"\"\"\n",
    "    \n",
    "    # Fetch runtimes of the individual parts:\n",
    "    with open(run_dir + \"/runtime.txt\", \"r\") as f:\n",
    "        runtime_seconds = float(f.read())\n",
    "        \n",
    "    runtime_minutes = runtime_seconds / 60\n",
    "    runtime_string = format_runtime(runtime_minutes, nb_round)\n",
    "            \n",
    "    return runtime_seconds, runtime_string"
   ]
  },
  {
   "cell_type": "code",
   "execution_count": 343,
   "metadata": {},
   "outputs": [],
   "source": [
    "def fetch_runtime_event(run_dir: str,\n",
    "                      nb_round: int = 2) -> float:\n",
    "    \"\"\"\n",
    "    Fetch the runtime of a given run directory of a jim run.\n",
    "\n",
    "    Args:\n",
    "        run_dir (str): Directory of the run, i.e. the outdir\n",
    "\n",
    "    Returns:\n",
    "        float: Runtime.\n",
    "    \"\"\"\n",
    "    \n",
    "    # Fetch runtimes of the individual parts:\n",
    "    with open(run_dir + \"/runtime.txt\", \"r\") as f:\n",
    "        runtime_seconds = float(f.read())\n",
    "        \n",
    "    # Note: the reruns were done with 1000 loops for evosax, but the fixed ref params used 2000 loops, so adding that once more\n",
    "    with open(run_dir + \"/runtime_evosax.txt\", \"r\") as f:\n",
    "        runtime_seconds += float(f.read())\n",
    "        \n",
    "    runtime_minutes = runtime_seconds / 60\n",
    "    runtime_string = format_runtime(runtime_minutes, nb_round)\n",
    "            \n",
    "    return runtime_seconds, runtime_string"
   ]
  },
  {
   "cell_type": "code",
   "execution_count": 344,
   "metadata": {},
   "outputs": [],
   "source": [
    "def fetch_runtime_evosax_event(run_dir: str,\n",
    "                               nb_round: int = 2) -> float:\n",
    "    \"\"\"\n",
    "    Fetch the runtime of a given real event run spent only on the evosax (computing reference parameters).\n",
    "\n",
    "    Args:\n",
    "        run_dir (str): Directory of the run, i.e. the outdir\n",
    "\n",
    "    Returns:\n",
    "        float: Runtime.\n",
    "    \"\"\"\n",
    "    \n",
    "    # Note: the reruns were done with 1000 loops for evosax, but the fixed ref params used 2000 loops, so adding that once more\n",
    "    with open(run_dir + \"/runtime_evosax.txt\", \"r\") as f:\n",
    "        runtime_seconds = 2 * float(f.read())\n",
    "        \n",
    "    runtime_minutes = runtime_seconds / 60\n",
    "    runtime_string = format_runtime(runtime_minutes, nb_round)\n",
    "            \n",
    "    return runtime_seconds, runtime_string"
   ]
  },
  {
   "cell_type": "code",
   "execution_count": 345,
   "metadata": {},
   "outputs": [],
   "source": [
    "def fetch_runtime_bilby(event_name: str, \n",
    "                        nb_round: int = 2,\n",
    "                        convert_to_hours: bool = True) -> tuple[float, str]:\n",
    "    \"\"\"\n",
    "    Fetch and format the runtime of analyzing one of the real events for bilby. \n",
    "\n",
    "    Args:\n",
    "        event_name (str): Identifier of the event, format GW_WF, e.g. GW170817_TaylorF2\n",
    "        outdir_name (str): Name of the outdir, e.g. `outdir`\n",
    "        runtime_filename (str, optional): _description_. Defaults to \"runtime.txt\".\n",
    "        nb_round (int, optional): _description_. Defaults to 2.\n",
    "\n",
    "    Returns:\n",
    "        tuple: Tuple of float value, being the runtime in seconds, and a string with the runtime in minutes\n",
    "    \"\"\"\n",
    "    \n",
    "    path = paths_dict[event_name][\"bilby\"]\n",
    "    print(f\"Bilby path: {path}\")\n",
    "    with open(path, \"r\") as f:\n",
    "        bilby_data = json.load(f)\n",
    "        runtime_seconds = float(bilby_data[\"sampling_time\"])\n",
    "        \n",
    "    runtime_minutes = runtime_seconds / 60\n",
    "    if convert_to_hours:\n",
    "        runtime_minutes /= 60 # TODO fix the naming, or not, if I am too lazy in the end\n",
    "    runtime_string = format_runtime(runtime_minutes, nb_round)\n",
    "    \n",
    "    return runtime_seconds, runtime_string"
   ]
  },
  {
   "cell_type": "markdown",
   "metadata": {},
   "source": [
    "## Injections runtimes"
   ]
  },
  {
   "cell_type": "code",
   "execution_count": 346,
   "metadata": {},
   "outputs": [
    {
     "name": "stdout",
     "output_type": "stream",
     "text": [
      "Skipping ../injections/outdir_TF2/injection_54, error: [Errno 2] No such file or directory: '../injections/outdir_TF2/injection_54/runtime.txt'\n"
     ]
    }
   ],
   "source": [
    "runtimes_dict = {} \n",
    "\n",
    "for name in outdirs_injections.keys():\n",
    "    outdir = outdirs_injections[name]\n",
    "    runtimes = []\n",
    "    for subdir in os.listdir(outdir):\n",
    "        rundir = outdir + subdir\n",
    "        runtime_path = rundir + \"/runtime.txt\"\n",
    "        \n",
    "        try:\n",
    "            runtime, _ = fetch_runtime_injection(rundir)\n",
    "            runtimes.append(runtime)\n",
    "        except Exception as e:\n",
    "            print(f\"Skipping {rundir}, error: {e}\")\n",
    "            \n",
    "    runtimes_dict[name] = np.array(runtimes)"
   ]
  },
  {
   "cell_type": "markdown",
   "metadata": {},
   "source": [
    "Make a histogram of the runtimes, more as a sanity check for myself."
   ]
  },
  {
   "cell_type": "code",
   "execution_count": 347,
   "metadata": {},
   "outputs": [],
   "source": [
    "minutes = True # whether to convert runtimes to minutes rather than seconds\n",
    "\n",
    "if minutes:\n",
    "    denominator = 60\n",
    "else:\n",
    "    denominator = 1\n",
    "\n",
    "hist_TF2, edges = np.histogram(runtimes_dict[\"TF2\"] / denominator, bins = 20, density = True)\n",
    "hist_NRTv2, _ = np.histogram(runtimes_dict[\"NRTv2\"] / denominator, bins = edges, density = True)\n",
    "\n",
    "if minutes:\n",
    "    xlabel = \"Runtime (min)\"\n",
    "else:\n",
    "    xlabel = \"Runtime (s)\"\n",
    "\n",
    "stairs_kwargs = {\"linewidth\": 2}\n",
    "\n",
    "# Create the figure\n",
    "plt.figure(figsize=(10, 6))\n",
    "plt.stairs(hist_TF2, edges, label = \"TF2\", **stairs_kwargs)\n",
    "plt.stairs(hist_NRTv2, edges, label = \"NRTv2\", **stairs_kwargs)\n",
    "\n",
    "plt.legend()\n",
    "plt.xlabel(xlabel)\n",
    "plt.ylabel(\"Density\")\n",
    "# plt.show()\n",
    "plt.close()"
   ]
  },
  {
   "cell_type": "markdown",
   "metadata": {},
   "source": [
    "## Runtimes for compilation and initializing the likelihood"
   ]
  },
  {
   "cell_type": "code",
   "execution_count": 348,
   "metadata": {},
   "outputs": [
    {
     "name": "stdout",
     "output_type": "stream",
     "text": [
      "Compilation: mean +/- std: 2.59 +/- 0.33 minutes\n"
     ]
    }
   ],
   "source": [
    "runtimes_compilation_filename = \"../data/runtimes_compilation.txt\"\n",
    "runtimes_compilation = np.loadtxt(runtimes_compilation_filename, delimiter=\",\")\n",
    "\n",
    "compilation_mean, compilation_std = np.mean(runtimes_compilation), np.std(runtimes_compilation)\n",
    "print(f\"Compilation: mean +/- std: {compilation_mean / 60:.2f} +/- {compilation_std / 60:.2f} minutes\")\n",
    "\n",
    "compilation_mean_minutes = compilation_mean / 60"
   ]
  },
  {
   "cell_type": "markdown",
   "metadata": {},
   "source": [
    "## Final numbers"
   ]
  },
  {
   "cell_type": "markdown",
   "metadata": {},
   "source": [
    "Can subtract the time for compiling etc, if wanted:"
   ]
  },
  {
   "cell_type": "code",
   "execution_count": 349,
   "metadata": {},
   "outputs": [
    {
     "name": "stdout",
     "output_type": "stream",
     "text": [
      "Mean and std for TF2\n",
      "$(27.09 \\pm 12.18)$ min\n",
      "Median for TF2\n",
      "24.758970030148824\n",
      "$24.76$ min\n",
      "Mean and std for NRTv2\n",
      "$(21.10 \\pm \\phantom{0}9.16)$ min\n",
      "Median for NRTv2\n",
      "18.02008366982142\n",
      "$18.02$ min\n"
     ]
    }
   ],
   "source": [
    "jim_runtimes_injections_float = {} # in seconds\n",
    "jim_runtimes_injections = {}\n",
    "jim_runtimes_injections_median = {}\n",
    "jim_runtimes_injections_median_str = {}\n",
    "subtract_number = compilation_mean_minutes # in case we want to extract the compilation time for reporting in the paper\n",
    "subtract_number = 0 # in case we DO NOT want to extract the compilation time for reporting in the paper\n",
    "\n",
    "jim_total_runtime_injections = 0\n",
    "\n",
    "for name, runtimes in runtimes_dict.items():\n",
    "    \n",
    "    # subtract compilation time in seconds\n",
    "    jim_total_runtime_injections += np.sum(runtimes - subtract_number * 60)\n",
    "    \n",
    "    ### Mean +/- std:\n",
    "    mean_str = format_runtime(np.mean(runtimes / denominator) - subtract_number)\n",
    "    std_str = format_runtime(np.std(runtimes / denominator))\n",
    "    median_value = np.median(runtimes / denominator) - subtract_number\n",
    "    median_str = format_runtime(median_value)\n",
    "    \n",
    "    jim_runtimes_injections_float[name] = np.mean(runtimes) # in seconds\n",
    "    jim_runtime_str = r\"$({} \\pm {})$ min\".format(mean_str, std_str)\n",
    "    print(f\"Mean and std for {name}\")\n",
    "    print(jim_runtime_str)\n",
    "    jim_runtimes_injections[name] = jim_runtime_str\n",
    "    \n",
    "    ### Median:\n",
    "    median_str = r\"${}$ min\".format(median_str)\n",
    "    \n",
    "    jim_runtimes_injections_median[name] = median_value\n",
    "    jim_runtimes_injections_median_str[name] = median_str\n",
    "    \n",
    "    # Print\n",
    "    print(f\"Median for {name}\")\n",
    "    print(median_value)\n",
    "    print(median_str)"
   ]
  },
  {
   "cell_type": "markdown",
   "metadata": {},
   "source": [
    "## Fetch jim runtimes"
   ]
  },
  {
   "cell_type": "code",
   "execution_count": 350,
   "metadata": {},
   "outputs": [
    {
     "name": "stdout",
     "output_type": "stream",
     "text": [
      "['GW170817_TaylorF2', 'GW170817_NRTidalv2', 'GW190425_TaylorF2', 'GW190425_NRTidalv2']\n",
      "GW170817_TaylorF2\n",
      "Fetching runtimes from run: /home/thibeau.wouters/TurboPE-BNS/real_events/GW170817_TaylorF2/outdir_snellius/\n",
      "1602.3845567703247\n",
      "582.1537246704102\n",
      "GW170817_NRTidalv2\n",
      "Fetching runtimes from run: /home/thibeau.wouters/TurboPE-BNS/real_events/GW170817_NRTidalv2/outdir_snellius/\n",
      "2022.7856409549713\n",
      "341.49449348449707\n",
      "GW190425_TaylorF2\n",
      "Fetching runtimes from run: /home/thibeau.wouters/TurboPE-BNS/real_events/GW190425_TaylorF2/outdir_snellius/\n",
      "1296.861796617508\n",
      "307.6143078804016\n",
      "GW190425_NRTidalv2\n",
      "Fetching runtimes from run: /home/thibeau.wouters/TurboPE-BNS/real_events/GW190425_NRTidalv2/outdir_snellius/\n",
      "1291.1365008354187\n",
      "368.90935134887695\n"
     ]
    }
   ],
   "source": [
    "run_names = list(paths_dict.keys())\n",
    "print(run_names)\n",
    "\n",
    "jim_runtimes_float = {}\n",
    "jim_runtimes_str = {}\n",
    "\n",
    "jim_runtimes_float_evosax = {}\n",
    "jim_runtimes_str_evosax = {}\n",
    "\n",
    "jim_runtimes_float_sampling = {} # total runtime - evosax time\n",
    "jim_runtimes_str_sampling = {}\n",
    "\n",
    "\n",
    "for run in run_names:\n",
    "    print(run)\n",
    "    path = paths_dict[run][\"jim\"]\n",
    "    path = path.replace(\"/outdir/\", \"/outdir_snellius/\")\n",
    "    print(f\"Fetching runtimes from run: {path}\")\n",
    "    runtime_float, runtime_str = fetch_runtime_event(path)\n",
    "    runtime_float_evosax, runtime_str_evosax = fetch_runtime_evosax_event(path)\n",
    "    print(runtime_float)\n",
    "    print(runtime_float_evosax)\n",
    "    \n",
    "    runtime_float_sampling = runtime_float - runtime_float_evosax\n",
    "    runtime_str_sampling = format_runtime(runtime_float_sampling / 60)\n",
    "    \n",
    "    # Overall runtime\n",
    "    jim_runtimes_float[run] = runtime_float\n",
    "    jim_runtimes_str[run] = runtime_str\n",
    "    \n",
    "    # Runtime for evosax\n",
    "    jim_runtimes_float_evosax[run] = runtime_float_evosax\n",
    "    jim_runtimes_str_evosax[run] = runtime_str_evosax\n",
    "    \n",
    "    # Runtime for total - evosax\n",
    "    jim_runtimes_float_sampling[run] = runtime_float_sampling\n",
    "    jim_runtimes_str_sampling[run] = runtime_str_sampling"
   ]
  },
  {
   "cell_type": "markdown",
   "metadata": {},
   "source": [
    "## Fetch pbilby runtimes"
   ]
  },
  {
   "cell_type": "markdown",
   "metadata": {},
   "source": [
    "These are the numbers that Peter gave me:"
   ]
  },
  {
   "cell_type": "code",
   "execution_count": 351,
   "metadata": {},
   "outputs": [],
   "source": [
    "# # Override with the numbers obtained from the log file of the runs instead:\n",
    "# bilby_runtimes_total = {}\n",
    "# bilby_runtimes_total[\"GW170817_TaylorF2\"]  = 0.0\n",
    "# bilby_runtimes_total[\"GW170817_NRTidalv2\"] = 12 * (60) ** 2 + 34 * 60 + 15\n",
    "# bilby_runtimes_total[\"GW190425_TaylorF2\"]  = 0.0\n",
    "# bilby_runtimes_total[\"GW190425_NRTidalv2\"] =  5 * (60) ** 2 + 39 * 60 + 38"
   ]
  },
  {
   "cell_type": "code",
   "execution_count": 352,
   "metadata": {},
   "outputs": [
    {
     "name": "stdout",
     "output_type": "stream",
     "text": [
      "/home/thibeau.wouters/jim_pbilby_samples/older_bilby_version/GW170817_TF2_with_tukey_fix_result.json\n",
      "Bilby path: /home/thibeau.wouters/jim_pbilby_samples/older_bilby_version/GW170817_TF2_with_tukey_fix_result.json\n"
     ]
    },
    {
     "name": "stdout",
     "output_type": "stream",
     "text": [
      "/home/thibeau.wouters/jim_pbilby_samples/older_bilby_version/GW170817_IMRPhenomD_NRTidalv2_result.json\n",
      "Bilby path: /home/thibeau.wouters/jim_pbilby_samples/older_bilby_version/GW170817_IMRPhenomD_NRTidalv2_result.json\n",
      "/home/thibeau.wouters/jim_pbilby_samples/older_bilby_version/GW190425_TF2_with_tukey_fix_result.json\n",
      "Bilby path: /home/thibeau.wouters/jim_pbilby_samples/older_bilby_version/GW190425_TF2_with_tukey_fix_result.json\n",
      "/home/thibeau.wouters/jim_pbilby_samples/older_bilby_version/GW190425_IMRPhenomD_NRTidalv2_result.json\n",
      "Bilby path: /home/thibeau.wouters/jim_pbilby_samples/older_bilby_version/GW190425_IMRPhenomD_NRTidalv2_result.json\n"
     ]
    }
   ],
   "source": [
    "bilby_runtimes_float = {}\n",
    "bilby_runtimes_str = {}\n",
    "for run in run_names:\n",
    "    path = paths_dict[run][\"bilby\"]\n",
    "    print(path)\n",
    "    runtime_float, runtime_string = fetch_runtime_bilby(run, convert_to_hours=True)\n",
    "        \n",
    "    bilby_runtimes_float[run] = runtime_float\n",
    "    bilby_runtimes_str[run] = runtime_string\n",
    "    \n",
    "bilby_runtimes_total = bilby_runtimes_float"
   ]
  },
  {
   "cell_type": "code",
   "execution_count": 353,
   "metadata": {},
   "outputs": [],
   "source": [
    "# Add dollar signs and minute string\n",
    "for key, value in jim_runtimes_str.items():\n",
    "    jim_runtimes_str[key] = f\"${value}$ min\""
   ]
  },
  {
   "cell_type": "code",
   "execution_count": 354,
   "metadata": {},
   "outputs": [],
   "source": [
    "assert list(jim_runtimes_float.keys()) == list(bilby_runtimes_float.keys())\n",
    "assert list(jim_runtimes_str.keys()) == list(bilby_runtimes_str.keys())"
   ]
  },
  {
   "cell_type": "markdown",
   "metadata": {},
   "source": [
    "Put hours in the formatting for pbilby"
   ]
  },
  {
   "cell_type": "code",
   "execution_count": 355,
   "metadata": {},
   "outputs": [],
   "source": [
    "for key, value in bilby_runtimes_str.items():\n",
    "    bilby_runtimes_str[key] = f\"${value}$ h\""
   ]
  },
  {
   "cell_type": "markdown",
   "metadata": {},
   "source": [
    "## Get the ratio of runtimes"
   ]
  },
  {
   "cell_type": "code",
   "execution_count": 356,
   "metadata": {},
   "outputs": [
    {
     "name": "stdout",
     "output_type": "stream",
     "text": [
      "21.655774466487056\n",
      "19.551606753214244\n",
      "11.334590495563338\n",
      "13.081609338030004\n"
     ]
    }
   ],
   "source": [
    "runtimes_ratio_float = {}\n",
    "runtimes_ratio_str = {}\n",
    "\n",
    "for key in jim_runtimes_float.keys():\n",
    "    ratio = bilby_runtimes_float[key] / jim_runtimes_float[key]\n",
    "    runtimes_ratio_float[key] = ratio\n",
    "    print(ratio)\n",
    "    runtimes_ratio_str[key] = f\"${int(ratio)} \\\\times $\""
   ]
  },
  {
   "cell_type": "markdown",
   "metadata": {},
   "source": [
    "## Combine into table"
   ]
  },
  {
   "cell_type": "markdown",
   "metadata": {},
   "source": [
    "This is an older version, remove if not used anymore"
   ]
  },
  {
   "cell_type": "code",
   "execution_count": 357,
   "metadata": {},
   "outputs": [],
   "source": [
    "# latex_code = '\\\\begin{{tabular}}{{l l c c c}}\\n Event & Waveform & \\\\texttt{{jim}} & \\\\texttt{{pbilby}} & Speed-up \\\\\\\\\\n \\hline\\\\hline\\n\\\\multirow{{2}}{{*}}{{GW170817}} & TF2 & {} & {} & {} \\\\\\\\\\n & NRTv2 & {} & {} & {} \\\\\\\\ \\hline\\n\\\\multirow{{2}}{{*}}{{GW190425}}  & TF2 & {} & {} & {} \\\\\\\\ \\n & NRTv2 & {} & {} & {} \\\\\\\\ \\hline\\n\\\\multirow{{2}}{{*}}{{Injection}} & TF2 & {} & -- & -- \\\\\\\\\\n& NRTv2 & {} & -- & -- \\\\\\\\\\n\\\\hline\\\\hline\\n\\\\end{{tabular}}'\\\n",
    "# .format(  jim_runtimes_str[\"GW170817_TaylorF2\"],\n",
    "#         bilby_runtimes_str[\"GW170817_TaylorF2\"],\n",
    "#         runtimes_ratio_str[\"GW170817_TaylorF2\"],\n",
    "#           jim_runtimes_str[\"GW170817_NRTidalv2\"],\n",
    "#         bilby_runtimes_str[\"GW170817_NRTidalv2\"], \n",
    "#         runtimes_ratio_str[\"GW170817_NRTidalv2\"],\n",
    "#           jim_runtimes_str[\"GW190425_TaylorF2\"], \n",
    "#         bilby_runtimes_str[\"GW190425_TaylorF2\"], \n",
    "#         runtimes_ratio_str[\"GW190425_TaylorF2\"],\n",
    "#           jim_runtimes_str[\"GW190425_NRTidalv2\"], \n",
    "#         bilby_runtimes_str[\"GW190425_NRTidalv2\"],\n",
    "#         runtimes_ratio_str[\"GW190425_NRTidalv2\"], \n",
    "#         jim_runtimes_injections_median_str[\"TF2\"], \n",
    "#         jim_runtimes_injections_median_str[\"NRTv2\"]\n",
    "#        )\n",
    "\n",
    "# print(latex_code)"
   ]
  },
  {
   "cell_type": "markdown",
   "metadata": {},
   "source": [
    "## Environmental impact"
   ]
  },
  {
   "cell_type": "markdown",
   "metadata": {},
   "source": [
    "- For the GPU consumption, see [1] or [2]: we have 400W for a A100 GPU installed in SXM, which is the case for Snellius [3]. \n",
    "\n",
    "- For the CPUs used, look at Ref. [4].\n",
    "\n",
    "- Conversions to CO2 and trees: these are taken from Ref. [5]\n",
    "\n",
    "-  In short: \"For the capture of 1 tonne of CO2 emissions ~50 trees must grow for one year [6]\n",
    "^using 0.905 kg of CO2 per kilowatt hour [7].\"\n",
    "\n",
    "- For NL, the most recent value is 0.328 kg CO2 per kWh [8].\n",
    "\n",
    "[1] https://www.nvidia.com/content/dam/en-zz/Solutions/Data-Center/a100/pdf/PB-10577-001_v02.pdf\n",
    "\n",
    "[2] https://www.nvidia.com/content/dam/en-zz/Solutions/Data-Center/a100/pdf/nvidia-a100-datasheet-nvidia-us-2188504-web.pdf \n",
    "\n",
    "[3] https://servicedesk.surf.nl/wiki/display/WIKI/Interactive+development+GPU+node \n",
    "\n",
    "[4] https://ark.intel.com/content/www/us/en/ark/products/136874/intel-xeon-platinum-8174-processor-33m-cache-3-10-ghz.html\n",
    "\n",
    "[5] https://git.ligo.org/lscsoft/parallel_bilby/-/wikis/O4-Review#pbilby-201-202 \n",
    "\n",
    "[6] https://www.climateneutralgroup.com/en/news/what-exactly-is-1-tonne-of-co2-v2/\n",
    "\n",
    "[7] https://www.dcceew.gov.au/climate-change/publications/national-greenhouse-gas-inventory-quarterly-updates\n",
    "\n",
    "[8] https://www.co2emissiefactoren.nl/lijst-emissiefactoren/"
   ]
  },
  {
   "cell_type": "code",
   "execution_count": 358,
   "metadata": {},
   "outputs": [],
   "source": [
    "kwh_to_co2 = 0.328 # kg CO2 per kWh\n",
    "co2_to_trees = (1 / 1000) * 50 # trees per kg CO2, growing for one year\n",
    "\n",
    "consumption_cpu = 0.240 # kilowatts\n",
    "consumption_gpu = 0.400 # kilowatts\n",
    "# N_cores = 480\n",
    "N_gpu = 1\n",
    "N_runs = 204"
   ]
  },
  {
   "cell_type": "markdown",
   "metadata": {},
   "source": [
    "Average runtime for jim:"
   ]
  },
  {
   "cell_type": "code",
   "execution_count": 359,
   "metadata": {},
   "outputs": [
    {
     "name": "stdout",
     "output_type": "stream",
     "text": [
      "1490.1688831448555\n",
      "Average runtime jim (minutes): 24.83614805241426\n",
      "Average runtime jim (hours): 0.413935800873571\n"
     ]
    }
   ],
   "source": [
    "total_runtime_events = np.sum(list(jim_runtimes_float.values()))\n",
    "avg_runtime_jim = (jim_total_runtime_injections + total_runtime_events) / N_runs # first in seconds\n",
    "print(avg_runtime_jim) # before: 1432.4360346029468\n",
    "\n",
    "\n",
    "# in minutes\n",
    "avg_runtime_jim /= 60\n",
    "print(f\"Average runtime jim (minutes):\", avg_runtime_jim) # before: 23.873933910049114\n",
    "\n",
    "# in hours\n",
    "avg_runtime_jim /= 60\n",
    "print(f\"Average runtime jim (hours):\", avg_runtime_jim) # before: 0.39789889850081855"
   ]
  },
  {
   "cell_type": "markdown",
   "metadata": {},
   "source": [
    "Average runtime for bilby"
   ]
  },
  {
   "cell_type": "code",
   "execution_count": 360,
   "metadata": {},
   "outputs": [
    {
     "name": "stdout",
     "output_type": "stream",
     "text": [
      "Average runtime bilby (hours): 7.349939490833334\n"
     ]
    }
   ],
   "source": [
    "avg_runtime_bilby = np.mean(list(bilby_runtimes_total.values())) / 3600\n",
    "print(\"Average runtime bilby (hours):\", avg_runtime_bilby)"
   ]
  },
  {
   "cell_type": "code",
   "execution_count": 361,
   "metadata": {},
   "outputs": [
    {
     "name": "stdout",
     "output_type": "stream",
     "text": [
      "Consumption for GW170817_TaylorF2: 0.18 kWh\n",
      "Consumption for GW170817_NRTidalv2: 0.22 kWh\n",
      "Consumption for GW190425_TaylorF2: 0.14 kWh\n",
      "Consumption for GW190425_NRTidalv2: 0.14 kWh\n",
      "Consumption for avg: 0.17 kWh\n"
     ]
    }
   ],
   "source": [
    "consumption_jim = {}\n",
    "for key in jim_runtimes_float.keys():\n",
    "    consumption_jim[key] = N_gpu * consumption_gpu * (jim_runtimes_float[key] / 3600)\n",
    "    \n",
    "consumption_jim[\"avg\"] = N_gpu * consumption_gpu * avg_runtime_jim\n",
    "    \n",
    "for key, value in consumption_jim.items():\n",
    "    print(f\"Consumption for {key}: {value:.2f} kWh\")"
   ]
  },
  {
   "cell_type": "code",
   "execution_count": 362,
   "metadata": {},
   "outputs": [
    {
     "name": "stdout",
     "output_type": "stream",
     "text": [
      "Consumption for GW170817_TaylorF2: 23.13 kWh\n",
      "Consumption for GW170817_NRTidalv2: 26.37 kWh\n",
      "Consumption for GW190425_TaylorF2: 9.80 kWh\n",
      "Consumption for GW190425_NRTidalv2: 11.26 kWh\n",
      "Consumption for avg: 17.64 kWh\n"
     ]
    }
   ],
   "source": [
    "N_cpu = 10\n",
    "\n",
    "consumption_bilby = {}\n",
    "for key in bilby_runtimes_float.keys():\n",
    "    consumption_bilby[key] = N_cpu * consumption_cpu * (bilby_runtimes_float[key] / 3600)\n",
    "    \n",
    "consumption_bilby[\"avg\"] = N_cpu * consumption_cpu * avg_runtime_bilby\n",
    "    \n",
    "for key, value in consumption_bilby.items():\n",
    "    print(f\"Consumption for {key}: {value:.2f} kWh\")"
   ]
  },
  {
   "cell_type": "code",
   "execution_count": 363,
   "metadata": {},
   "outputs": [
    {
     "name": "stdout",
     "output_type": "stream",
     "text": [
      "Consumption for GW170817_TaylorF2: 130 x\n",
      "Consumption for GW170817_NRTidalv2: 117 x\n",
      "Consumption for GW190425_TaylorF2: 68 x\n",
      "Consumption for GW190425_NRTidalv2: 78 x\n",
      "Consumption for avg: 107 x\n"
     ]
    }
   ],
   "source": [
    "consumption_ratio = {}\n",
    "consumption_ratio_str = {}\n",
    "for key in consumption_jim.keys():\n",
    "    this_ratio = int(np.round(consumption_bilby[key] / consumption_jim[key]))\n",
    "    consumption_ratio[key] = this_ratio\n",
    "    consumption_ratio_str[key] = r\"${} \\times$\".format(this_ratio)\n",
    "    \n",
    "for key, value in consumption_ratio.items():\n",
    "    print(f\"Consumption for {key}: {value} x\")"
   ]
  },
  {
   "cell_type": "markdown",
   "metadata": {},
   "source": [
    "Convert to trees now"
   ]
  },
  {
   "cell_type": "code",
   "execution_count": 364,
   "metadata": {},
   "outputs": [],
   "source": [
    "def get_number_of_killed_trees(kwh: float) -> float:\n",
    "    \"\"\"\n",
    "    Get the number of trees killed by the energy consumption of our runs in kWh.\n",
    "\n",
    "    Args:\n",
    "        kwh (float): Energy consumption in kWh\n",
    "\n",
    "    Returns:\n",
    "        float: Number of trees killed\n",
    "    \"\"\"\n",
    "    return kwh * kwh_to_co2 * co2_to_trees\n",
    "\n",
    "def get_number_of_tonne_co2(kwh: float) -> float:\n",
    "    \"\"\"\n",
    "    Get the number of trees killed by the energy consumption of our runs in kWh.\n",
    "\n",
    "    Args:\n",
    "        kwh (float): Energy consumption in kWh\n",
    "\n",
    "    Returns:\n",
    "        float: Number of trees killed\n",
    "    \"\"\"\n",
    "    return kwh * kwh_to_co2 / 1000"
   ]
  },
  {
   "cell_type": "markdown",
   "metadata": {},
   "source": [
    "## Trees"
   ]
  },
  {
   "cell_type": "code",
   "execution_count": 365,
   "metadata": {},
   "outputs": [
    {
     "name": "stdout",
     "output_type": "stream",
     "text": [
      "Trees killed for GW170817_TaylorF2: 0.00292\n",
      "Trees killed for GW170817_NRTidalv2: 0.00369\n",
      "Trees killed for GW190425_TaylorF2: 0.00236\n",
      "Trees killed for GW190425_NRTidalv2: 0.00235\n",
      "Trees killed for avg: 0.00272\n"
     ]
    }
   ],
   "source": [
    "trees_jim = {}\n",
    "for key, value in consumption_jim.items():\n",
    "    trees_jim[key] = get_number_of_killed_trees(value)\n",
    "    \n",
    "for key, value in trees_jim.items():\n",
    "    print(f\"Trees killed for {key}: {value:.5f}\")\n",
    "    \n",
    "# Find the average:\n",
    "avg_nb_killed_trees_jim = np.mean(list(trees_jim.values()))"
   ]
  },
  {
   "cell_type": "code",
   "execution_count": 366,
   "metadata": {},
   "outputs": [
    {
     "name": "stdout",
     "output_type": "stream",
     "text": [
      "Trees killed for GW170817_TaylorF2: 0.38\n",
      "Trees killed for GW170817_NRTidalv2: 0.43\n",
      "Trees killed for GW190425_TaylorF2: 0.16\n",
      "Trees killed for GW190425_NRTidalv2: 0.18\n",
      "Trees killed for avg: 0.29\n"
     ]
    }
   ],
   "source": [
    "trees_bilby = {}\n",
    "for key, value in consumption_bilby.items():\n",
    "    trees_bilby[key] = get_number_of_killed_trees(value)\n",
    "    \n",
    "for key, value in trees_bilby.items():\n",
    "    print(f\"Trees killed for {key}: {value:.2f}\")"
   ]
  },
  {
   "cell_type": "markdown",
   "metadata": {},
   "source": [
    "For a comparison **about the whole paper**, just use this average and the number of runs done to allow for an easier comparison between the 2:"
   ]
  },
  {
   "cell_type": "code",
   "execution_count": 367,
   "metadata": {},
   "outputs": [
    {
     "name": "stdout",
     "output_type": "stream",
     "text": [
      "Average number of killed trees for writing the paper with   jim: 0.55\n",
      "Average number of killed trees for writing the paper with bilby: 59.02\n"
     ]
    }
   ],
   "source": [
    "# avg_nb_killed_trees_jim = np.mean(list(trees_jim.values()))\n",
    "# avg_nb_killed_trees_bilby = np.mean(list(trees_bilby.values()))\n",
    "\n",
    "avg_nb_killed_trees_jim = trees_jim[\"avg\"]\n",
    "avg_nb_killed_trees_bilby = trees_bilby[\"avg\"]\n",
    "\n",
    "avg_nb_killed_trees_jim_paper = N_runs * avg_nb_killed_trees_jim\n",
    "avg_nb_killed_trees_bilby_paper = N_runs * avg_nb_killed_trees_bilby\n",
    "\n",
    "print(f\"Average number of killed trees for writing the paper with   jim: {(avg_nb_killed_trees_jim_paper):.2f}\")\n",
    "print(f\"Average number of killed trees for writing the paper with bilby: {(avg_nb_killed_trees_bilby_paper):.2f}\")"
   ]
  },
  {
   "cell_type": "markdown",
   "metadata": {},
   "source": [
    "## CO2"
   ]
  },
  {
   "cell_type": "code",
   "execution_count": 368,
   "metadata": {},
   "outputs": [
    {
     "name": "stdout",
     "output_type": "stream",
     "text": [
      "Tonne CO2 for GW170817_TaylorF2: 0.00006\n",
      "Tonne CO2 for GW170817_NRTidalv2: 0.00007\n",
      "Tonne CO2 for GW190425_TaylorF2: 0.00005\n",
      "Tonne CO2 for GW190425_NRTidalv2: 0.00005\n",
      "Tonne CO2 for avg: 0.00005\n"
     ]
    }
   ],
   "source": [
    "co2_jim = {}\n",
    "for key, value in consumption_jim.items():\n",
    "    co2_jim[key] = get_number_of_tonne_co2(value)\n",
    "    \n",
    "for key, value in co2_jim.items():\n",
    "    print(f\"Tonne CO2 for {key}: {value:.5f}\")"
   ]
  },
  {
   "cell_type": "code",
   "execution_count": 369,
   "metadata": {},
   "outputs": [
    {
     "name": "stdout",
     "output_type": "stream",
     "text": [
      "Tonne CO2 for GW170817_TaylorF2: 0.00759\n",
      "Tonne CO2 for GW170817_NRTidalv2: 0.00865\n",
      "Tonne CO2 for GW190425_TaylorF2: 0.00321\n",
      "Tonne CO2 for GW190425_NRTidalv2: 0.00369\n",
      "Tonne CO2 for avg: 0.00579\n"
     ]
    }
   ],
   "source": [
    "co2_bilby = {}\n",
    "for key, value in consumption_bilby.items():\n",
    "    co2_bilby[key] = get_number_of_tonne_co2(value)\n",
    "    \n",
    "for key, value in co2_bilby.items():\n",
    "    print(f\"Tonne CO2 for {key}: {value:.5f}\")"
   ]
  },
  {
   "cell_type": "markdown",
   "metadata": {},
   "source": [
    "## Get environmental impact as a table"
   ]
  },
  {
   "cell_type": "code",
   "execution_count": 370,
   "metadata": {},
   "outputs": [],
   "source": [
    "def my_format(number: float, nb_round: int = 2):\n",
    "    my_string = str(np.round(number, nb_round))\n",
    "    return my_string"
   ]
  },
  {
   "cell_type": "markdown",
   "metadata": {},
   "source": [
    "\\\\def\\\\x{{1.5cm}} \\n \n",
    "\n",
    "p{{\\\\x}}"
   ]
  },
  {
   "cell_type": "code",
   "execution_count": 409,
   "metadata": {},
   "outputs": [
    {
     "name": "stdout",
     "output_type": "stream",
     "text": [
      "& kWh & $\\rm{CO}_2$ [$10^3$ kg] & Trees${}^\\dagger$ \\\\\n",
      " \\hline\\hline\n",
      " \\textsc{Jim} & $\\phantom{00}33.78$ & $\\phantom{0}0.01$ & $\\phantom{000}0.55$ \\\\\n",
      " \\textsc{pBilby} & $3598.53$ & $1.18$ & $59.02$ \\\\\n",
      "\\hline\\hline\n"
     ]
    }
   ],
   "source": [
    "latex_code = '& kWh & $\\\\rm{{CO}}_2$ [$10^3$ kg] & Trees${{}}^\\dagger$ \\\\\\\\\\n \\hline\\\\hline\\n \\\\textsc{{Jim}} & $\\\\phantom{{00}}{}$ & $\\\\phantom{{0}}{}$ & $\\\\phantom{{000}}{}$ \\\\\\\\\\n \\\\textsc{{pBilby}} & ${}$ & ${}$ & ${}$ \\\\\\\\\\n\\\\hline\\\\hline'\\\n",
    ".format(my_format(N_runs * consumption_jim[\"avg\"]),\n",
    "        my_format(N_runs * co2_jim[\"avg\"]),\n",
    "        my_format(avg_nb_killed_trees_jim_paper),\n",
    "        my_format(N_runs * consumption_bilby[\"avg\"]),\n",
    "        my_format(N_runs * co2_bilby[\"avg\"]),\n",
    "        my_format(avg_nb_killed_trees_bilby_paper),\n",
    "       )\n",
    "\n",
    "print(latex_code)"
   ]
  },
  {
   "cell_type": "code",
   "execution_count": 372,
   "metadata": {},
   "outputs": [
    {
     "data": {
      "text/plain": [
       "106.0"
      ]
     },
     "execution_count": 372,
     "metadata": {},
     "output_type": "execute_result"
    }
   ],
   "source": [
    "np.floor(avg_nb_killed_trees_bilby_paper / avg_nb_killed_trees_jim_paper)"
   ]
  },
  {
   "cell_type": "markdown",
   "metadata": {},
   "source": [
    "## Update the table with energy saved rather than speedup"
   ]
  },
  {
   "cell_type": "code",
   "execution_count": 373,
   "metadata": {},
   "outputs": [],
   "source": [
    "# latex_code = '\\\\begin{{tabular}}{{l l c c c}}\\n Event & Waveform & \\\\textsc{{Jim}} & \\\\textsc{{pBilby}} & Energy saved \\\\\\\\\\n \\hline\\\\hline\\n\\\\multirow{{2}}{{*}}{{GW170817}} & TF2 & {} & {} & {} \\\\\\\\\\n & NRTv2 & {} & {} & {} \\\\\\\\ \\hline\\n\\\\multirow{{2}}{{*}}{{GW190425}}  & TF2 & {} & {} & {} \\\\\\\\ \\n & NRTv2 & {} & {} & {} \\\\\\\\ \\hline\\n\\\\multirow{{2}}{{*}}{{Injection}} & TF2 & {} & -- & -- \\\\\\\\\\n& NRTv2 & {} & -- & -- \\\\\\\\\\n\\\\hline\\\\hline\\n\\\\end{{tabular}}'\\\n",
    "# .format(  jim_runtimes_str[\"GW170817_TaylorF2\"],\n",
    "#         bilby_runtimes_str[\"GW170817_TaylorF2\"],\n",
    "#          consumption_ratio_str[\"GW170817_TaylorF2\"],\n",
    "#          jim_runtimes_str[\"GW170817_NRTidalv2\"],\n",
    "#         bilby_runtimes_str[\"GW170817_NRTidalv2\"], \n",
    "#          consumption_ratio_str[\"GW170817_NRTidalv2\"],\n",
    "#            jim_runtimes_str[\"GW190425_TaylorF2\"], \n",
    "#         bilby_runtimes_str[\"GW190425_TaylorF2\"], \n",
    "#           consumption_ratio_str[\"GW190425_TaylorF2\"],\n",
    "#            jim_runtimes_str[\"GW190425_NRTidalv2\"], \n",
    "#         bilby_runtimes_str[\"GW190425_NRTidalv2\"],\n",
    "#          consumption_ratio_str[\"GW190425_NRTidalv2\"], \n",
    "#         jim_runtimes_injections[\"TF2\"], \n",
    "#         jim_runtimes_injections[\"NRTv2\"]\n",
    "#        )\n",
    "\n",
    "# print(latex_code)"
   ]
  },
  {
   "cell_type": "markdown",
   "metadata": {},
   "source": [
    "## Without the final column"
   ]
  },
  {
   "cell_type": "code",
   "execution_count": 374,
   "metadata": {},
   "outputs": [
    {
     "data": {
      "text/plain": [
       "{'GW170817_TaylorF2': '17.00',\n",
       " 'GW170817_NRTidalv2': '28.02',\n",
       " 'GW190425_TaylorF2': '16.49',\n",
       " 'GW190425_NRTidalv2': '15.37'}"
      ]
     },
     "execution_count": 374,
     "metadata": {},
     "output_type": "execute_result"
    }
   ],
   "source": [
    "jim_runtimes_str_sampling"
   ]
  },
  {
   "cell_type": "code",
   "execution_count": 406,
   "metadata": {},
   "outputs": [],
   "source": [
    "def make_table_entry_str_event(key):\n",
    "    return \"$(\" + jim_runtimes_str_evosax[key].replace(\"\\phantom{0}\", \"\") + \" + \" + jim_runtimes_str_sampling[key] + \")$ min\"\n",
    "\n",
    "def make_table_entry_str_injection(key):\n",
    "    return \"$\\phantom{{(0.000 + }} {}\\phantom{{)}}$ min\".format(np.round(jim_runtimes_injections_median[key], 2))"
   ]
  },
  {
   "cell_type": "code",
   "execution_count": 407,
   "metadata": {},
   "outputs": [
    {
     "data": {
      "text/plain": [
       "'$\\\\phantom{(0.000 + } 24.76\\\\phantom{)}$ min'"
      ]
     },
     "execution_count": 407,
     "metadata": {},
     "output_type": "execute_result"
    }
   ],
   "source": [
    "jim_runtimes_injections_median[\"TF2\"]\n",
    "make_table_entry_str_injection(\"TF2\")"
   ]
  },
  {
   "cell_type": "markdown",
   "metadata": {},
   "source": [
    "\\\\footnotesize{{($480$ cores)}}"
   ]
  },
  {
   "cell_type": "code",
   "execution_count": 408,
   "metadata": {},
   "outputs": [
    {
     "name": "stdout",
     "output_type": "stream",
     "text": [
      "\\begin{tabular}{l l c c}\n",
      " Event & WF & \\textsc{Jim} \\footnotesize{($1$ GPU)} & \\textsc{pBilby} \\footnotesize{($480$ cores)} \\\\\n",
      "  \\hline\\hline\n",
      " \\multirow{2}{*}{GW170817} & \\texttt{TF2} & $(9.70 + 17.00)$ min & $\\phantom{0}9.64$ h \\\\\n",
      " & \\texttt{NRTv2} & $(5.69 + 28.02)$ min & $10.99$ h \\\\ \\hline\n",
      "\\multirow{2}{*}{GW190425}  & \\texttt{TF2} & $(5.13 + 16.49)$ min & $\\phantom{0}4.08$ h \\\\ \n",
      " & \\texttt{NRTv2} & $(6.15 + 15.37)$ min & $\\phantom{0}4.69$ h \\\\ \\hline\n",
      "\\multirow{2}{*}{Injection} & \\texttt{TF2} & $\\phantom{(0.000 + } 24.76\\phantom{)}$ min & --  \\\\\n",
      "& \\texttt{NRTv2} & $\\phantom{(0.000 + } 18.02\\phantom{)}$ min & --  \\\\\n",
      "\\hline\\hline\n",
      "\\end{tabular}\n"
     ]
    }
   ],
   "source": [
    "\n",
    "latex_code = '\\\\begin{{tabular}}{{l l c c}}\\n Event & WF & \\\\textsc{{Jim}} \\\\footnotesize{{($1$ GPU)}} & \\\\textsc{{pBilby}} \\\\footnotesize{{($480$ cores)}} \\\\\\\\\\n  \\hline\\\\hline\\n \\\\multirow{{2}}{{*}}{{GW170817}} & \\\\texttt{{TF2}} & {} & {} \\\\\\\\\\n & \\\\texttt{{NRTv2}} & {} & {} \\\\\\\\ \\hline\\n\\\\multirow{{2}}{{*}}{{GW190425}}  & \\\\texttt{{TF2}} & {} & {} \\\\\\\\ \\n & \\\\texttt{{NRTv2}} & {} & {} \\\\\\\\ \\hline\\n\\\\multirow{{2}}{{*}}{{Injection}} & \\\\texttt{{TF2}} & {} & --  \\\\\\\\\\n& \\\\texttt{{NRTv2}} & {} & --  \\\\\\\\\\n\\\\hline\\\\hline\\n\\\\end{{tabular}}'\\\n",
    ".format(make_table_entry_str_event(\"GW170817_TaylorF2\"),\n",
    "        bilby_runtimes_str[\"GW170817_TaylorF2\"],\n",
    "         make_table_entry_str_event(\"GW170817_NRTidalv2\"),\n",
    "        bilby_runtimes_str[\"GW170817_NRTidalv2\"], \n",
    "         make_table_entry_str_event(\"GW190425_TaylorF2\"), \n",
    "        bilby_runtimes_str[\"GW190425_TaylorF2\"], \n",
    "         make_table_entry_str_event(\"GW190425_NRTidalv2\"),\n",
    "        bilby_runtimes_str[\"GW190425_NRTidalv2\"],\n",
    "        make_table_entry_str_injection(\"TF2\"), \n",
    "        make_table_entry_str_injection(\"NRTv2\")\n",
    "       )\n",
    "\n",
    "print(latex_code)"
   ]
  },
  {
   "cell_type": "markdown",
   "metadata": {},
   "source": [
    "## Some further timing info:"
   ]
  },
  {
   "cell_type": "code",
   "execution_count": 377,
   "metadata": {},
   "outputs": [],
   "source": [
    "def report_timings_real_event_jim(path,\n",
    "                                  nb_round: int = 2, \n",
    "                                  convert_to_minutes: bool = True):\n",
    "    \n",
    "    path = path[\"jim\"]\n",
    "    runtime_evosax =  2 * np.loadtxt(path + \"/runtime_evosax.txt\") # twice as many loops used to fetch the params than the rerun had\n",
    "    runtime_training = np.loadtxt(path + \"/runtime_training.txt\")\n",
    "    runtime_production = np.loadtxt(path + \"/runtime_production.txt\")\n",
    "    total = np.loadtxt(path + \"/runtime.txt\")\n",
    "    \n",
    "    extra_string = \"seconds\"\n",
    "    \n",
    "    if convert_to_minutes:\n",
    "        runtime_evosax /= 60\n",
    "        runtime_training /= 60\n",
    "        runtime_production /= 60\n",
    "        total /= 60\n",
    "        extra_string = \"minutes\"\n",
    "        \n",
    "    \n",
    "    runtime_evosax = np.round(runtime_evosax, nb_round)\n",
    "    runtime_training = np.round(runtime_training, nb_round)\n",
    "    runtime_production = np.round(runtime_production, nb_round)\n",
    "    total = np.round(total, nb_round)\n",
    "    \n",
    "    \n",
    "    print(f\"Runtime evosax: {runtime_evosax} {extra_string}\")\n",
    "    print(f\"Runtime training: {runtime_training} {extra_string}\")\n",
    "    print(f\"Runtime production: {runtime_production} {extra_string}\")\n",
    "    print(f\"Total = {total} {extra_string}\")"
   ]
  },
  {
   "cell_type": "code",
   "execution_count": 378,
   "metadata": {},
   "outputs": [
    {
     "name": "stdout",
     "output_type": "stream",
     "text": [
      " ==== event ====\n",
      "GW170817_TaylorF2\n",
      "Runtime evosax: 9.7 minutes\n",
      "Runtime training: 9.82 minutes\n",
      "Runtime production: 0.19 minutes\n",
      "Total = 21.86 minutes\n",
      " ==== event ====\n",
      "GW170817_NRTidalv2\n",
      "Runtime evosax: 5.69 minutes\n",
      "Runtime training: 21.11 minutes\n",
      "Runtime production: 0.85 minutes\n",
      "Total = 30.87 minutes\n",
      " ==== event ====\n",
      "GW190425_TaylorF2\n",
      "Runtime evosax: 5.13 minutes\n",
      "Runtime training: 10.98 minutes\n",
      "Runtime production: 0.39 minutes\n",
      "Total = 19.05 minutes\n",
      " ==== event ====\n",
      "GW190425_NRTidalv2\n",
      "Runtime evosax: 6.15 minutes\n",
      "Runtime training: 11.59 minutes\n",
      "Runtime production: 0.48 minutes\n",
      "Total = 18.44 minutes\n"
     ]
    }
   ],
   "source": [
    "for name, path in paths_dict.items():\n",
    "    print(\" ==== event ====\")\n",
    "    print(name)\n",
    "    report_timings_real_event_jim(path)"
   ]
  },
  {
   "cell_type": "code",
   "execution_count": null,
   "metadata": {},
   "outputs": [],
   "source": []
  }
 ],
 "metadata": {
  "kernelspec": {
   "display_name": "Python 3",
   "language": "python",
   "name": "python3"
  },
  "language_info": {
   "codemirror_mode": {
    "name": "ipython",
    "version": 3
   },
   "file_extension": ".py",
   "mimetype": "text/x-python",
   "name": "python",
   "nbconvert_exporter": "python",
   "pygments_lexer": "ipython3",
   "version": "3.10.13"
  },
  "orig_nbformat": 4
 },
 "nbformat": 4,
 "nbformat_minor": 2
}
