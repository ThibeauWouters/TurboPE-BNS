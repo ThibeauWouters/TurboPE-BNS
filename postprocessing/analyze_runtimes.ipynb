{
 "cells": [
  {
   "cell_type": "markdown",
   "metadata": {},
   "source": [
    "# Analyze runtimes"
   ]
  },
  {
   "cell_type": "markdown",
   "metadata": {},
   "source": [
    "Analyze the runtimes of the injections we did"
   ]
  },
  {
   "cell_type": "markdown",
   "metadata": {},
   "source": [
    "## Preamble"
   ]
  },
  {
   "cell_type": "code",
   "execution_count": 172,
   "metadata": {},
   "outputs": [],
   "source": [
    "import psutil\n",
    "p = psutil.Process()\n",
    "p.cpu_affinity([0])\n",
    "import os\n",
    "import json\n",
    "os.environ[\"CUDA_VISIBLE_DEVICES\"] = \"-1\"\n",
    "\n",
    "import numpy as np \n",
    "import matplotlib.pyplot as plt\n",
    "from IPython.display import Latex\n",
    "\n",
    "params = {\"axes.grid\": True,\n",
    "        \"text.usetex\" : True,\n",
    "        \"font.family\" : \"serif\",\n",
    "        \"ytick.color\" : \"black\",\n",
    "        \"xtick.color\" : \"black\",\n",
    "        \"axes.labelcolor\" : \"black\",\n",
    "        \"axes.edgecolor\" : \"black\",\n",
    "        \"font.serif\" : [\"Computer Modern Serif\"],\n",
    "        \"xtick.labelsize\": 16,\n",
    "        \"ytick.labelsize\": 16,\n",
    "        \"axes.labelsize\": 16,\n",
    "        \"legend.fontsize\": 16,\n",
    "        \"legend.title_fontsize\": 16,\n",
    "        \"figure.titlesize\": 16}\n",
    "\n",
    "plt.rcParams.update(params)\n",
    "import copy"
   ]
  },
  {
   "cell_type": "code",
   "execution_count": 173,
   "metadata": {},
   "outputs": [],
   "source": [
    "outdirs_injections = {\"TF2\": \"../injections/outdir_TF2/\",\n",
    "                      \"NRTv2\": \"../injections/outdir_NRTv2/\"}\n",
    "\n",
    "jim_paths = {\"GW170817_TaylorF2\": \"../real_events/GW170817_TaylorF2/outdir/\",\n",
    "             \"GW170817_NRTidalv2\": \"../real_events/GW170817_NRTidalv2/outdir/\",\n",
    "             \"GW190425_TaylorF2\": \"../real_events/GW190425_TaylorF2/outdir/\",\n",
    "             \"GW190425_NRTidalv2\": \"../real_events/GW190425_NRTidalv2/outdir/\"}\n",
    "\n",
    "bilby_paths = {\"GW170817_TaylorF2\": \"/home/thibeau.wouters/jim_pbilby_samples/GW170817/GW170817-TF2_rejection_sampling_result.json\",\n",
    "               \"GW170817_NRTidalv2\": \"/home/thibeau.wouters/jim_pbilby_samples/GW170817/GW170817_IMRDNRTv2_older_bilby_result.json\",\n",
    "               \"GW190425_TaylorF2\": \"/home/thibeau.wouters/jim_pbilby_samples/GW190425/GW190425-TF2_result.json\",\n",
    "               \"GW190425_NRTidalv2\": \"/home/thibeau.wouters/jim_pbilby_samples/GW190425/GW190425_IMRDNRTv2_older_bilby_result.json\"}\n",
    "\n",
    "run_names = list(jim_paths.keys())"
   ]
  },
  {
   "cell_type": "code",
   "execution_count": 174,
   "metadata": {},
   "outputs": [],
   "source": [
    "def format_runtime(runtime_minutes: float, \n",
    "                   nb_round: int = 2) -> str:\n",
    "    \"\"\"\n",
    "    Simple function to format the runtime in minutes appropriately.\n",
    "\n",
    "    Args:\n",
    "        runtime_minutes (float): Runtime in minutes\n",
    "        nb_round (int, optional): Number of digits for rounding. Defaults to 2.\n",
    "\n",
    "    Returns:\n",
    "        str: Nicely formatted runtime\n",
    "    \"\"\"\n",
    "    runtime_string = str(np.round(runtime_minutes, nb_round))\n",
    "    if len(runtime_string) == 4:\n",
    "        runtime_string += \"0\"\n",
    "        \n",
    "    return runtime_string"
   ]
  },
  {
   "cell_type": "code",
   "execution_count": 175,
   "metadata": {},
   "outputs": [],
   "source": [
    "# def fetch_runtime_jim(event_name: str, \n",
    "#                       outdir_name: str,\n",
    "#                       nb_round: int = 2) -> tuple[float, str]:\n",
    "#     \"\"\"\n",
    "#     Fetch and format the runtime of analyzing one of the real events \n",
    "\n",
    "#     Args:\n",
    "#         event_name (str): Identifier of the event, format GW_WF, e.g. GW170817_TaylorF2\n",
    "#         outdir_name (str): Name of the outdir, e.g. `outdir`\n",
    "#         runtime_filename (str, optional): _description_. Defaults to \"runtime.txt\".\n",
    "#         nb_round (int, optional): _description_. Defaults to 2.\n",
    "\n",
    "#     Returns:\n",
    "#         tuple: Tuple of float value, being the runtime in seconds, and a string with the runtime in minutes\n",
    "#     \"\"\"\n",
    "#     # path = f\"../real_events/{event_name}/{outdir_name}/{runtime_filename}\"\n",
    "#     path = f\"../real_events/{event_name}/{outdir_name}/\"\n",
    "#     try:\n",
    "#         ext_list = [\"runtime_training.txt\", \"runtime_production.txt\"]\n",
    "#         runtimes = [np.loadtxt(path + ext) for ext in ext_list]\n",
    "#     except Exception as e:\n",
    "#         print(f\"Error: {e}\")\n",
    "#         ext_list = [\"runtime.txt\"]\n",
    "#         runtimes = [np.loadtxt(path + ext) for ext in ext_list]\n",
    "    \n",
    "#     runtime_seconds = np.sum(runtimes)\n",
    "#     runtime_minutes = runtime_seconds / 60\n",
    "#     runtime_string = format_runtime(runtime_minutes, nb_round)\n",
    "    \n",
    "#     return runtime_seconds, runtime_string"
   ]
  },
  {
   "cell_type": "code",
   "execution_count": 176,
   "metadata": {},
   "outputs": [],
   "source": [
    "def fetch_runtime_jim(run_dir: str,\n",
    "                      nb_round: int = 2) -> float:\n",
    "    \"\"\"\n",
    "    Fetch the runtime of a given run directory of a jim run.\n",
    "\n",
    "    Args:\n",
    "        run_dir (str): Directory of the run, i.e. the outdir\n",
    "\n",
    "    Returns:\n",
    "        float: Runtime.\n",
    "    \"\"\"\n",
    "    \n",
    "    # In case runtime for training and production are saved separately:\n",
    "    if os.path.exists(run_dir + \"/runtime_training.txt\") and os.path.exists(run_dir + \"/runtime_production.txt\"):\n",
    "        with open(run_dir + \"/runtime_training.txt\", \"r\") as f:\n",
    "            runtime_training = float(f.read())\n",
    "            \n",
    "        with open(run_dir + \"/runtime_production.txt\", \"r\") as f:\n",
    "            runtime_production = float(f.read())\n",
    "        \n",
    "        runtime_seconds = runtime_training + runtime_production\n",
    "        \n",
    "    else:\n",
    "        with open(run_dir + \"/runtime.txt\", \"r\") as f:\n",
    "            runtime_seconds = float(f.read())\n",
    "            \n",
    "    runtime_minutes = runtime_seconds / 60\n",
    "    runtime_string = format_runtime(runtime_minutes, nb_round)\n",
    "            \n",
    "    return runtime_seconds, runtime_string"
   ]
  },
  {
   "cell_type": "code",
   "execution_count": 177,
   "metadata": {},
   "outputs": [],
   "source": [
    "def fetch_runtime_bilby(event_name: str, \n",
    "                        nb_round: int = 2,\n",
    "                        convert_to_hours: bool = True) -> tuple[float, str]:\n",
    "    \"\"\"\n",
    "    Fetch and format the runtime of analyzing one of the real events for bilby. \n",
    "\n",
    "    Args:\n",
    "        event_name (str): Identifier of the event, format GW_WF, e.g. GW170817_TaylorF2\n",
    "        outdir_name (str): Name of the outdir, e.g. `outdir`\n",
    "        runtime_filename (str, optional): _description_. Defaults to \"runtime.txt\".\n",
    "        nb_round (int, optional): _description_. Defaults to 2.\n",
    "\n",
    "    Returns:\n",
    "        tuple: Tuple of float value, being the runtime in seconds, and a string with the runtime in minutes\n",
    "    \"\"\"\n",
    "    if event_name not in bilby_paths.keys():\n",
    "        raise ValueError(f\"Event {event_name} not in the list of events for which we have bilby runtimes\")\n",
    "    \n",
    "    path = bilby_paths[event_name]\n",
    "    with open(path, \"r\") as f:\n",
    "        bilby_data = json.load(f)\n",
    "        runtime_seconds = float(bilby_data[\"sampling_time\"])\n",
    "        \n",
    "    runtime_minutes = runtime_seconds / 60\n",
    "    if convert_to_hours:\n",
    "        runtime_minutes /= 60 # TODO fix the naming, or not, if I am too lazy in the end\n",
    "    runtime_string = format_runtime(runtime_minutes, nb_round)\n",
    "    \n",
    "    return runtime_seconds, runtime_string"
   ]
  },
  {
   "cell_type": "markdown",
   "metadata": {},
   "source": [
    "## Injections runtimes"
   ]
  },
  {
   "cell_type": "code",
   "execution_count": 178,
   "metadata": {},
   "outputs": [
    {
     "name": "stdout",
     "output_type": "stream",
     "text": [
      "Skipping ../injections/outdir_TF2/injection_54, error: [Errno 2] No such file or directory: '../injections/outdir_TF2/injection_54/runtime.txt'\n"
     ]
    }
   ],
   "source": [
    "runtimes_dict = {} \n",
    "\n",
    "for name in outdirs_injections.keys():\n",
    "    outdir = outdirs_injections[name]\n",
    "    runtimes = []\n",
    "    for subdir in os.listdir(outdir):\n",
    "        rundir = outdir + subdir\n",
    "        runtime_path = rundir + \"/runtime.txt\"\n",
    "        \n",
    "        try:\n",
    "            runtime, _ = fetch_runtime_jim(rundir)\n",
    "            runtimes.append(runtime)\n",
    "        except Exception as e:\n",
    "            print(f\"Skipping {rundir}, error: {e}\")\n",
    "            \n",
    "    runtimes_dict[name] = np.array(runtimes)"
   ]
  },
  {
   "cell_type": "markdown",
   "metadata": {},
   "source": [
    "Make a histogram of the runtimes, more as a sanity check for myself."
   ]
  },
  {
   "cell_type": "code",
   "execution_count": 179,
   "metadata": {},
   "outputs": [],
   "source": [
    "minutes = True # whether to convert runtimes to minutes rather than seconds\n",
    "\n",
    "if minutes:\n",
    "    denominator = 60\n",
    "else:\n",
    "    denominator = 1\n",
    "\n",
    "hist_TF2, edges = np.histogram(runtimes_dict[\"TF2\"] / denominator, bins = 20, density = True)\n",
    "hist_NRTv2, _ = np.histogram(runtimes_dict[\"NRTv2\"] / denominator, bins = edges, density = True)\n",
    "\n",
    "if minutes:\n",
    "    xlabel = \"Runtime (min)\"\n",
    "else:\n",
    "    xlabel = \"Runtime (s)\"\n",
    "\n",
    "stairs_kwargs = {\"linewidth\": 2}\n",
    "\n",
    "# Create the figure\n",
    "plt.figure(figsize=(10, 6))\n",
    "plt.stairs(hist_TF2, edges, label = \"TF2\", **stairs_kwargs)\n",
    "plt.stairs(hist_NRTv2, edges, label = \"NRTv2\", **stairs_kwargs)\n",
    "\n",
    "plt.legend()\n",
    "plt.xlabel(xlabel)\n",
    "plt.ylabel(\"Density\")\n",
    "# plt.show()\n",
    "plt.close()"
   ]
  },
  {
   "cell_type": "markdown",
   "metadata": {},
   "source": [
    "## Runtimes for compilation and initializing the likelihood"
   ]
  },
  {
   "cell_type": "code",
   "execution_count": 180,
   "metadata": {},
   "outputs": [
    {
     "name": "stdout",
     "output_type": "stream",
     "text": [
      "Compilation: mean +/- std: 2.59 +/- 0.33 minutes\n"
     ]
    }
   ],
   "source": [
    "runtimes_compilation_filename = \"../data/runtimes_compilation.txt\"\n",
    "runtimes_compilation = np.loadtxt(runtimes_compilation_filename, delimiter=\",\")\n",
    "\n",
    "compilation_mean, compilation_std = np.mean(runtimes_compilation), np.std(runtimes_compilation)\n",
    "print(f\"Compilation: mean +/- std: {compilation_mean / 60:.2f} +/- {compilation_std / 60:.2f} minutes\")\n",
    "\n",
    "compilation_mean_minutes = compilation_mean / 60"
   ]
  },
  {
   "cell_type": "markdown",
   "metadata": {},
   "source": [
    "## Final numbers"
   ]
  },
  {
   "cell_type": "markdown",
   "metadata": {},
   "source": [
    "Can subtract the time for compiling etc, if wanted:"
   ]
  },
  {
   "cell_type": "code",
   "execution_count": 181,
   "metadata": {},
   "outputs": [
    {
     "name": "stdout",
     "output_type": "stream",
     "text": [
      "Mean and std for TF2\n",
      "$(24.49 \\pm 12.18)$ min\n",
      "Median for TF2\n",
      "$22.17$ min\n",
      "Mean and std for NRTv2\n",
      "$(18.51 \\pm 9.160)$ min\n",
      "Median for NRTv2\n",
      "$15.43$ min\n"
     ]
    }
   ],
   "source": [
    "jim_runtimes_injections = {}\n",
    "jim_runtimes_injections_median = {}\n",
    "subtract_number = compilation_mean_minutes\n",
    "\n",
    "for name, runtimes in runtimes_dict.items():\n",
    "    \n",
    "    ### Mean +/- std:\n",
    "    mean_str = format_runtime(np.mean(runtimes / denominator) - subtract_number)\n",
    "    std_str = format_runtime(np.std(runtimes / denominator))\n",
    "    median_str = format_runtime(np.median(runtimes / denominator) - subtract_number)\n",
    "    \n",
    "    jim_runtime_str = r\"$({} \\pm {})$ min\".format(mean_str, std_str)\n",
    "    print(f\"Mean and std for {name}\")\n",
    "    print(jim_runtime_str)\n",
    "    jim_runtimes_injections[name] = jim_runtime_str\n",
    "    \n",
    "    ### Median:\n",
    "    jim_runtime_str = r\"${}$ min\".format(median_str)\n",
    "    print(f\"Median for {name}\")\n",
    "    print(jim_runtime_str)\n",
    "    \n",
    "    jim_runtimes_injections_median[name] = jim_runtime_str"
   ]
  },
  {
   "cell_type": "markdown",
   "metadata": {},
   "source": [
    "## Fetch jim runtimes"
   ]
  },
  {
   "cell_type": "code",
   "execution_count": 182,
   "metadata": {},
   "outputs": [
    {
     "name": "stdout",
     "output_type": "stream",
     "text": [
      "GW170817_TaylorF2\n",
      "../real_events/GW170817_TaylorF2/outdir/\n",
      "GW170817_NRTidalv2\n",
      "../real_events/GW170817_NRTidalv2/outdir/\n",
      "GW190425_TaylorF2\n",
      "../real_events/GW190425_TaylorF2/outdir/\n",
      "GW190425_NRTidalv2\n",
      "../real_events/GW190425_NRTidalv2/outdir/\n"
     ]
    }
   ],
   "source": [
    "jim_runtimes_float = {}\n",
    "jim_runtimes_str = {}\n",
    "\n",
    "for run in run_names:\n",
    "    print(run)\n",
    "    path = jim_paths[run]\n",
    "    print(path)\n",
    "    runtime_float, runtime_str = fetch_runtime_jim(path)\n",
    "    jim_runtimes_float[run] = runtime_float\n",
    "    jim_runtimes_str[run] = runtime_str"
   ]
  },
  {
   "cell_type": "markdown",
   "metadata": {},
   "source": [
    "## Fetch pbilby runtimes"
   ]
  },
  {
   "cell_type": "code",
   "execution_count": 183,
   "metadata": {},
   "outputs": [],
   "source": [
    "# Override with the numbers obtained from the log file of the runs instead:\n",
    "bilby_runtimes_total = {}\n",
    "bilby_runtimes_total[\"GW170817_TaylorF2\"]  = 0.0\n",
    "bilby_runtimes_total[\"GW170817_NRTidalv2\"] = 12 * (60) ** 2 + 34 * 60 + 15\n",
    "bilby_runtimes_total[\"GW190425_TaylorF2\"]  = 0.0\n",
    "bilby_runtimes_total[\"GW190425_NRTidalv2\"] =  5 * (60) ** 2 + 39 * 60 + 38"
   ]
  },
  {
   "cell_type": "code",
   "execution_count": 184,
   "metadata": {},
   "outputs": [],
   "source": [
    "bilby_runtimes_float = {}\n",
    "bilby_runtimes_str = {}\n",
    "for key, path in bilby_paths.items():\n",
    "    runtime_float = bilby_runtimes_total[key]\n",
    "    runtime_minutes = runtime_float / 60\n",
    "    runtime_string = format_runtime(runtime_minutes, 2)\n",
    "        \n",
    "    bilby_runtimes_float[key] = runtime_float\n",
    "    bilby_runtimes_str[key] = runtime_str"
   ]
  },
  {
   "cell_type": "code",
   "execution_count": 185,
   "metadata": {},
   "outputs": [],
   "source": [
    "# Add dollar signs and minute string\n",
    "for key, value in jim_runtimes_str.items():\n",
    "    jim_runtimes_str[key] = f\"${value}$ min\""
   ]
  },
  {
   "cell_type": "code",
   "execution_count": 186,
   "metadata": {},
   "outputs": [],
   "source": [
    "assert list(jim_runtimes_float.keys()) == list(bilby_runtimes_float.keys())\n",
    "assert list(jim_runtimes_str.keys()) == list(bilby_runtimes_str.keys())"
   ]
  },
  {
   "cell_type": "markdown",
   "metadata": {},
   "source": [
    "Put hours in the formatting for pbilby"
   ]
  },
  {
   "cell_type": "code",
   "execution_count": 187,
   "metadata": {},
   "outputs": [],
   "source": [
    "for key, value in bilby_runtimes_str.items():\n",
    "    bilby_runtimes_str[key] = f\"${value}$ h\""
   ]
  },
  {
   "cell_type": "markdown",
   "metadata": {},
   "source": [
    "## Get the ratio of runtimes"
   ]
  },
  {
   "cell_type": "code",
   "execution_count": 188,
   "metadata": {},
   "outputs": [
    {
     "name": "stdout",
     "output_type": "stream",
     "text": [
      "0.0\n",
      "39.39925638160177\n",
      "0.0\n",
      "17.423311104088803\n"
     ]
    }
   ],
   "source": [
    "runtimes_ratio_float = {}\n",
    "runtimes_ratio_str = {}\n",
    "\n",
    "for key in jim_runtimes_float.keys():\n",
    "    ratio = bilby_runtimes_float[key] / jim_runtimes_float[key]\n",
    "    runtimes_ratio_float[key] = ratio\n",
    "    print(ratio)\n",
    "    runtimes_ratio_str[key] = f\"${int(ratio)} \\\\times $\""
   ]
  },
  {
   "cell_type": "markdown",
   "metadata": {},
   "source": [
    "## Combine into table"
   ]
  },
  {
   "cell_type": "code",
   "execution_count": 189,
   "metadata": {},
   "outputs": [
    {
     "name": "stdout",
     "output_type": "stream",
     "text": [
      "\\begin{tabular}{l l c c c}\n",
      " Event & Waveform & \\texttt{jim} & \\texttt{pbilby} (480 cores) & Speedup \\\\\n",
      " \\hline\\hline\n",
      "\\multirow{2}{*}{GW170817} & TF2 & $25.72$ min & $19.49$ h & $0 \\times $ \\\\\n",
      " & NRTv2 & $19.14$ min & $19.49$ h & $39 \\times $ \\\\ \\hline\n",
      "\\multirow{2}{*}{GW190425}  & TF2 & $45.76$ min & $19.49$ h & $0 \\times $ \\\\ \n",
      " & NRTv2 & $19.49$ min & $19.49$ h & $17 \\times $ \\\\ \\hline\n",
      "\\multirow{2}{*}{Injection} & TF2 & $(24.49 \\pm 12.18)$ min & -- & -- \\\\\n",
      "& NRTv2 & $(18.51 \\pm 9.160)$ min & -- & -- \\\\\n",
      "\\hline\\hline\n",
      "\\end{tabular}\n"
     ]
    }
   ],
   "source": [
    "latex_code = '\\\\begin{{tabular}}{{l l c c c}}\\n Event & Waveform & \\\\texttt{{jim}} & \\\\texttt{{pbilby}} (480 cores) & Speedup \\\\\\\\\\n \\hline\\\\hline\\n\\\\multirow{{2}}{{*}}{{GW170817}} & TF2 & {} & {} & {} \\\\\\\\\\n & NRTv2 & {} & {} & {} \\\\\\\\ \\hline\\n\\\\multirow{{2}}{{*}}{{GW190425}}  & TF2 & {} & {} & {} \\\\\\\\ \\n & NRTv2 & {} & {} & {} \\\\\\\\ \\hline\\n\\\\multirow{{2}}{{*}}{{Injection}} & TF2 & {} & -- & -- \\\\\\\\\\n& NRTv2 & {} & -- & -- \\\\\\\\\\n\\\\hline\\\\hline\\n\\\\end{{tabular}}'\\\n",
    ".format(  jim_runtimes_str[\"GW170817_TaylorF2\"],\n",
    "        bilby_runtimes_str[\"GW170817_TaylorF2\"],\n",
    "        runtimes_ratio_str[\"GW170817_TaylorF2\"],\n",
    "          jim_runtimes_str[\"GW170817_NRTidalv2\"],\n",
    "        bilby_runtimes_str[\"GW170817_NRTidalv2\"], \n",
    "        runtimes_ratio_str[\"GW170817_NRTidalv2\"],\n",
    "          jim_runtimes_str[\"GW190425_TaylorF2\"], \n",
    "        bilby_runtimes_str[\"GW190425_TaylorF2\"], \n",
    "        runtimes_ratio_str[\"GW190425_TaylorF2\"],\n",
    "          jim_runtimes_str[\"GW190425_NRTidalv2\"], \n",
    "        bilby_runtimes_str[\"GW190425_NRTidalv2\"],\n",
    "        runtimes_ratio_str[\"GW190425_NRTidalv2\"], \n",
    "        jim_runtimes_injections[\"TF2\"], \n",
    "        jim_runtimes_injections[\"NRTv2\"]\n",
    "       )\n",
    "\n",
    "print(latex_code)"
   ]
  },
  {
   "cell_type": "markdown",
   "metadata": {},
   "source": [
    "## Electricity consumption"
   ]
  },
  {
   "cell_type": "markdown",
   "metadata": {},
   "source": [
    "[Source](https://ark.intel.com/content/www/us/en/ark/products/136874/intel-xeon-platinum-8174-processor-33m-cache-3-10-ghz.html) for cluster\n",
    "\n",
    "Conversions: taken from the [following webpage](https://git.ligo.org/lscsoft/parallel_bilby/-/wikis/O4-Review#pbilby-201-202):\n",
    "\n",
    "\"For the capture of 1 tonne of CO2 emissions ~50 trees must grow for one year [1]\n",
    "^using 0.905 kg of CO2 per kilowatt hour [2], and 0.3kWh/hr per CPU.\"\n",
    "\n",
    "[1] https://www.climateneutralgroup.com/en/news/what-exactly-is-1-tonne-of-co2-v2/\n",
    "\n",
    "[2] https://www.dcceew.gov.au/climate-change/publications/national-greenhouse-gas-inventory-quarterly-updates"
   ]
  },
  {
   "cell_type": "code",
   "execution_count": 190,
   "metadata": {},
   "outputs": [],
   "source": [
    "kwh_to_co2 = 0.905 # kg CO2 per kWh\n",
    "co2_to_trees = (1 / 1000) * 50 # trees per kg CO2, growing for one year\n",
    "\n",
    "consumption_cpu = 0.240 # kilowatts\n",
    "consumption_gpu = 0.400 # kilowatts\n",
    "N_cores = 480\n",
    "N_runs = 204"
   ]
  },
  {
   "cell_type": "code",
   "execution_count": 191,
   "metadata": {},
   "outputs": [
    {
     "name": "stdout",
     "output_type": "stream",
     "text": [
      "Consumption for GW170817_TaylorF2: 0.10 kWh\n",
      "Consumption for GW170817_NRTidalv2: 0.08 kWh\n",
      "Consumption for GW190425_TaylorF2: 0.18 kWh\n",
      "Consumption for GW190425_NRTidalv2: 0.08 kWh\n"
     ]
    }
   ],
   "source": [
    "consumption_jim = {}\n",
    "for key in jim_runtimes_float.keys():\n",
    "    consumption_jim[key] = 1 * consumption_cpu * (jim_runtimes_float[key] / 3600)\n",
    "    \n",
    "for key, value in consumption_jim.items():\n",
    "    print(f\"Consumption for {key}: {value:.2f} kWh\")"
   ]
  },
  {
   "cell_type": "code",
   "execution_count": 192,
   "metadata": {},
   "outputs": [
    {
     "name": "stdout",
     "output_type": "stream",
     "text": [
      "Consumption for GW170817_TaylorF2: 0.00 kWh\n",
      "Consumption for GW170817_NRTidalv2: 1448.16 kWh\n",
      "Consumption for GW190425_TaylorF2: 0.00 kWh\n",
      "Consumption for GW190425_NRTidalv2: 652.10 kWh\n"
     ]
    }
   ],
   "source": [
    "consumption_bilby = {}\n",
    "for key in bilby_runtimes_float.keys():\n",
    "    consumption_bilby[key] = N_cores * consumption_cpu * (bilby_runtimes_float[key] / 3600)\n",
    "    \n",
    "for key, value in consumption_bilby.items():\n",
    "    print(f\"Consumption for {key}: {value:.2f} kWh\")"
   ]
  },
  {
   "cell_type": "code",
   "execution_count": 193,
   "metadata": {},
   "outputs": [
    {
     "name": "stdout",
     "output_type": "stream",
     "text": [
      "Consumption for GW170817_TaylorF2: 0 x\n",
      "Consumption for GW170817_NRTidalv2: 18912 x\n",
      "Consumption for GW190425_TaylorF2: 0 x\n",
      "Consumption for GW190425_NRTidalv2: 8363 x\n"
     ]
    }
   ],
   "source": [
    "consumption_ratio = {}\n",
    "for key in consumption_jim.keys():\n",
    "    consumption_ratio[key] = int(np.round(consumption_bilby[key] / consumption_jim[key]))\n",
    "    \n",
    "for key, value in consumption_ratio.items():\n",
    "    print(f\"Consumption for {key}: {value} x\")"
   ]
  },
  {
   "cell_type": "markdown",
   "metadata": {},
   "source": [
    "Convert to trees now"
   ]
  },
  {
   "cell_type": "code",
   "execution_count": 194,
   "metadata": {},
   "outputs": [],
   "source": [
    "def get_number_of_killed_trees(kwh: float) -> float:\n",
    "    \"\"\"\n",
    "    Get the number of trees killed by the energy consumption of our runs in kWh.\n",
    "\n",
    "    Args:\n",
    "        kwh (float): Energy consumption in kWh\n",
    "\n",
    "    Returns:\n",
    "        float: Number of trees killed\n",
    "    \"\"\"\n",
    "    return kwh * kwh_to_co2 * co2_to_trees"
   ]
  },
  {
   "cell_type": "code",
   "execution_count": 195,
   "metadata": {},
   "outputs": [
    {
     "name": "stdout",
     "output_type": "stream",
     "text": [
      "Trees killed for GW170817_TaylorF2: 0.00465\n",
      "Trees killed for GW170817_NRTidalv2: 0.00347\n",
      "Trees killed for GW190425_TaylorF2: 0.00828\n",
      "Trees killed for GW190425_NRTidalv2: 0.00353\n"
     ]
    }
   ],
   "source": [
    "trees_jim = {}\n",
    "for key, value in consumption_jim.items():\n",
    "    trees_jim[key] = get_number_of_killed_trees(value)\n",
    "    \n",
    "for key, value in trees_jim.items():\n",
    "    print(f\"Trees killed for {key}: {value:.5f}\")\n",
    "    \n",
    "# Find the average:\n",
    "avg_nb_killed_trees_jim = np.mean(list(trees_jim.values()))"
   ]
  },
  {
   "cell_type": "code",
   "execution_count": 196,
   "metadata": {},
   "outputs": [
    {
     "name": "stdout",
     "output_type": "stream",
     "text": [
      "Trees killed for GW170817_TaylorF2: 0.00\n",
      "Trees killed for GW170817_NRTidalv2: 65.53\n",
      "Trees killed for GW190425_TaylorF2: 0.00\n",
      "Trees killed for GW190425_NRTidalv2: 29.51\n"
     ]
    }
   ],
   "source": [
    "trees_bilby = {}\n",
    "for key, value in consumption_bilby.items():\n",
    "    trees_bilby[key] = get_number_of_killed_trees(value)\n",
    "    \n",
    "for key, value in trees_bilby.items():\n",
    "    print(f\"Trees killed for {key}: {value:.2f}\")"
   ]
  },
  {
   "cell_type": "markdown",
   "metadata": {},
   "source": [
    "For a comparison about the whole paper, just use this average and the number of runs done to allow for an easier comparison between the 2:"
   ]
  },
  {
   "cell_type": "code",
   "execution_count": 197,
   "metadata": {},
   "outputs": [
    {
     "name": "stdout",
     "output_type": "stream",
     "text": [
      "Average number of killed trees for writing the paper with   jim: 1.02\n",
      "Average number of killed trees for writing the paper with bilby: 4846.87\n"
     ]
    }
   ],
   "source": [
    "avg_nb_killed_trees_jim = np.mean(list(trees_jim.values()))\n",
    "avg_nb_killed_trees_bilby = np.mean(list(trees_bilby.values()))\n",
    "\n",
    "print(f\"Average number of killed trees for writing the paper with   jim: {(N_runs * avg_nb_killed_trees_jim):.2f}\")\n",
    "print(f\"Average number of killed trees for writing the paper with bilby: {(N_runs * avg_nb_killed_trees_bilby):.2f}\")"
   ]
  }
 ],
 "metadata": {
  "kernelspec": {
   "display_name": "Python 3",
   "language": "python",
   "name": "python3"
  },
  "language_info": {
   "codemirror_mode": {
    "name": "ipython",
    "version": 3
   },
   "file_extension": ".py",
   "mimetype": "text/x-python",
   "name": "python",
   "nbconvert_exporter": "python",
   "pygments_lexer": "ipython3",
   "version": "3.10.13"
  },
  "orig_nbformat": 4
 },
 "nbformat": 4,
 "nbformat_minor": 2
}
