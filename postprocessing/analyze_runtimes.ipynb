{
 "cells": [
  {
   "cell_type": "markdown",
   "metadata": {},
   "source": [
    "# Analyze runtimes"
   ]
  },
  {
   "cell_type": "markdown",
   "metadata": {},
   "source": [
    "Analyze the runtimes of the injections we did"
   ]
  },
  {
   "cell_type": "markdown",
   "metadata": {},
   "source": [
    "## Preamble"
   ]
  },
  {
   "cell_type": "code",
   "execution_count": 24,
   "metadata": {},
   "outputs": [],
   "source": [
    "import psutil\n",
    "p = psutil.Process()\n",
    "p.cpu_affinity([0])\n",
    "import os\n",
    "os.environ[\"CUDA_VISIBLE_DEVICES\"] = \"-1\"\n",
    "import json\n",
    "import h5py\n",
    "\n",
    "import numpy as np \n",
    "import matplotlib.pyplot as plt\n",
    "from IPython.display import Latex\n",
    "\n",
    "params = {\"axes.grid\": True,\n",
    "        \"text.usetex\" : True,\n",
    "        \"font.family\" : \"serif\",\n",
    "        \"ytick.color\" : \"black\",\n",
    "        \"xtick.color\" : \"black\",\n",
    "        \"axes.labelcolor\" : \"black\",\n",
    "        \"axes.edgecolor\" : \"black\",\n",
    "        \"font.serif\" : [\"Computer Modern Serif\"],\n",
    "        \"xtick.labelsize\": 16,\n",
    "        \"ytick.labelsize\": 16,\n",
    "        \"axes.labelsize\": 16,\n",
    "        \"legend.fontsize\": 16,\n",
    "        \"legend.title_fontsize\": 16,\n",
    "        \"figure.titlesize\": 16}\n",
    "\n",
    "plt.rcParams.update(params)\n",
    "import copy\n",
    "\n",
    "# from utils_compare_runs import paths_dict"
   ]
  },
  {
   "cell_type": "code",
   "execution_count": 25,
   "metadata": {},
   "outputs": [],
   "source": [
    "outdirs_injections = {\"TF2\": \"../injections/outdir_TF2/\",\n",
    "                      \"NRTv2\": \"../injections/outdir_NRTv2/\"}\n",
    "\n",
    "jim_root_path = \"/home/thibeau.wouters/TurboPE-BNS/real_events/\"\n",
    "bilby_root_path = \"/home/thibeau.wouters/jim_pbilby_samples/older_bilby_version/\"\n",
    "paths_dict = {\"GW170817_TaylorF2\": {\"jim\": jim_root_path + \"GW170817_TaylorF2/outdir_snellius/\",\n",
    "                    \"bilby\": bilby_root_path + \"GW170817_TF2_with_tukey_fix_result.json\"},\n",
    "              \n",
    "              \"GW170817_NRTidalv2\": {\"jim\": jim_root_path + \"GW170817_NRTidalv2/outdir_snellius/\",\n",
    "                                     \"bilby\": bilby_root_path + \"GW170817_IMRPhenomD_NRTidalv2_result.json\",\n",
    "                    },\n",
    "              \n",
    "              \"GW190425_TaylorF2\": {\"jim\": jim_root_path + \"GW190425_TaylorF2/outdir_snellius/\",\n",
    "                                    \"bilby\": bilby_root_path + \"GW190425_TF2_with_tukey_fix_result.json\",\n",
    "                    },\n",
    "              \n",
    "              \"GW190425_NRTidalv2\": {\"jim\": jim_root_path + \"GW190425_NRTidalv2/outdir_snellius/\",\n",
    "                                     \"bilby\": bilby_root_path + \"GW190425_IMRPhenomD_NRTidalv2_result.json\",\n",
    "                    },\n",
    "}\n",
    "\n",
    "### Old version\n",
    "# jim_paths = {\"GW170817_TaylorF2\": \"../real_events/GW170817_TaylorF2/outdir/\",\n",
    "#              \"GW170817_NRTidalv2\": \"../real_events/GW170817_NRTidalv2/outdir/\",\n",
    "#              \"GW190425_TaylorF2\": \"../real_events/GW190425_TaylorF2/outdir/\",\n",
    "#              \"GW190425_NRTidalv2\": \"../real_events/GW190425_NRTidalv2/outdir/\"}\n",
    "\n",
    "# bilby_paths = {\"GW170817_TaylorF2\": \"/home/thibeau.wouters/jim_pbilby_samples/GW170817/GW170817-TF2_rejection_sampling_result.json\",\n",
    "#                \"GW170817_NRTidalv2\": \"/home/thibeau.wouters/jim_pbilby_samples/GW170817/GW170817_IMRDNRTv2_older_bilby_result.json\",\n",
    "#                \"GW190425_TaylorF2\": \"/home/thibeau.wouters/jim_pbilby_samples/GW190425/GW190425-TF2_result.json\",\n",
    "#                \"GW190425_NRTidalv2\": \"/home/thibeau.wouters/jim_pbilby_samples/GW190425/GW190425_IMRDNRTv2_older_bilby_result.json\"}\n",
    "\n",
    "# run_names = list(jim_paths.keys())"
   ]
  },
  {
   "cell_type": "code",
   "execution_count": 26,
   "metadata": {},
   "outputs": [],
   "source": [
    "def format_runtime(runtime_minutes: float, \n",
    "                   nb_round: int = 2) -> str:\n",
    "    \"\"\"\n",
    "    Simple function to format the runtime in minutes appropriately.\n",
    "\n",
    "    Args:\n",
    "        runtime_minutes (float): Runtime in minutes\n",
    "        nb_round (int, optional): Number of digits for rounding. Defaults to 2.\n",
    "\n",
    "    Returns:\n",
    "        str: Nicely formatted runtime\n",
    "    \"\"\"\n",
    "    runtime_string = str(np.round(runtime_minutes, nb_round))\n",
    "    before, after = runtime_string.split(\".\")\n",
    "    if len(after) == 1:\n",
    "        runtime_string = before + \".\" + after + \"0\" \n",
    "        \n",
    "    if len(runtime_string) == 4:\n",
    "        runtime_string = \"\\\\phantom{0}\" + runtime_string\n",
    "        \n",
    "    return runtime_string"
   ]
  },
  {
   "cell_type": "code",
   "execution_count": 27,
   "metadata": {},
   "outputs": [],
   "source": [
    "def fetch_runtime_injection(run_dir: str,\n",
    "                      nb_round: int = 2) -> float:\n",
    "    \"\"\"\n",
    "    Fetch the runtime of a given run directory of a jim run.\n",
    "\n",
    "    Args:\n",
    "        run_dir (str): Directory of the run, i.e. the outdir\n",
    "\n",
    "    Returns:\n",
    "        float: Runtime.\n",
    "    \"\"\"\n",
    "    \n",
    "    # Fetch runtimes of the individual parts:\n",
    "    with open(run_dir + \"/runtime.txt\", \"r\") as f:\n",
    "        runtime_seconds = float(f.read())\n",
    "        \n",
    "    runtime_minutes = runtime_seconds / 60\n",
    "    runtime_string = format_runtime(runtime_minutes, nb_round)\n",
    "            \n",
    "    return runtime_seconds, runtime_string"
   ]
  },
  {
   "cell_type": "code",
   "execution_count": 28,
   "metadata": {},
   "outputs": [],
   "source": [
    "def fetch_runtime_event(run_dir: str,\n",
    "                      nb_round: int = 2) -> float:\n",
    "    \"\"\"\n",
    "    Fetch the runtime of a given run directory of a jim run.\n",
    "\n",
    "    Args:\n",
    "        run_dir (str): Directory of the run, i.e. the outdir\n",
    "\n",
    "    Returns:\n",
    "        float: Runtime.\n",
    "    \"\"\"\n",
    "    \n",
    "    # Fetch runtimes of the individual parts:\n",
    "    with open(run_dir + \"/runtime.txt\", \"r\") as f:\n",
    "        runtime_seconds = float(f.read())\n",
    "        \n",
    "    # Note: the reruns were done with 1000 loops for evosax, but the fixed ref params used 2000 loops, so adding that once more\n",
    "    with open(run_dir + \"/runtime_evosax.txt\", \"r\") as f:\n",
    "        runtime_seconds += float(f.read())\n",
    "        \n",
    "    runtime_minutes = runtime_seconds / 60\n",
    "    runtime_string = format_runtime(runtime_minutes, nb_round)\n",
    "            \n",
    "    return runtime_seconds, runtime_string"
   ]
  },
  {
   "cell_type": "code",
   "execution_count": 29,
   "metadata": {},
   "outputs": [],
   "source": [
    "def fetch_runtime_evosax_event(run_dir: str,\n",
    "                               nb_round: int = 2) -> float:\n",
    "    \"\"\"\n",
    "    Fetch the runtime of a given real event run spent only on the evosax (computing reference parameters).\n",
    "\n",
    "    Args:\n",
    "        run_dir (str): Directory of the run, i.e. the outdir\n",
    "\n",
    "    Returns:\n",
    "        float: Runtime.\n",
    "    \"\"\"\n",
    "    \n",
    "    # Note: the reruns were done with 1000 loops for evosax, but the fixed ref params used 2000 loops, so adding that once more\n",
    "    with open(run_dir + \"/runtime_evosax.txt\", \"r\") as f:\n",
    "        runtime_seconds = 2 * float(f.read())\n",
    "        \n",
    "    runtime_minutes = runtime_seconds / 60\n",
    "    runtime_string = format_runtime(runtime_minutes, nb_round)\n",
    "            \n",
    "    return runtime_seconds, runtime_string"
   ]
  },
  {
   "cell_type": "code",
   "execution_count": 30,
   "metadata": {},
   "outputs": [],
   "source": [
    "def fetch_runtime_bilby(event_name: str, \n",
    "                        nb_round: int = 2,\n",
    "                        convert_to_hours: bool = True) -> tuple[float, str]:\n",
    "    \"\"\"\n",
    "    Fetch and format the runtime of analyzing one of the real events for bilby. \n",
    "\n",
    "    Args:\n",
    "        event_name (str): Identifier of the event, format GW_WF, e.g. GW170817_TaylorF2\n",
    "        outdir_name (str): Name of the outdir, e.g. `outdir`\n",
    "        runtime_filename (str, optional): _description_. Defaults to \"runtime.txt\".\n",
    "        nb_round (int, optional): _description_. Defaults to 2.\n",
    "\n",
    "    Returns:\n",
    "        tuple: Tuple of float value, being the runtime in seconds, and a string with the runtime in minutes\n",
    "    \"\"\"\n",
    "    \n",
    "    path = paths_dict[event_name][\"bilby\"]\n",
    "    print(f\"Bilby path: {path}\")\n",
    "    with open(path, \"r\") as f:\n",
    "        bilby_data = json.load(f)\n",
    "        runtime_seconds = float(bilby_data[\"sampling_time\"])\n",
    "        \n",
    "    runtime_minutes = runtime_seconds / 60\n",
    "    if convert_to_hours:\n",
    "        runtime_minutes /= 60 # TODO fix the naming, or not, if I am too lazy in the end\n",
    "    runtime_string = format_runtime(runtime_minutes, nb_round)\n",
    "    \n",
    "    return runtime_seconds, runtime_string"
   ]
  },
  {
   "cell_type": "markdown",
   "metadata": {},
   "source": [
    "## Injections runtimes"
   ]
  },
  {
   "cell_type": "code",
   "execution_count": 31,
   "metadata": {},
   "outputs": [
    {
     "name": "stdout",
     "output_type": "stream",
     "text": [
      "Skipping ../injections/outdir_TF2/injection_54, error: [Errno 2] No such file or directory: '../injections/outdir_TF2/injection_54/runtime.txt'\n"
     ]
    }
   ],
   "source": [
    "runtimes_dict = {} \n",
    "\n",
    "for name in outdirs_injections.keys():\n",
    "    outdir = outdirs_injections[name]\n",
    "    runtimes = []\n",
    "    for subdir in os.listdir(outdir):\n",
    "        rundir = outdir + subdir\n",
    "        runtime_path = rundir + \"/runtime.txt\"\n",
    "        \n",
    "        try:\n",
    "            runtime, _ = fetch_runtime_injection(rundir)\n",
    "            runtimes.append(runtime)\n",
    "        except Exception as e:\n",
    "            print(f\"Skipping {rundir}, error: {e}\")\n",
    "            \n",
    "    runtimes_dict[name] = np.array(runtimes)"
   ]
  },
  {
   "cell_type": "markdown",
   "metadata": {},
   "source": [
    "Make a histogram of the runtimes, more as a sanity check for myself."
   ]
  },
  {
   "cell_type": "code",
   "execution_count": 32,
   "metadata": {},
   "outputs": [],
   "source": [
    "minutes = True # whether to convert runtimes to minutes rather than seconds\n",
    "\n",
    "if minutes:\n",
    "    denominator = 60\n",
    "else:\n",
    "    denominator = 1\n",
    "\n",
    "hist_TF2, edges = np.histogram(runtimes_dict[\"TF2\"] / denominator, bins = 20, density = True)\n",
    "hist_NRTv2, _ = np.histogram(runtimes_dict[\"NRTv2\"] / denominator, bins = edges, density = True)\n",
    "\n",
    "if minutes:\n",
    "    xlabel = \"Runtime (min)\"\n",
    "else:\n",
    "    xlabel = \"Runtime (s)\"\n",
    "\n",
    "stairs_kwargs = {\"linewidth\": 2}\n",
    "\n",
    "# Create the figure\n",
    "plt.figure(figsize=(10, 6))\n",
    "plt.stairs(hist_TF2, edges, label = \"TF2\", **stairs_kwargs)\n",
    "plt.stairs(hist_NRTv2, edges, label = \"NRTv2\", **stairs_kwargs)\n",
    "\n",
    "plt.legend()\n",
    "plt.xlabel(xlabel)\n",
    "plt.ylabel(\"Density\")\n",
    "# plt.show()\n",
    "plt.close()"
   ]
  },
  {
   "cell_type": "markdown",
   "metadata": {},
   "source": [
    "## Runtimes for compilation and initializing the likelihood"
   ]
  },
  {
   "cell_type": "code",
   "execution_count": 33,
   "metadata": {},
   "outputs": [
    {
     "name": "stdout",
     "output_type": "stream",
     "text": [
      "Compilation: mean +/- std: 2.59 +/- 0.33 minutes\n"
     ]
    }
   ],
   "source": [
    "runtimes_compilation_filename = \"../data/runtimes_compilation.txt\"\n",
    "runtimes_compilation = np.loadtxt(runtimes_compilation_filename, delimiter=\",\")\n",
    "\n",
    "compilation_mean, compilation_std = np.mean(runtimes_compilation), np.std(runtimes_compilation)\n",
    "print(f\"Compilation: mean +/- std: {compilation_mean / 60:.2f} +/- {compilation_std / 60:.2f} minutes\")\n",
    "\n",
    "compilation_mean_minutes = compilation_mean / 60"
   ]
  },
  {
   "cell_type": "markdown",
   "metadata": {},
   "source": [
    "## Final numbers"
   ]
  },
  {
   "cell_type": "markdown",
   "metadata": {},
   "source": [
    "Can subtract the time for compiling etc, if wanted:"
   ]
  },
  {
   "cell_type": "code",
   "execution_count": 34,
   "metadata": {},
   "outputs": [
    {
     "name": "stdout",
     "output_type": "stream",
     "text": [
      "Mean and std for TF2\n",
      "$(27.09 \\pm 12.18)$ min\n",
      "Median for TF2\n",
      "24.758970030148824\n",
      "$24.76$ min\n",
      "Mean and std for NRTv2\n",
      "$(21.10 \\pm \\phantom{0}9.16)$ min\n",
      "Median for NRTv2\n",
      "18.02008366982142\n",
      "$18.02$ min\n"
     ]
    }
   ],
   "source": [
    "jim_runtimes_injections_float = {} # in seconds\n",
    "jim_runtimes_injections = {}\n",
    "jim_runtimes_injections_median = {}\n",
    "jim_runtimes_injections_median_str = {}\n",
    "subtract_number = compilation_mean_minutes # in case we want to extract the compilation time for reporting in the paper\n",
    "subtract_number = 0 # in case we DO NOT want to extract the compilation time for reporting in the paper\n",
    "\n",
    "jim_total_runtime_injections = 0\n",
    "\n",
    "for name, runtimes in runtimes_dict.items():\n",
    "    \n",
    "    # subtract compilation time in seconds\n",
    "    jim_total_runtime_injections += np.sum(runtimes - subtract_number * 60)\n",
    "    \n",
    "    ### Mean +/- std:\n",
    "    mean_str = format_runtime(np.mean(runtimes / denominator) - subtract_number)\n",
    "    std_str = format_runtime(np.std(runtimes / denominator))\n",
    "    median_value = np.median(runtimes / denominator) - subtract_number\n",
    "    median_str = format_runtime(median_value)\n",
    "    \n",
    "    jim_runtimes_injections_float[name] = np.mean(runtimes) # in seconds\n",
    "    jim_runtime_str = r\"$({} \\pm {})$ min\".format(mean_str, std_str)\n",
    "    print(f\"Mean and std for {name}\")\n",
    "    print(jim_runtime_str)\n",
    "    jim_runtimes_injections[name] = jim_runtime_str\n",
    "    \n",
    "    ### Median:\n",
    "    median_str = r\"${}$ min\".format(median_str)\n",
    "    \n",
    "    jim_runtimes_injections_median[name] = median_value\n",
    "    jim_runtimes_injections_median_str[name] = median_str\n",
    "    \n",
    "    # Print\n",
    "    print(f\"Median for {name}\")\n",
    "    print(median_value)\n",
    "    print(median_str)"
   ]
  },
  {
   "cell_type": "markdown",
   "metadata": {},
   "source": [
    "## Fetch jim runtimes"
   ]
  },
  {
   "cell_type": "code",
   "execution_count": 35,
   "metadata": {},
   "outputs": [
    {
     "name": "stdout",
     "output_type": "stream",
     "text": [
      "['GW170817_TaylorF2', 'GW170817_NRTidalv2', 'GW190425_TaylorF2', 'GW190425_NRTidalv2']\n",
      "GW170817_TaylorF2\n",
      "Fetching runtimes from run: /home/thibeau.wouters/TurboPE-BNS/real_events/GW170817_TaylorF2/outdir_snellius/\n",
      "1602.3845567703247\n",
      "582.1537246704102\n",
      "GW170817_NRTidalv2\n",
      "Fetching runtimes from run: /home/thibeau.wouters/TurboPE-BNS/real_events/GW170817_NRTidalv2/outdir_snellius/\n",
      "2022.7856409549713\n",
      "341.49449348449707\n",
      "GW190425_TaylorF2\n",
      "Fetching runtimes from run: /home/thibeau.wouters/TurboPE-BNS/real_events/GW190425_TaylorF2/outdir_snellius/\n",
      "1296.861796617508\n",
      "307.6143078804016\n",
      "GW190425_NRTidalv2\n",
      "Fetching runtimes from run: /home/thibeau.wouters/TurboPE-BNS/real_events/GW190425_NRTidalv2/outdir_snellius/\n",
      "1291.1365008354187\n",
      "368.90935134887695\n"
     ]
    }
   ],
   "source": [
    "run_names = list(paths_dict.keys())\n",
    "print(run_names)\n",
    "\n",
    "jim_runtimes_float = {}\n",
    "jim_runtimes_str = {}\n",
    "\n",
    "jim_runtimes_float_evosax = {}\n",
    "jim_runtimes_str_evosax = {}\n",
    "\n",
    "jim_runtimes_float_sampling = {} # total runtime - evosax time\n",
    "jim_runtimes_str_sampling = {}\n",
    "\n",
    "\n",
    "for run in run_names:\n",
    "    print(run)\n",
    "    path = paths_dict[run][\"jim\"]\n",
    "    path = path.replace(\"/outdir/\", \"/outdir_snellius/\")\n",
    "    print(f\"Fetching runtimes from run: {path}\")\n",
    "    runtime_float, runtime_str = fetch_runtime_event(path)\n",
    "    runtime_float_evosax, runtime_str_evosax = fetch_runtime_evosax_event(path)\n",
    "    print(runtime_float)\n",
    "    print(runtime_float_evosax)\n",
    "    \n",
    "    runtime_float_sampling = runtime_float - runtime_float_evosax\n",
    "    runtime_str_sampling = format_runtime(runtime_float_sampling / 60)\n",
    "    \n",
    "    # Overall runtime\n",
    "    jim_runtimes_float[run] = runtime_float\n",
    "    jim_runtimes_str[run] = runtime_str\n",
    "    \n",
    "    # Runtime for evosax\n",
    "    jim_runtimes_float_evosax[run] = runtime_float_evosax\n",
    "    jim_runtimes_str_evosax[run] = runtime_str_evosax\n",
    "    \n",
    "    # Runtime for total - evosax\n",
    "    jim_runtimes_float_sampling[run] = runtime_float_sampling\n",
    "    jim_runtimes_str_sampling[run] = runtime_str_sampling"
   ]
  },
  {
   "cell_type": "markdown",
   "metadata": {},
   "source": [
    "## Fetch pbilby runtimes"
   ]
  },
  {
   "cell_type": "markdown",
   "metadata": {},
   "source": [
    "These are the numbers that Peter gave me:"
   ]
  },
  {
   "cell_type": "code",
   "execution_count": 36,
   "metadata": {},
   "outputs": [],
   "source": [
    "# # Override with the numbers obtained from the log file of the runs instead:\n",
    "# bilby_runtimes_total = {}\n",
    "# bilby_runtimes_total[\"GW170817_TaylorF2\"]  = 0.0\n",
    "# bilby_runtimes_total[\"GW170817_NRTidalv2\"] = 12 * (60) ** 2 + 34 * 60 + 15\n",
    "# bilby_runtimes_total[\"GW190425_TaylorF2\"]  = 0.0\n",
    "# bilby_runtimes_total[\"GW190425_NRTidalv2\"] =  5 * (60) ** 2 + 39 * 60 + 38"
   ]
  },
  {
   "cell_type": "code",
   "execution_count": 37,
   "metadata": {},
   "outputs": [
    {
     "name": "stdout",
     "output_type": "stream",
     "text": [
      "/home/thibeau.wouters/jim_pbilby_samples/older_bilby_version/GW170817_TF2_with_tukey_fix_result.json\n",
      "Bilby path: /home/thibeau.wouters/jim_pbilby_samples/older_bilby_version/GW170817_TF2_with_tukey_fix_result.json\n"
     ]
    },
    {
     "name": "stdout",
     "output_type": "stream",
     "text": [
      "/home/thibeau.wouters/jim_pbilby_samples/older_bilby_version/GW170817_IMRPhenomD_NRTidalv2_result.json\n",
      "Bilby path: /home/thibeau.wouters/jim_pbilby_samples/older_bilby_version/GW170817_IMRPhenomD_NRTidalv2_result.json\n",
      "/home/thibeau.wouters/jim_pbilby_samples/older_bilby_version/GW190425_TF2_with_tukey_fix_result.json\n",
      "Bilby path: /home/thibeau.wouters/jim_pbilby_samples/older_bilby_version/GW190425_TF2_with_tukey_fix_result.json\n",
      "/home/thibeau.wouters/jim_pbilby_samples/older_bilby_version/GW190425_IMRPhenomD_NRTidalv2_result.json\n",
      "Bilby path: /home/thibeau.wouters/jim_pbilby_samples/older_bilby_version/GW190425_IMRPhenomD_NRTidalv2_result.json\n"
     ]
    }
   ],
   "source": [
    "bilby_runtimes_float = {}\n",
    "bilby_runtimes_str = {}\n",
    "for run in run_names:\n",
    "    path = paths_dict[run][\"bilby\"]\n",
    "    print(path)\n",
    "    runtime_float, runtime_string = fetch_runtime_bilby(run, convert_to_hours=True)\n",
    "        \n",
    "    bilby_runtimes_float[run] = runtime_float\n",
    "    bilby_runtimes_str[run] = runtime_string\n",
    "    \n",
    "bilby_runtimes_total = bilby_runtimes_float"
   ]
  },
  {
   "cell_type": "code",
   "execution_count": 38,
   "metadata": {},
   "outputs": [],
   "source": [
    "# Add dollar signs and minute string\n",
    "for key, value in jim_runtimes_str.items():\n",
    "    jim_runtimes_str[key] = f\"${value}$ min\""
   ]
  },
  {
   "cell_type": "code",
   "execution_count": 39,
   "metadata": {},
   "outputs": [],
   "source": [
    "assert list(jim_runtimes_float.keys()) == list(bilby_runtimes_float.keys())\n",
    "assert list(jim_runtimes_str.keys()) == list(bilby_runtimes_str.keys())"
   ]
  },
  {
   "cell_type": "markdown",
   "metadata": {},
   "source": [
    "Put hours in the formatting for pbilby"
   ]
  },
  {
   "cell_type": "code",
   "execution_count": 40,
   "metadata": {},
   "outputs": [],
   "source": [
    "for key, value in bilby_runtimes_str.items():\n",
    "    bilby_runtimes_str[key] = f\"${value}$ h\""
   ]
  },
  {
   "cell_type": "markdown",
   "metadata": {},
   "source": [
    "## ROQ sampling times"
   ]
  },
  {
   "cell_type": "code",
   "execution_count": 41,
   "metadata": {},
   "outputs": [],
   "source": [
    "def read_bilby_runtime(path: str) -> float:\n",
    "    with h5py.File(path, \"r\") as f:\n",
    "        runtime = f[\"sampling_time\"][()]\n",
    "    return runtime"
   ]
  },
  {
   "cell_type": "code",
   "execution_count": 42,
   "metadata": {},
   "outputs": [
    {
     "name": "stdout",
     "output_type": "stream",
     "text": [
      "Sampling time for ROQ GW170817: 1.647744848611111 hours\n",
      "Sampling time for ROQ GW190425: 0.9662301444444444 hours\n",
      "Average sampling time for ROQ GW190425: 1.306987496527778 hours\n"
     ]
    }
   ],
   "source": [
    "roq_sampling_time_GW170817 = read_bilby_runtime(\"/home/thibeau.wouters/TurboPE-BNS/ROQ/gw170817_ROQ_result.hdf5\")\n",
    "roq_sampling_time_GW190425 = read_bilby_runtime(\"/home/thibeau.wouters/TurboPE-BNS/ROQ/gw190425_ROQ_result.hdf5\")\n",
    "\n",
    "print(f\"Sampling time for ROQ GW170817: {roq_sampling_time_GW170817 / 3600} hours\")\n",
    "print(f\"Sampling time for ROQ GW190425: {roq_sampling_time_GW190425 / 3600} hours\")\n",
    "\n",
    "avg_runtime_roq = (roq_sampling_time_GW170817 + roq_sampling_time_GW190425) / 2\n",
    "print(f\"Average sampling time for ROQ GW190425: {avg_runtime_roq / 3600} hours\")"
   ]
  },
  {
   "cell_type": "markdown",
   "metadata": {},
   "source": [
    "## Relative binning with bilby runtimes"
   ]
  },
  {
   "cell_type": "code",
   "execution_count": 43,
   "metadata": {},
   "outputs": [
    {
     "name": "stdout",
     "output_type": "stream",
     "text": [
      "Sampling time for RB GW170817 TaylorF2: 3.176471048333613 hours\n",
      "Sampling time for RB GW170817 NRTidalv2: 4.680341001666572 hours\n",
      "Sampling time for RB GW190425 TaylorF2: 2.2960750963888605 hours\n",
      "Sampling time for RB GW190425 NRTidalv2: 4.680341001666572 hours\n",
      "Average sampling time for RB: 3.7083070370139044 hours\n"
     ]
    }
   ],
   "source": [
    "relbin_sampling_time_GW170817_TaylorF2 = read_bilby_runtime(\"/home/thibeau.wouters/TurboPE-BNS/RB/gw170817_relbin_TaylorF2_result.hdf5\")\n",
    "relbin_sampling_time_GW170817_NRTidalv2 = read_bilby_runtime(\"/home/thibeau.wouters/TurboPE-BNS/RB/gw170817_relbin_result.hdf5\")\n",
    "relbin_sampling_time_GW190425_TaylorF2 = read_bilby_runtime(\"/home/thibeau.wouters/TurboPE-BNS/RB/gw190425_relbin_TaylorF2_result.hdf5\")\n",
    "relbin_sampling_time_GW190425_NRTidalv2 = read_bilby_runtime(\"/home/thibeau.wouters/TurboPE-BNS/RB/gw190425_relbin_result.hdf5\")\n",
    "\n",
    "print(f\"Sampling time for RB GW170817 TaylorF2: {relbin_sampling_time_GW170817_TaylorF2 / 3600} hours\")\n",
    "print(f\"Sampling time for RB GW170817 NRTidalv2: {relbin_sampling_time_GW170817_NRTidalv2 / 3600} hours\")\n",
    "print(f\"Sampling time for RB GW190425 TaylorF2: {relbin_sampling_time_GW190425_TaylorF2 / 3600} hours\")\n",
    "print(f\"Sampling time for RB GW190425 NRTidalv2: {relbin_sampling_time_GW190425_NRTidalv2 / 3600} hours\")\n",
    "\n",
    "avg_runtime_relbin = (relbin_sampling_time_GW170817_TaylorF2 + relbin_sampling_time_GW190425_TaylorF2 + relbin_sampling_time_GW170817_NRTidalv2 + relbin_sampling_time_GW190425_NRTidalv2) / 4\n",
    "print(f\"Average sampling time for RB: {avg_runtime_relbin / 3600} hours\")"
   ]
  },
  {
   "cell_type": "markdown",
   "metadata": {},
   "source": [
    "## Get the ratio of runtimes"
   ]
  },
  {
   "cell_type": "code",
   "execution_count": 44,
   "metadata": {},
   "outputs": [
    {
     "name": "stdout",
     "output_type": "stream",
     "text": [
      "21.655774466487056\n",
      "19.551606753214244\n",
      "11.334590495563338\n",
      "13.081609338030004\n"
     ]
    }
   ],
   "source": [
    "runtimes_ratio_float = {}\n",
    "runtimes_ratio_str = {}\n",
    "\n",
    "for key in jim_runtimes_float.keys():\n",
    "    ratio = bilby_runtimes_float[key] / jim_runtimes_float[key]\n",
    "    runtimes_ratio_float[key] = ratio\n",
    "    print(ratio)\n",
    "    runtimes_ratio_str[key] = f\"${int(ratio)} \\\\times $\""
   ]
  },
  {
   "cell_type": "markdown",
   "metadata": {},
   "source": [
    "## Combine into table"
   ]
  },
  {
   "cell_type": "markdown",
   "metadata": {},
   "source": [
    "This is an older version, remove if not used anymore"
   ]
  },
  {
   "cell_type": "code",
   "execution_count": 45,
   "metadata": {},
   "outputs": [],
   "source": [
    "# latex_code = '\\\\begin{{tabular}}{{l l c c c}}\\n Event & Waveform & \\\\texttt{{jim}} & \\\\texttt{{pbilby}} & Speed-up \\\\\\\\\\n \\hline\\\\hline\\n\\\\multirow{{2}}{{*}}{{GW170817}} & TF2 & {} & {} & {} \\\\\\\\\\n & NRTv2 & {} & {} & {} \\\\\\\\ \\hline\\n\\\\multirow{{2}}{{*}}{{GW190425}}  & TF2 & {} & {} & {} \\\\\\\\ \\n & NRTv2 & {} & {} & {} \\\\\\\\ \\hline\\n\\\\multirow{{2}}{{*}}{{Injection}} & TF2 & {} & -- & -- \\\\\\\\\\n& NRTv2 & {} & -- & -- \\\\\\\\\\n\\\\hline\\\\hline\\n\\\\end{{tabular}}'\\\n",
    "# .format(  jim_runtimes_str[\"GW170817_TaylorF2\"],\n",
    "#         bilby_runtimes_str[\"GW170817_TaylorF2\"],\n",
    "#         runtimes_ratio_str[\"GW170817_TaylorF2\"],\n",
    "#           jim_runtimes_str[\"GW170817_NRTidalv2\"],\n",
    "#         bilby_runtimes_str[\"GW170817_NRTidalv2\"], \n",
    "#         runtimes_ratio_str[\"GW170817_NRTidalv2\"],\n",
    "#           jim_runtimes_str[\"GW190425_TaylorF2\"], \n",
    "#         bilby_runtimes_str[\"GW190425_TaylorF2\"], \n",
    "#         runtimes_ratio_str[\"GW190425_TaylorF2\"],\n",
    "#           jim_runtimes_str[\"GW190425_NRTidalv2\"], \n",
    "#         bilby_runtimes_str[\"GW190425_NRTidalv2\"],\n",
    "#         runtimes_ratio_str[\"GW190425_NRTidalv2\"], \n",
    "#         jim_runtimes_injections_median_str[\"TF2\"], \n",
    "#         jim_runtimes_injections_median_str[\"NRTv2\"]\n",
    "#        )\n",
    "\n",
    "# print(latex_code)"
   ]
  },
  {
   "cell_type": "markdown",
   "metadata": {},
   "source": [
    "## Comparison with other pipelines than pBilby:"
   ]
  },
  {
   "cell_type": "markdown",
   "metadata": {},
   "source": [
    "### ROQ methods"
   ]
  },
  {
   "cell_type": "markdown",
   "metadata": {},
   "source": [
    "\"The wall time of construction for Bases 4s-P by PyROQ was 70 hours for the linear basis and 57 hours for the quadratic basis, with 40 CPUs and 102 GB RAM on a LIGO Data Grid cluster. For Bases 8s-P, these numbers are 37 hours and 45 hours, with 40 CPUs and 110 GB RAM.\" (from the PyROQ paper). "
   ]
  },
  {
   "cell_type": "markdown",
   "metadata": {},
   "source": [
    "We will compare against [this paper](https://arxiv.org/abs/2307.13380), which can perform BNS PE in around 5 minutes using an advanced set up of ROQ bases. From browsing the LIGO Gitlab, we find that information regarding the building of the ROQ bases can be found at `/home/soichiro.morisaki/working/online_phenomd_basis`. Note that we compare against IMRPhenomD, as that is used for the low-latency runs, even though we use TaylorF2 and IMRPhenomD_NRTidalv2, which are faster and slower, respectively, compared to IMRPhenomD.\n",
    "\n",
    "There are several sub directories, probably for various setups of building the bases. Not all of them have log files with respect to the building of the bases, but `d_fhigh1024` does. We will therefore use this specific subdirectory to estimate the wall time needed to compute the ROQ bases. "
   ]
  },
  {
   "cell_type": "code",
   "execution_count": 46,
   "metadata": {},
   "outputs": [
    {
     "name": "stdout",
     "output_type": "stream",
     "text": [
      "Number of log files: 288\n"
     ]
    }
   ],
   "source": [
    "roq_log_dir = \"/home/soichiro.morisaki/working/online_phenomd_basis/d_fhigh1024/log/\"\n",
    "log_files = [f for f in os.listdir(roq_log_dir) if \".log\" in f]\n",
    "\n",
    "print(f\"Number of log files: {len(log_files)}\")"
   ]
  },
  {
   "cell_type": "code",
   "execution_count": 47,
   "metadata": {},
   "outputs": [],
   "source": [
    "from datetime import datetime\n",
    "\n",
    "def fetch_roq_buildtime(filename, verbose: bool = True):\n",
    "    start_time = None\n",
    "    end_time = None\n",
    "    with open(filename, 'r') as file:\n",
    "        for line in file:\n",
    "            if \"Job executing on host\" in line:\n",
    "                start_time_str = line.split()[3]  # Extract the time part of the log entry\n",
    "                if verbose:\n",
    "                    print(\"line\")\n",
    "                    print(line)\n",
    "                \n",
    "                    print(\"start_time_str\")\n",
    "                    print(start_time_str)\n",
    "                start_time = datetime.strptime(start_time_str, \"%H:%M:%S\").time()\n",
    "\n",
    "            elif \"Job terminated.\" in line:\n",
    "                end_time_str = line.split()[3]  # Extract the time part of the log entry\n",
    "                if verbose:\n",
    "                    print(\"line\")\n",
    "                    print(line)\n",
    "                    \n",
    "                    print(\"end_time_str\")\n",
    "                    print(end_time_str)\n",
    "                \n",
    "                end_time = datetime.strptime(end_time_str, \"%H:%M:%S\").time()\n",
    "\n",
    "    if start_time is None or end_time is None:\n",
    "        return None  # Couldn't find both start and end times, return None\n",
    "\n",
    "    # Calculate walltime\n",
    "    start_datetime = datetime.combine(datetime.now().date(), start_time)\n",
    "    end_datetime = datetime.combine(datetime.now().date(), end_time)\n",
    "    walltime = end_datetime - start_datetime\n",
    "    walltime_seconds = walltime.total_seconds()\n",
    "    walltime_float = float(walltime_seconds)\n",
    "\n",
    "    return walltime_float"
   ]
  },
  {
   "cell_type": "code",
   "execution_count": 48,
   "metadata": {},
   "outputs": [],
   "source": [
    "verbose = False\n",
    "roq_buildtimes = []\n",
    "for f in log_files:\n",
    "    if verbose:\n",
    "        print(\"================================================================================================================================================================\")\n",
    "    buildtime = fetch_roq_buildtime(roq_log_dir + f, verbose = verbose)\n",
    "    if verbose:\n",
    "        print(\"================================================================================================================================================================\")\n",
    "    roq_buildtimes.append(buildtime)\n",
    "    \n",
    "roq_buildtimes = np.array(roq_buildtimes)\n",
    "roq_buildtimes_mins = np.array(roq_buildtimes) / 60\n",
    "total_roq_buildtime = np.sum(roq_buildtimes)"
   ]
  },
  {
   "cell_type": "code",
   "execution_count": 49,
   "metadata": {},
   "outputs": [
    {
     "data": {
      "image/png": "[encoded data removed]",
      "text/plain": [
       "<Figure size 640x480 with 1 Axes>"
      ]
     },
     "metadata": {},
     "output_type": "display_data"
    }
   ],
   "source": [
    "plt.hist(roq_buildtimes_mins, bins=20, density = True, linewidth = 2, histtype = \"step\")\n",
    "plt.xlabel(\"Build time (mins)\")\n",
    "plt.ylabel(\"Density\")\n",
    "plt.show()"
   ]
  },
  {
   "cell_type": "code",
   "execution_count": 50,
   "metadata": {},
   "outputs": [
    {
     "name": "stdout",
     "output_type": "stream",
     "text": [
      "Total ROQ build time: 86.8386111111111 hours\n"
     ]
    }
   ],
   "source": [
    "print(f\"Total ROQ build time: {total_roq_buildtime / (60 * 60)} hours\")"
   ]
  },
  {
   "cell_type": "markdown",
   "metadata": {},
   "source": [
    "ROQ runtime for GW170817 with IMRPhenomPv2_NRTidalv2, aligned spins"
   ]
  },
  {
   "cell_type": "markdown",
   "metadata": {},
   "source": [
    "# Environmental impact"
   ]
  },
  {
   "cell_type": "markdown",
   "metadata": {},
   "source": [
    "- For the GPU consumption, see [1] or [2]: we have 400W for a A100 GPU installed in SXM, which is the case for Snellius [3]. \n",
    "\n",
    "- For the CPUs used, look at Ref. [4].\n",
    "\n",
    "- Conversions to CO2 and trees: these are taken from Ref. [5]\n",
    "\n",
    "-  In short: \"For the capture of 1 tonne of CO2 emissions ~50 trees must grow for one year [6]\n",
    "^using 0.905 kg of CO2 per kilowatt hour [7].\"\n",
    "\n",
    "- For NL, the most recent value is 0.328 kg CO2 per kWh [8].\n",
    "\n",
    "[1] https://www.nvidia.com/content/dam/en-zz/Solutions/Data-Center/a100/pdf/PB-10577-001_v02.pdf\n",
    "\n",
    "[2] https://www.nvidia.com/content/dam/en-zz/Solutions/Data-Center/a100/pdf/nvidia-a100-datasheet-nvidia-us-2188504-web.pdf \n",
    "\n",
    "[3] https://servicedesk.surf.nl/wiki/display/WIKI/Interactive+development+GPU+node \n",
    "\n",
    "[4] https://ark.intel.com/content/www/us/en/ark/products/136874/intel-xeon-platinum-8174-processor-33m-cache-3-10-ghz.html\n",
    "\n",
    "[5] https://git.ligo.org/lscsoft/parallel_bilby/-/wikis/O4-Review#pbilby-201-202 \n",
    "\n",
    "[6] https://www.climateneutralgroup.com/en/news/what-exactly-is-1-tonne-of-co2-v2/\n",
    "\n",
    "[7] https://www.dcceew.gov.au/climate-change/publications/national-greenhouse-gas-inventory-quarterly-updates\n",
    "\n",
    "[8] https://www.co2emissiefactoren.nl/lijst-emissiefactoren/"
   ]
  },
  {
   "cell_type": "code",
   "execution_count": 51,
   "metadata": {},
   "outputs": [],
   "source": [
    "kwh_to_co2 = 0.328 # kg CO2 per kWh\n",
    "co2_to_trees = (1 / 1000) * 50 # trees per kg CO2, growing for one year\n",
    "\n",
    "consumption_cpu_pbilby = 0.240 # kilowatts\n",
    "consumption_gpu = 0.400 # kilowatts\n",
    "\n",
    "N_gpu = 1\n",
    "N_runs = 204"
   ]
  },
  {
   "cell_type": "markdown",
   "metadata": {},
   "source": [
    "Average runtime for jim:"
   ]
  },
  {
   "cell_type": "code",
   "execution_count": 52,
   "metadata": {},
   "outputs": [
    {
     "name": "stdout",
     "output_type": "stream",
     "text": [
      "1490.1688831448555\n",
      "Average runtime jim (minutes): 24.83614805241426\n",
      "Average runtime jim (hours): 0.413935800873571\n"
     ]
    }
   ],
   "source": [
    "total_runtime_events = np.sum(list(jim_runtimes_float.values()))\n",
    "avg_runtime_jim = (jim_total_runtime_injections + total_runtime_events) / N_runs # first in seconds\n",
    "print(avg_runtime_jim) # before: 1432.4360346029468\n",
    "\n",
    "# in minutes\n",
    "avg_runtime_jim /= 60\n",
    "print(f\"Average runtime jim (minutes):\", avg_runtime_jim) # before: 23.873933910049114\n",
    "\n",
    "# in hours\n",
    "avg_runtime_jim /= 60\n",
    "print(f\"Average runtime jim (hours):\", avg_runtime_jim) # before: 0.39789889850081855"
   ]
  },
  {
   "cell_type": "markdown",
   "metadata": {},
   "source": [
    "Average runtime for bilby"
   ]
  },
  {
   "cell_type": "code",
   "execution_count": 53,
   "metadata": {},
   "outputs": [
    {
     "name": "stdout",
     "output_type": "stream",
     "text": [
      "Average runtime bilby (hours): 7.349939490833334\n"
     ]
    }
   ],
   "source": [
    "avg_runtime_bilby = np.mean(list(bilby_runtimes_total.values())) / 3600\n",
    "print(\"Average runtime bilby (hours):\", avg_runtime_bilby)"
   ]
  },
  {
   "cell_type": "code",
   "execution_count": 54,
   "metadata": {},
   "outputs": [
    {
     "name": "stdout",
     "output_type": "stream",
     "text": [
      "Consumption for GW170817_TaylorF2: 0.18 kWh\n",
      "Consumption for GW170817_NRTidalv2: 0.22 kWh\n",
      "Consumption for GW190425_TaylorF2: 0.14 kWh\n",
      "Consumption for GW190425_NRTidalv2: 0.14 kWh\n",
      "Consumption for avg: 0.17 kWh\n"
     ]
    }
   ],
   "source": [
    "consumption_jim = {}\n",
    "for key in jim_runtimes_float.keys():\n",
    "    consumption_jim[key] = N_gpu * consumption_gpu * (jim_runtimes_float[key] / 3600)\n",
    "    \n",
    "consumption_jim[\"avg\"] = N_gpu * consumption_gpu * avg_runtime_jim\n",
    "    \n",
    "for key, value in consumption_jim.items():\n",
    "    print(f\"Consumption for {key}: {value:.2f} kWh\")"
   ]
  },
  {
   "cell_type": "code",
   "execution_count": 55,
   "metadata": {},
   "outputs": [
    {
     "name": "stdout",
     "output_type": "stream",
     "text": [
      "Consumption for GW170817_TaylorF2: 23.13 kWh\n",
      "Consumption for GW170817_NRTidalv2: 26.37 kWh\n",
      "Consumption for GW190425_TaylorF2: 9.80 kWh\n",
      "Consumption for GW190425_NRTidalv2: 11.26 kWh\n",
      "Consumption for avg: 17.64 kWh\n"
     ]
    }
   ],
   "source": [
    "N_cpu = 10\n",
    "\n",
    "consumption_bilby = {}\n",
    "for key in bilby_runtimes_float.keys():\n",
    "    consumption_bilby[key] = N_cpu * consumption_cpu_pbilby * (bilby_runtimes_float[key] / 3600)\n",
    "    \n",
    "consumption_bilby[\"avg\"] = N_cpu * consumption_cpu_pbilby * avg_runtime_bilby\n",
    "    \n",
    "for key, value in consumption_bilby.items():\n",
    "    print(f\"Consumption for {key}: {value:.2f} kWh\")"
   ]
  },
  {
   "cell_type": "code",
   "execution_count": 56,
   "metadata": {},
   "outputs": [
    {
     "name": "stdout",
     "output_type": "stream",
     "text": [
      "Consumption for GW170817_TaylorF2: 130 x\n",
      "Consumption for GW170817_NRTidalv2: 117 x\n",
      "Consumption for GW190425_TaylorF2: 68 x\n",
      "Consumption for GW190425_NRTidalv2: 78 x\n",
      "Consumption for avg: 107 x\n"
     ]
    }
   ],
   "source": [
    "consumption_ratio = {}\n",
    "consumption_ratio_str = {}\n",
    "for key in consumption_jim.keys():\n",
    "    this_ratio = int(np.round(consumption_bilby[key] / consumption_jim[key]))\n",
    "    consumption_ratio[key] = this_ratio\n",
    "    consumption_ratio_str[key] = r\"${} \\times$\".format(this_ratio)\n",
    "    \n",
    "for key, value in consumption_ratio.items():\n",
    "    print(f\"Consumption for {key}: {value} x\")"
   ]
  },
  {
   "cell_type": "markdown",
   "metadata": {},
   "source": [
    "Convert to trees now"
   ]
  },
  {
   "cell_type": "code",
   "execution_count": 57,
   "metadata": {},
   "outputs": [],
   "source": [
    "def get_number_of_killed_trees(kwh: float) -> float:\n",
    "    \"\"\"\n",
    "    Get the number of trees killed by the energy consumption of our runs in kWh.\n",
    "\n",
    "    Args:\n",
    "        kwh (float): Energy consumption in kWh\n",
    "\n",
    "    Returns:\n",
    "        float: Number of trees killed\n",
    "    \"\"\"\n",
    "    return kwh * kwh_to_co2 * co2_to_trees\n",
    "\n",
    "def get_number_of_tonne_co2(kwh: float) -> float:\n",
    "    \"\"\"\n",
    "    Get the number of trees killed by the energy consumption of our runs in kWh.\n",
    "\n",
    "    Args:\n",
    "        kwh (float): Energy consumption in kWh\n",
    "\n",
    "    Returns:\n",
    "        float: Number of trees killed\n",
    "    \"\"\"\n",
    "    return kwh * kwh_to_co2 / 1000"
   ]
  },
  {
   "cell_type": "markdown",
   "metadata": {},
   "source": [
    "## Trees"
   ]
  },
  {
   "cell_type": "code",
   "execution_count": 58,
   "metadata": {},
   "outputs": [
    {
     "name": "stdout",
     "output_type": "stream",
     "text": [
      "Trees killed for GW170817_TaylorF2: 0.00292\n",
      "Trees killed for GW170817_NRTidalv2: 0.00369\n",
      "Trees killed for GW190425_TaylorF2: 0.00236\n",
      "Trees killed for GW190425_NRTidalv2: 0.00235\n",
      "Trees killed for avg: 0.00272\n"
     ]
    }
   ],
   "source": [
    "trees_jim = {}\n",
    "for key, value in consumption_jim.items():\n",
    "    trees_jim[key] = get_number_of_killed_trees(value)\n",
    "    \n",
    "for key, value in trees_jim.items():\n",
    "    print(f\"Trees killed for {key}: {value:.5f}\")\n",
    "    \n",
    "# Find the average:\n",
    "avg_nb_killed_trees_jim = np.mean(list(trees_jim.values()))"
   ]
  },
  {
   "cell_type": "code",
   "execution_count": 59,
   "metadata": {},
   "outputs": [
    {
     "name": "stdout",
     "output_type": "stream",
     "text": [
      "Trees killed for GW170817_TaylorF2: 0.38\n",
      "Trees killed for GW170817_NRTidalv2: 0.43\n",
      "Trees killed for GW190425_TaylorF2: 0.16\n",
      "Trees killed for GW190425_NRTidalv2: 0.18\n",
      "Trees killed for avg: 0.29\n"
     ]
    }
   ],
   "source": [
    "trees_bilby = {}\n",
    "for key, value in consumption_bilby.items():\n",
    "    trees_bilby[key] = get_number_of_killed_trees(value)\n",
    "    \n",
    "for key, value in trees_bilby.items():\n",
    "    print(f\"Trees killed for {key}: {value:.2f}\")"
   ]
  },
  {
   "cell_type": "markdown",
   "metadata": {},
   "source": [
    "For a comparison **about the whole paper**, just use this average and the number of runs done to allow for an easier comparison between the 2:"
   ]
  },
  {
   "cell_type": "code",
   "execution_count": 60,
   "metadata": {},
   "outputs": [
    {
     "name": "stdout",
     "output_type": "stream",
     "text": [
      "Average number of killed trees for writing the paper with   jim: 0.55\n",
      "Average number of killed trees for writing the paper with bilby: 59.02\n"
     ]
    }
   ],
   "source": [
    "# avg_nb_killed_trees_jim = np.mean(list(trees_jim.values()))\n",
    "# avg_nb_killed_trees_bilby = np.mean(list(trees_bilby.values()))\n",
    "\n",
    "avg_nb_killed_trees_jim = trees_jim[\"avg\"]\n",
    "avg_nb_killed_trees_bilby = trees_bilby[\"avg\"]\n",
    "\n",
    "avg_nb_killed_trees_jim_paper = N_runs * avg_nb_killed_trees_jim\n",
    "avg_nb_killed_trees_bilby_paper = N_runs * avg_nb_killed_trees_bilby\n",
    "\n",
    "print(f\"Average number of killed trees for writing the paper with   jim: {(avg_nb_killed_trees_jim_paper):.2f}\")\n",
    "print(f\"Average number of killed trees for writing the paper with bilby: {(avg_nb_killed_trees_bilby_paper):.2f}\")"
   ]
  },
  {
   "cell_type": "markdown",
   "metadata": {},
   "source": [
    "## CO2"
   ]
  },
  {
   "cell_type": "code",
   "execution_count": 61,
   "metadata": {},
   "outputs": [
    {
     "name": "stdout",
     "output_type": "stream",
     "text": [
      "Tonne CO2 for GW170817_TaylorF2: 0.00006\n",
      "Tonne CO2 for GW170817_NRTidalv2: 0.00007\n",
      "Tonne CO2 for GW190425_TaylorF2: 0.00005\n",
      "Tonne CO2 for GW190425_NRTidalv2: 0.00005\n",
      "Tonne CO2 for avg: 0.00005\n"
     ]
    }
   ],
   "source": [
    "co2_jim = {}\n",
    "for key, value in consumption_jim.items():\n",
    "    co2_jim[key] = get_number_of_tonne_co2(value)\n",
    "    \n",
    "for key, value in co2_jim.items():\n",
    "    print(f\"Tonne CO2 for {key}: {value:.5f}\")"
   ]
  },
  {
   "cell_type": "code",
   "execution_count": 62,
   "metadata": {},
   "outputs": [
    {
     "name": "stdout",
     "output_type": "stream",
     "text": [
      "Tonne CO2 for GW170817_TaylorF2: 0.00759\n",
      "Tonne CO2 for GW170817_NRTidalv2: 0.00865\n",
      "Tonne CO2 for GW190425_TaylorF2: 0.00321\n",
      "Tonne CO2 for GW190425_NRTidalv2: 0.00369\n",
      "Tonne CO2 for avg: 0.00579\n"
     ]
    }
   ],
   "source": [
    "co2_bilby = {}\n",
    "for key, value in consumption_bilby.items():\n",
    "    co2_bilby[key] = get_number_of_tonne_co2(value)\n",
    "    \n",
    "for key, value in co2_bilby.items():\n",
    "    print(f\"Tonne CO2 for {key}: {value:.5f}\")"
   ]
  },
  {
   "cell_type": "markdown",
   "metadata": {},
   "source": [
    "## ROQ -- sampling time"
   ]
  },
  {
   "cell_type": "code",
   "execution_count": 63,
   "metadata": {},
   "outputs": [
    {
     "name": "stdout",
     "output_type": "stream",
     "text": [
      "Consumption for ROQ: 32.00 kWh\n",
      "CO2 for ROQ: 0.01049 tonnes\n",
      "Trees for ROQ: 0.52\n"
     ]
    }
   ],
   "source": [
    "# Runs used: Intel® Xeon® Gold 6136 Processor: https://www.intel.com/content/www/us/en/products/sku/215277/intel-xeon-silver-4310-processor-18m-cache-2-10-ghz/specifications.html\n",
    "N_cpu_roq = 1\n",
    "total_roq_runtime = N_runs * avg_runtime_roq\n",
    "consumption_cpu_roq_runtime = 0.120\n",
    "consumption_roq = N_cpu_roq * consumption_cpu_roq_runtime * (total_roq_runtime / 3600)\n",
    "\n",
    "# get co2 and trees\n",
    "co2_roq = get_number_of_tonne_co2(consumption_roq)\n",
    "trees_roq = get_number_of_killed_trees(consumption_roq)\n",
    "\n",
    "print(f\"Consumption for ROQ: {(consumption_roq):.2f} kWh\")\n",
    "print(f\"CO2 for ROQ: {co2_roq:.5f} tonnes\")\n",
    "print(f\"Trees for ROQ: {trees_roq:.2f}\")"
   ]
  },
  {
   "cell_type": "markdown",
   "metadata": {},
   "source": [
    "## ROQ -- construction time"
   ]
  },
  {
   "cell_type": "markdown",
   "metadata": {},
   "source": [
    "Get an estimate of the basis size of the IMRPhenomPv2_NRTidalv2"
   ]
  },
  {
   "cell_type": "code",
   "execution_count": 64,
   "metadata": {},
   "outputs": [
    {
     "name": "stdout",
     "output_type": "stream",
     "text": [
      "file\n",
      "basis_128s.hdf5\n",
      "<KeysViewHDF5 ['basis_linear', 'basis_quadratic', 'duration_s', 'durations_s_linear', 'durations_s_quadratic', 'maximum_frequency_hz', 'minimum_frequency_hz', 'multiband_linear', 'multiband_quadratic', 'prior_range_linear', 'prior_range_quadratic', 'start_end_frequency_bins_linear', 'start_end_frequency_bins_quadratic']>\n",
      "linear_keys\n",
      "<KeysViewHDF5 ['0', '1', '2', '3']>\n"
     ]
    },
    {
     "name": "stdout",
     "output_type": "stream",
     "text": [
      "(813, 19686)\n",
      "(800, 19686)\n",
      "(786, 19686)\n",
      "(769, 19686)\n",
      "quadratic_keys\n",
      "<KeysViewHDF5 ['0', '1', '2', '3']>\n",
      "(508, 37909)\n",
      "(492, 37909)\n",
      "(476, 37909)\n",
      "(466, 37909)\n",
      "file\n",
      "basis_256s.hdf5\n",
      "<KeysViewHDF5 ['basis_linear', 'basis_quadratic', 'duration_s', 'durations_s_linear', 'durations_s_quadratic', 'maximum_frequency_hz', 'minimum_frequency_hz', 'multiband_linear', 'multiband_quadratic', 'prior_range_linear', 'prior_range_quadratic', 'start_end_frequency_bins_linear', 'start_end_frequency_bins_quadratic']>\n",
      "linear_keys\n",
      "<KeysViewHDF5 ['0', '1', '2', '3', '4', '5', '6', '7']>\n",
      "(859, 22472)\n",
      "(850, 22472)\n",
      "(840, 22472)\n",
      "(836, 22472)\n",
      "(830, 22472)\n",
      "(818, 22472)\n",
      "(813, 22472)\n",
      "(803, 22472)\n",
      "quadratic_keys\n",
      "<KeysViewHDF5 ['0', '1', '2', '3', '4', '5', '6', '7']>\n",
      "(587, 42394)\n",
      "(574, 42394)\n",
      "(557, 42394)\n",
      "(544, 42394)\n",
      "(532, 42394)\n",
      "(514, 42394)\n",
      "(500, 42394)\n",
      "(487, 42394)\n",
      "file\n",
      "basis_512s.hdf5\n",
      "<KeysViewHDF5 ['basis_linear', 'basis_quadratic', 'duration_s', 'durations_s_linear', 'durations_s_quadratic', 'maximum_frequency_hz', 'minimum_frequency_hz', 'multiband_linear', 'multiband_quadratic', 'prior_range_linear', 'prior_range_quadratic', 'start_end_frequency_bins_linear', 'start_end_frequency_bins_quadratic']>\n",
      "linear_keys\n",
      "<KeysViewHDF5 ['0', '1', '10', '11', '12', '13', '14', '2', '3', '4', '5', '6', '7', '8', '9']>\n",
      "(964, 27893)\n",
      "(961, 27893)\n",
      "(890, 27893)\n",
      "(883, 27893)\n",
      "(875, 27893)\n",
      "(866, 27893)\n",
      "(861, 27893)\n",
      "(951, 27893)\n",
      "(944, 27893)\n",
      "(935, 27893)\n",
      "(929, 27893)\n",
      "(923, 27893)\n",
      "(915, 27893)\n",
      "(907, 27893)\n",
      "(898, 27893)\n",
      "quadratic_keys\n",
      "<KeysViewHDF5 ['0', '1', '10', '11', '12', '13', '14', '2', '3', '4', '5', '6', '7', '8', '9']>\n",
      "(741, 51114)\n",
      "(727, 51114)\n",
      "(602, 51114)\n",
      "(589, 51114)\n",
      "(576, 51114)\n",
      "(562, 51114)\n",
      "(543, 51114)\n",
      "(715, 51114)\n",
      "(703, 51114)\n",
      "(687, 51114)\n",
      "(675, 51114)\n",
      "(662, 51114)\n",
      "(648, 51114)\n",
      "(634, 51114)\n",
      "(619, 51114)\n",
      "file\n",
      "basis_64s.hdf5\n",
      "<KeysViewHDF5 ['basis_linear', 'basis_quadratic', 'duration_s', 'durations_s_linear', 'durations_s_quadratic', 'maximum_frequency_hz', 'minimum_frequency_hz', 'multiband_linear', 'multiband_quadratic', 'prior_range_linear', 'prior_range_quadratic', 'start_end_frequency_bins_linear', 'start_end_frequency_bins_quadratic']>\n",
      "linear_keys\n",
      "<KeysViewHDF5 ['0', '1']>\n",
      "(756, 10040)\n",
      "(765, 10040)\n",
      "quadratic_keys\n",
      "<KeysViewHDF5 ['0', '1']>\n",
      "(457, 19178)\n",
      "(466, 19178)\n"
     ]
    }
   ],
   "source": [
    "roq_basis_paths_Pv2_NRTv2 = \"/home/roq/IMRPhenomPv2_NRTidalv2/bns/\"\n",
    "\n",
    "total_linear_basis_size_Pv2_NRTv2 = 0\n",
    "total_quadratic_basis_size_Pv2_NRTv2 = 0\n",
    "\n",
    "filenames = [\"basis_128s.hdf5\", \"basis_256s.hdf5\", \"basis_512s.hdf5\", \"basis_64s.hdf5\"]\n",
    "for file in filenames:\n",
    "    print(\"file\")\n",
    "    print(file)\n",
    "    with h5py.File(roq_basis_paths_Pv2_NRTv2 + file, \"r\") as f:\n",
    "        print(f.keys())\n",
    "        \n",
    "        # Fetch the linear bases\n",
    "        linear_keys = f[\"basis_linear\"].keys()\n",
    "        print(\"linear_keys\")\n",
    "        print(linear_keys)\n",
    "        \n",
    "        for key in linear_keys:\n",
    "            print(np.shape(f[\"basis_linear\"][key]['basis'][()]))\n",
    "            linear_basis_size = len(f[\"basis_linear\"][key]['basis'][()])\n",
    "            total_linear_basis_size_Pv2_NRTv2 += linear_basis_size\n",
    "        \n",
    "        # Fetch the quadratic bases\n",
    "        quadratic_keys = f[\"basis_quadratic\"].keys()\n",
    "        print(\"quadratic_keys\")\n",
    "        print(quadratic_keys)\n",
    "        for key in quadratic_keys:\n",
    "            print(np.shape(f[\"basis_quadratic\"][key]['basis'][()]))\n",
    "            quadratic_basis_size = len(f[\"basis_quadratic\"][key]['basis'][()])\n",
    "            total_quadratic_basis_size_Pv2_NRTv2 += quadratic_basis_size"
   ]
  },
  {
   "cell_type": "markdown",
   "metadata": {},
   "source": [
    "### Estimate from ROQ paper"
   ]
  },
  {
   "cell_type": "markdown",
   "metadata": {},
   "source": [
    "TODO get an estimate here, wait for reply from the ROQ group."
   ]
  },
  {
   "cell_type": "code",
   "execution_count": 65,
   "metadata": {},
   "outputs": [
    {
     "name": "stdout",
     "output_type": "stream",
     "text": [
      "Total CPU hours for linear basis: 222112.13389121337\n",
      "Total CPU hours for quadratic basis: 195225.68181818182\n",
      "Total CPU hours: 834675.6314187904\n",
      "Consumption for ROQ: 5634.06 kWh\n",
      "CO2 for ROQ: 1.84797 tonnes\n",
      "Trees for ROQ: 92.40\n"
     ]
    }
   ],
   "source": [
    "N_cores = 40\n",
    "consumption_cpu = 0.270 # CPU that can give 40 cores\n",
    "\n",
    "# numbers averaged from their respective runs\n",
    "linear_basis_size = 239\n",
    "quadratic_basis_size = 176\n",
    "\n",
    "hrs_linear = 53\n",
    "hrs_quadratic = 51\n",
    "\n",
    "cpu_hrs_per_basis_linear = N_cores * hrs_linear / linear_basis_size\n",
    "cpu_hrs_per_basis_quadratic = N_cores * hrs_quadratic / quadratic_basis_size\n",
    "\n",
    "total_cpu_hrs_linear = cpu_hrs_per_basis_linear * total_linear_basis_size_Pv2_NRTv2\n",
    "total_cpu_hrs_quadratic = cpu_hrs_per_basis_quadratic * total_quadratic_basis_size_Pv2_NRTv2\n",
    "\n",
    "print(f\"Total CPU hours for linear basis: {total_cpu_hrs_linear}\")\n",
    "print(f\"Total CPU hours for quadratic basis: {total_cpu_hrs_quadratic}\")\n",
    "\n",
    "total_cpu_hrs = total_cpu_hrs_linear + total_cpu_hrs_quadratic\n",
    "total_cpu_hrs *= 2 # multiply by 2: also have to build the TaylorF2 basis\n",
    "\n",
    "print(f\"Total CPU hours: {total_cpu_hrs}\")\n",
    "consumption_roq_precompute = consumption_cpu * total_cpu_hrs / N_cores\n",
    "\n",
    "co2_roq_precompute = get_number_of_tonne_co2(consumption_roq_precompute)\n",
    "trees_roq_precompute = get_number_of_killed_trees(consumption_roq_precompute)\n",
    "print(f\"Consumption for ROQ: {(consumption_roq_precompute):.2f} kWh\")\n",
    "print(f\"CO2 for ROQ: {co2_roq_precompute:.5f} tonnes\")\n",
    "print(f\"Trees for ROQ: {trees_roq_precompute:.2f}\")"
   ]
  },
  {
   "cell_type": "markdown",
   "metadata": {},
   "source": [
    "Compute breakeven with Jim"
   ]
  },
  {
   "cell_type": "code",
   "execution_count": 66,
   "metadata": {},
   "outputs": [
    {
     "name": "stdout",
     "output_type": "stream",
     "text": [
      "3161.0 runs until breakeven\n"
     ]
    }
   ],
   "source": [
    "breakeven = consumption_roq_precompute / ((N_runs * consumption_jim[\"avg\"]) - consumption_roq)\n",
    "print(f\"{np.floor(breakeven)} runs until breakeven\")"
   ]
  },
  {
   "cell_type": "markdown",
   "metadata": {},
   "source": [
    "## Relative binning"
   ]
  },
  {
   "cell_type": "code",
   "execution_count": 67,
   "metadata": {},
   "outputs": [
    {
     "name": "stdout",
     "output_type": "stream",
     "text": [
      "Consumption for RB: 90.78 kWh\n",
      "CO2 for RB: 0.02978 tonnes\n",
      "Trees for RB: 1.49\n"
     ]
    }
   ],
   "source": [
    "N_cpu_relbin = 1\n",
    "total_relbin_time = N_runs * avg_runtime_relbin\n",
    "consumption_cpu_relbin = 0.120 # kilowatts\n",
    "\n",
    "# Get the numbers for the table\n",
    "consumption_relbin = N_cpu_relbin * consumption_cpu_relbin * (total_relbin_time / 3600)\n",
    "co2_relbin = get_number_of_tonne_co2(consumption_relbin)\n",
    "trees_relbin = get_number_of_killed_trees(consumption_relbin)\n",
    "\n",
    "print(f\"Consumption for RB: {consumption_relbin:.2f} kWh\")\n",
    "print(f\"CO2 for RB: {co2_relbin:.5f} tonnes\")\n",
    "print(f\"Trees for RB: {trees_relbin:.2f}\")"
   ]
  },
  {
   "cell_type": "markdown",
   "metadata": {},
   "source": [
    "## Get environmental impact as a table"
   ]
  },
  {
   "cell_type": "code",
   "execution_count": 68,
   "metadata": {},
   "outputs": [],
   "source": [
    "# latex_code = '& kWh & $\\\\rm{{CO}}_2$ [$10^3$ kg] & Trees${{}}^\\dagger$ \\\\\\\\\\n \\hline\\\\hline\\n \\\\textsc{{Jim}} & $\\\\phantom{{00}}{}$ & $\\\\phantom{{0}}{}$ & $\\\\phantom{{000}}{}$ \\\\\\\\\\n \\\\textsc{{pBilby}} & ${}$ & ${}$ & ${}$ \\\\\\\\\\n \\\\textsc{{pBilby}} & ${}$ & ${}$ & ${}$ \\\\\\\\\\n \\\\textsc{{pBilby}} & ${}$ & ${}$ & ${}$ \\\\\\\\\\n\\\\hline\\\\hline'\\\n",
    "# .format(my_format(N_runs * consumption_jim[\"avg\"]),\n",
    "#         my_format(N_runs * co2_jim[\"avg\"]),\n",
    "#         my_format(avg_nb_killed_trees_jim_paper),\n",
    "#         my_format(N_runs * consumption_bilby[\"avg\"]),\n",
    "#         my_format(N_runs * co2_bilby[\"avg\"]),\n",
    "#         my_format(avg_nb_killed_trees_bilby_paper),\n",
    "#        )\n",
    "\n",
    "# print(latex_code)"
   ]
  },
  {
   "cell_type": "code",
   "execution_count": 69,
   "metadata": {},
   "outputs": [
    {
     "data": {
      "text/plain": [
       "106.0"
      ]
     },
     "execution_count": 69,
     "metadata": {},
     "output_type": "execute_result"
    }
   ],
   "source": [
    "np.floor(avg_nb_killed_trees_bilby_paper / avg_nb_killed_trees_jim_paper)"
   ]
  },
  {
   "cell_type": "markdown",
   "metadata": {},
   "source": [
    "## Update the table with energy saved rather than speedup"
   ]
  },
  {
   "cell_type": "code",
   "execution_count": 70,
   "metadata": {},
   "outputs": [],
   "source": [
    "# latex_code = '\\\\begin{{tabular}}{{l l c c c}}\\n Event & Waveform & \\\\textsc{{Jim}} & \\\\textsc{{pBilby}} & Energy saved \\\\\\\\\\n \\hline\\\\hline\\n\\\\multirow{{2}}{{*}}{{GW170817}} & TF2 & {} & {} & {} \\\\\\\\\\n & NRTv2 & {} & {} & {} \\\\\\\\ \\hline\\n\\\\multirow{{2}}{{*}}{{GW190425}}  & TF2 & {} & {} & {} \\\\\\\\ \\n & NRTv2 & {} & {} & {} \\\\\\\\ \\hline\\n\\\\multirow{{2}}{{*}}{{Injection}} & TF2 & {} & -- & -- \\\\\\\\\\n& NRTv2 & {} & -- & -- \\\\\\\\\\n\\\\hline\\\\hline\\n\\\\end{{tabular}}'\\\n",
    "# .format(  jim_runtimes_str[\"GW170817_TaylorF2\"],\n",
    "#         bilby_runtimes_str[\"GW170817_TaylorF2\"],\n",
    "#          consumption_ratio_str[\"GW170817_TaylorF2\"],\n",
    "#          jim_runtimes_str[\"GW170817_NRTidalv2\"],\n",
    "#         bilby_runtimes_str[\"GW170817_NRTidalv2\"], \n",
    "#          consumption_ratio_str[\"GW170817_NRTidalv2\"],\n",
    "#            jim_runtimes_str[\"GW190425_TaylorF2\"], \n",
    "#         bilby_runtimes_str[\"GW190425_TaylorF2\"], \n",
    "#           consumption_ratio_str[\"GW190425_TaylorF2\"],\n",
    "#            jim_runtimes_str[\"GW190425_NRTidalv2\"], \n",
    "#         bilby_runtimes_str[\"GW190425_NRTidalv2\"],\n",
    "#          consumption_ratio_str[\"GW190425_NRTidalv2\"], \n",
    "#         jim_runtimes_injections[\"TF2\"], \n",
    "#         jim_runtimes_injections[\"NRTv2\"]\n",
    "#        )\n",
    "\n",
    "# print(latex_code)"
   ]
  },
  {
   "cell_type": "markdown",
   "metadata": {},
   "source": [
    "## Without the final column"
   ]
  },
  {
   "cell_type": "code",
   "execution_count": 71,
   "metadata": {},
   "outputs": [
    {
     "data": {
      "text/plain": [
       "{'GW170817_TaylorF2': '17.00',\n",
       " 'GW170817_NRTidalv2': '28.02',\n",
       " 'GW190425_TaylorF2': '16.49',\n",
       " 'GW190425_NRTidalv2': '15.37'}"
      ]
     },
     "execution_count": 71,
     "metadata": {},
     "output_type": "execute_result"
    }
   ],
   "source": [
    "jim_runtimes_str_sampling"
   ]
  },
  {
   "cell_type": "code",
   "execution_count": 72,
   "metadata": {},
   "outputs": [],
   "source": [
    "def make_table_entry_str_event(key):\n",
    "    return \"$(\" + jim_runtimes_str_evosax[key].replace(\"\\phantom{0}\", \"\") + \" + \" + jim_runtimes_str_sampling[key] + \")$ min\"\n",
    "\n",
    "def make_table_entry_str_injection(key):\n",
    "    return \"$\\phantom{{(0.000 + }} {}\\phantom{{)}}$ min\".format(np.round(jim_runtimes_injections_median[key], 2))\n",
    "\n",
    "def make_table_entry_str_RB(value, nb_round: int = 2):\n",
    "    return r\"${}$ h\".format(np.round(value / 3600, nb_round))\n",
    "\n",
    "def make_table_entry_str_ROQ(value, nb_round: int = 2):\n",
    "    return r\"${}$ h\".format(np.round(value / 3600, nb_round))"
   ]
  },
  {
   "cell_type": "code",
   "execution_count": 73,
   "metadata": {},
   "outputs": [
    {
     "data": {
      "text/plain": [
       "'$\\\\phantom{(0.000 + } 24.76\\\\phantom{)}$ min'"
      ]
     },
     "execution_count": 73,
     "metadata": {},
     "output_type": "execute_result"
    }
   ],
   "source": [
    "jim_runtimes_injections_median[\"TF2\"]\n",
    "make_table_entry_str_injection(\"TF2\")"
   ]
  },
  {
   "cell_type": "code",
   "execution_count": 74,
   "metadata": {},
   "outputs": [],
   "source": [
    "# latex_code = '\\\\begin{{tabular}}{{l l c c}}\\n Event & WF & \\\\textsc{{Jim}} \\\\footnotesize{{($1$ GPU)}} & \\\\textsc{{pBilby}} \\\\footnotesize{{($480$ cores)}} \\\\\\\\\\n  \\hline\\\\hline\\n \\\\multirow{{2}}{{*}}{{GW170817}} & \\\\texttt{{TF2}} & {} & {} \\\\\\\\\\n & \\\\texttt{{NRTv2}} & {} & {} \\\\\\\\ \\hline\\n\\\\multirow{{2}}{{*}}{{GW190425}}  & \\\\texttt{{TF2}} & {} & {} \\\\\\\\ \\n & \\\\texttt{{NRTv2}} & {} & {} \\\\\\\\ \\hline\\n\\\\multirow{{2}}{{*}}{{Injection}} & \\\\texttt{{TF2}} & {} & --  \\\\\\\\\\n& \\\\texttt{{NRTv2}} & {} & --  \\\\\\\\\\n\\\\hline\\\\hline\\n\\\\end{{tabular}}'\\\n",
    "# .format(make_table_entry_str_event(\"GW170817_TaylorF2\"),\n",
    "#         bilby_runtimes_str[\"GW170817_TaylorF2\"],\n",
    "#          make_table_entry_str_event(\"GW170817_NRTidalv2\"),\n",
    "#         bilby_runtimes_str[\"GW170817_NRTidalv2\"], \n",
    "#          make_table_entry_str_event(\"GW190425_TaylorF2\"), \n",
    "#         bilby_runtimes_str[\"GW190425_TaylorF2\"], \n",
    "#          make_table_entry_str_event(\"GW190425_NRTidalv2\"),\n",
    "#         bilby_runtimes_str[\"GW190425_NRTidalv2\"],\n",
    "#         make_table_entry_str_injection(\"TF2\"), \n",
    "#         make_table_entry_str_injection(\"NRTv2\")\n",
    "#        )\n",
    "# print(latex_code)"
   ]
  },
  {
   "cell_type": "markdown",
   "metadata": {},
   "source": [
    "Version 11/04/2024 -- added some runs with relative binninng and ROQ in Bilby"
   ]
  },
  {
   "cell_type": "code",
   "execution_count": 75,
   "metadata": {},
   "outputs": [
    {
     "name": "stdout",
     "output_type": "stream",
     "text": [
      "\\begin{tabular}{l l c c c c}\n",
      " Event & WF & \\textsc{Jim} & \\textsc{pBilby} & RB -- \\textsc{Bilby} & ROQ -- \\textsc{Bilby}  \\\\\n",
      " & & \\footnotesize{($1$ GPU)} & \\footnotesize{($480$ cores)} & \\footnotesize{($24$ cores)} & \\footnotesize{($24$ cores)} \\\\\n",
      "  \\hline\\hline\n",
      " \\multirow{2}{*}{GW170817} & \\texttt{TF2} & $(9.70 + 17.00)$ min & $\\phantom{0}9.64$ h & x & -- \\\\\n",
      " & \\texttt{NRTv2} & $(5.69 + 28.02)$ min & $10.99$ h & $4.68$ h & $1.65$ h \\\\ \\hline\n",
      "\\multirow{2}{*}{GW190425}  & \\texttt{TF2} & $(5.13 + 16.49)$ min & $\\phantom{0}4.08$ h & x & -- \\\\ \n",
      " & \\texttt{NRTv2} & $(6.15 + 15.37)$ min & $\\phantom{0}4.69$ h & $4.68$ h & $0.97$ h \\\\ \\hline\n",
      "\\multirow{2}{*}{Injection} & \\texttt{TF2} & $\\phantom{(0.000 + } 24.76\\phantom{)}$ min & -- & -- & -- \\\\\n",
      "& \\texttt{NRTv2} & $\\phantom{(0.000 + } 18.02\\phantom{)}$ min & -- & -- & -- \\\\\n",
      "\\hline\\hline\n",
      "\\end{tabular}\n"
     ]
    }
   ],
   "source": [
    "latex_code = '\\\\begin{{tabular}}{{l l c c c c}}\\n Event & WF & \\\\textsc{{Jim}} & \\\\textsc{{pBilby}} & RB -- \\\\textsc{{Bilby}} & ROQ -- \\\\textsc{{Bilby}}  \\\\\\\\\\n & & \\\\footnotesize{{($1$ GPU)}} & \\\\footnotesize{{($480$ cores)}} & \\\\footnotesize{{($24$ cores)}} & \\\\footnotesize{{($24$ cores)}} \\\\\\\\\\n  \\hline\\\\hline\\n \\\\multirow{{2}}{{*}}{{GW170817}} & \\\\texttt{{TF2}} & {} & {} & {} & {} \\\\\\\\\\n & \\\\texttt{{NRTv2}} & {} & {} & {} & {} \\\\\\\\ \\hline\\n\\\\multirow{{2}}{{*}}{{GW190425}}  & \\\\texttt{{TF2}} & {} & {} & {} & {} \\\\\\\\ \\n & \\\\texttt{{NRTv2}} & {} & {} & {} & {} \\\\\\\\ \\hline\\n\\\\multirow{{2}}{{*}}{{Injection}} & \\\\texttt{{TF2}} & {} & -- & -- & -- \\\\\\\\\\n& \\\\texttt{{NRTv2}} & {} & -- & -- & -- \\\\\\\\\\n\\\\hline\\\\hline\\n\\\\end{{tabular}}'\\\n",
    ".format(make_table_entry_str_event(\"GW170817_TaylorF2\"),\n",
    "        bilby_runtimes_str[\"GW170817_TaylorF2\"],\n",
    "        \"x\",\n",
    "        \"--\",\n",
    "         make_table_entry_str_event(\"GW170817_NRTidalv2\"),\n",
    "        bilby_runtimes_str[\"GW170817_NRTidalv2\"], \n",
    "        make_table_entry_str_RB(relbin_sampling_time_GW170817_NRTidalv2),\n",
    "        make_table_entry_str_ROQ(roq_sampling_time_GW170817),\n",
    "         make_table_entry_str_event(\"GW190425_TaylorF2\"), \n",
    "        bilby_runtimes_str[\"GW190425_TaylorF2\"], \n",
    "        \"x\",\n",
    "        \"--\",\n",
    "         make_table_entry_str_event(\"GW190425_NRTidalv2\"),\n",
    "        bilby_runtimes_str[\"GW190425_NRTidalv2\"],\n",
    "        make_table_entry_str_RB(relbin_sampling_time_GW190425_NRTidalv2),\n",
    "        make_table_entry_str_ROQ(roq_sampling_time_GW190425),\n",
    "        make_table_entry_str_injection(\"TF2\"), \n",
    "        make_table_entry_str_injection(\"NRTv2\"),\n",
    "       )\n",
    "\n",
    "print(latex_code)"
   ]
  },
  {
   "cell_type": "markdown",
   "metadata": {},
   "source": [
    "Trees"
   ]
  },
  {
   "cell_type": "code",
   "execution_count": 76,
   "metadata": {},
   "outputs": [],
   "source": [
    "def my_format(number: float, nb_round: int = 2):\n",
    "    my_string = str(np.round(number, nb_round))\n",
    "    before, after = my_string.split(\".\")\n",
    "    if len(after) == 1:\n",
    "        my_string = before + \".\" + after + \"0\"\n",
    "    return my_string"
   ]
  },
  {
   "cell_type": "code",
   "execution_count": 77,
   "metadata": {},
   "outputs": [
    {
     "name": "stdout",
     "output_type": "stream",
     "text": [
      "& & kWh & $\\rm{CO}_2$ [$10^3$ kg] & Trees${}^\\dagger$ \\\\\n",
      " \\hline\\hline\n",
      " \\textsc{Jim} & & $\\phantom{00}33.78$ & $\\phantom{0}0.011$ & $\\phantom{000}0.55$ \\\\\n",
      " \\textsc{pBilby} & & $3598.53$ & $1.18$ & $59.02$ \\\\\n",
      " \\textsc{RB-\\textsc{Bilby}} & & $90.78$ & $0.03$ & $1.49$ \\\\\n",
      " \\multirow{2}{*}{ROQ} & sampling & $32.00$ & $0.01$ & $0.52$ \\\\\n",
      " & precompute${}^\\ddagger$ & $5634.06$ & $1.85$ & $92.40$ \\\\\n",
      "\\hline\\hline\n"
     ]
    }
   ],
   "source": [
    "latex_code = '& & kWh & $\\\\rm{{CO}}_2$ [$10^3$ kg] & Trees${{}}^\\dagger$ \\\\\\\\\\n \\hline\\\\hline\\n \\\\textsc{{Jim}} & & $\\\\phantom{{00}}{}$ & $\\\\phantom{{0}}{}$ & $\\\\phantom{{000}}{}$ \\\\\\\\\\n \\\\textsc{{pBilby}} & & ${}$ & ${}$ & ${}$ \\\\\\\\\\n \\\\textsc{{RB-\\\\textsc{{Bilby}}}} & & ${}$ & ${}$ & ${}$ \\\\\\\\\\n \\\\multirow{{2}}{{*}}{{ROQ}} & sampling & ${}$ & ${}$ & ${}$ \\\\\\\\\\n & precompute${{}}^\\ddagger$ & ${}$ & ${}$ & ${}$ \\\\\\\\\\n\\\\hline\\\\hline'\\\n",
    ".format(my_format(N_runs * consumption_jim[\"avg\"]), # jim\n",
    "        my_format(N_runs * co2_jim[\"avg\"], nb_round = 3),\n",
    "        my_format(avg_nb_killed_trees_jim_paper),\n",
    "        my_format(N_runs * consumption_bilby[\"avg\"]), # pBilby\n",
    "        my_format(N_runs * co2_bilby[\"avg\"], nb_round = 3),\n",
    "        my_format(avg_nb_killed_trees_bilby_paper),\n",
    "        my_format(consumption_relbin), # RB-Bilby\n",
    "        my_format(co2_relbin, nb_round = 3),\n",
    "        my_format(trees_relbin),\n",
    "        my_format(consumption_roq), # ROQ-Bilby, sampling time\n",
    "        my_format(co2_roq, nb_round = 3),\n",
    "        my_format(trees_roq),\n",
    "        my_format(consumption_roq_precompute),# ROQ-Bilby, constructing base time\n",
    "        my_format(co2_roq_precompute),\n",
    "        my_format(trees_roq_precompute),\n",
    "       )\n",
    "\n",
    "print(latex_code)"
   ]
  },
  {
   "cell_type": "markdown",
   "metadata": {},
   "source": [
    "## Sanity checking with some timing info:"
   ]
  },
  {
   "cell_type": "code",
   "execution_count": 78,
   "metadata": {},
   "outputs": [],
   "source": [
    "# def report_timings_real_event_jim(path,\n",
    "#                                   nb_round: int = 2, \n",
    "#                                   convert_to_minutes: bool = True):\n",
    "    \n",
    "#     path = path[\"jim\"]\n",
    "#     runtime_evosax =  2 * np.loadtxt(path + \"/runtime_evosax.txt\") # twice as many loops used to fetch the params than the rerun had\n",
    "#     runtime_training = np.loadtxt(path + \"/runtime_training.txt\")\n",
    "#     runtime_production = np.loadtxt(path + \"/runtime_production.txt\")\n",
    "#     total = np.loadtxt(path + \"/runtime.txt\")\n",
    "    \n",
    "#     extra_string = \"seconds\"\n",
    "    \n",
    "#     if convert_to_minutes:\n",
    "#         runtime_evosax /= 60\n",
    "#         runtime_training /= 60\n",
    "#         runtime_production /= 60\n",
    "#         total /= 60\n",
    "#         extra_string = \"minutes\"\n",
    "        \n",
    "    \n",
    "#     runtime_evosax = np.round(runtime_evosax, nb_round)\n",
    "#     runtime_training = np.round(runtime_training, nb_round)\n",
    "#     runtime_production = np.round(runtime_production, nb_round)\n",
    "#     total = np.round(total, nb_round)\n",
    "    \n",
    "    \n",
    "#     print(f\"Runtime evosax: {runtime_evosax} {extra_string}\")\n",
    "#     print(f\"Runtime training: {runtime_training} {extra_string}\")\n",
    "#     print(f\"Runtime production: {runtime_production} {extra_string}\")\n",
    "#     print(f\"Total = {total} {extra_string}\")"
   ]
  },
  {
   "cell_type": "code",
   "execution_count": 79,
   "metadata": {},
   "outputs": [],
   "source": [
    "# for name, path in paths_dict.items():\n",
    "#     print(\" ==== event ====\")\n",
    "#     print(name)\n",
    "#     report_timings_real_event_jim(path)"
   ]
  },
  {
   "cell_type": "code",
   "execution_count": null,
   "metadata": {},
   "outputs": [],
   "source": []
  }
 ],
 "metadata": {
  "kernelspec": {
   "display_name": "Python 3",
   "language": "python",
   "name": "python3"
  },
  "language_info": {
   "codemirror_mode": {
    "name": "ipython",
    "version": 3
   },
   "file_extension": ".py",
   "mimetype": "text/x-python",
   "name": "python",
   "nbconvert_exporter": "python",
   "pygments_lexer": "ipython3",
   "version": "3.10.13"
  },
  "orig_nbformat": 4
 },
 "nbformat": 4,
 "nbformat_minor": 2
}
