{
 "cells": [
  {
   "cell_type": "markdown",
   "metadata": {},
   "source": [
    "# Analyze runtimes"
   ]
  },
  {
   "cell_type": "markdown",
   "metadata": {},
   "source": [
    "The referee asked about the total number of samples produced by the different pipelines."
   ]
  },
  {
   "cell_type": "code",
   "execution_count": 24,
   "metadata": {},
   "outputs": [],
   "source": [
    "import os\n",
    "import psutil\n",
    "p = psutil.Process()\n",
    "p.cpu_affinity([0])\n",
    "os.environ[\"CUDA_VISIBLE_DEVICES\"] = \"-1\"\n",
    "\n",
    "import numpy as np\n",
    "import jax.numpy as jnp\n",
    "import jax\n",
    "jax.config.update(\"jax_disable_jit\", True)\n",
    "import arviz\n",
    "\n",
    "import h5py\n",
    "import json"
   ]
  },
  {
   "cell_type": "code",
   "execution_count": 25,
   "metadata": {},
   "outputs": [],
   "source": [
    "gwosc_path = \"/home/thibeau.wouters/gw-datasets/GW190425/posterior_samples.h5\"\n",
    "jim_root_path = \"/home/thibeau.wouters/TurboPE-BNS/real_events/\"\n",
    "bilby_root_path = \"/home/thibeau.wouters/jim_pbilby_samples/older_bilby_version/\"\n",
    "paths_dict = {\"GW170817_TaylorF2\": {\"jim\": jim_root_path + \"GW170817_TaylorF2/outdir/results_production.npz\",\n",
    "                    \"bilby\": bilby_root_path + \"GW170817_TF2_with_tukey_fix_result.json\"},\n",
    "              \n",
    "              \"GW170817_NRTidalv2\": {\"jim\": jim_root_path + \"GW170817_NRTidalv2/outdir/results_production.npz\",\n",
    "                                     \"bilby\": bilby_root_path + \"GW170817_IMRPhenomD_NRTidalv2_result.json\",\n",
    "                    },\n",
    "              \n",
    "              \"GW190425_TaylorF2\": {\"jim\": jim_root_path + \"GW190425_TaylorF2/outdir_gwosc_data/results_production.npz\",\n",
    "                                    \"bilby\": bilby_root_path + \"GW190425_GWOSC_data_result.json\",\n",
    "                    },\n",
    "              \n",
    "              \"GW190425_NRTidalv2\": {\"jim\": jim_root_path + \"GW190425_NRTidalv2/outdir/results_production.npz\",\n",
    "                                     \"bilby\": bilby_root_path + \"GW190425_NRTv2_GWOSC_data_result.json\",\n",
    "                    },\n",
    "}\n",
    "\n",
    "RUN_NAMES = list(paths_dict.keys())\n",
    "JIM_VAR_NAMES = ['M_c', 'q', 's1_z', 's2_z', 'lambda_1', 'lambda_2', 'd_L', 't_c', 'phase_c', 'cos_iota', 'psi', 'ra', 'sin_dec']\n",
    "BILBY_VAR_NAMES = ['chirp_mass', 'mass_ratio', 'spin_1z', 'spin_2z', 'lambda_1', 'lambda_2', 'luminosity_distance', 'phase', 'iota', 'psi', 'ra', 'dec']"
   ]
  },
  {
   "cell_type": "markdown",
   "metadata": {},
   "source": [
    "## Jim"
   ]
  },
  {
   "cell_type": "code",
   "execution_count": 26,
   "metadata": {},
   "outputs": [],
   "source": [
    "def get_nb_jim_samples(path: str, \n",
    "                       report_runtime_production: bool = False,\n",
    "                       get_ess: bool = True):\n",
    "    data = np.load(path)\n",
    "    chains = data[\"chains\"]\n",
    "    a, b = np.shape(chains)[0], np.shape(chains)[1]\n",
    "    \n",
    "    # Also show the runtimes of the production loop\n",
    "    if report_runtime_production:\n",
    "        new_path = path.replace(\"results_production.npz\", \"runtime_production.txt\")\n",
    "        \n",
    "        time = np.loadtxt(new_path)\n",
    "        print(\"Runtime production:\", time)\n",
    "        \n",
    "    # Get the chains and the log prob\n",
    "    data = np.load(path)\n",
    "    chains = data[\"chains\"]\n",
    "    chains = np.reshape(chains, (int(a * b), 13))\n",
    "    log_prob = data[\"log_prob\"]\n",
    "    log_prob = np.reshape(log_prob, (int(a * b),))\n",
    "    \n",
    "    print(np.shape(chains))\n",
    "    print(np.shape(log_prob))\n",
    "    \n",
    "    # Do rejection sampling\n",
    "    weights = np.exp(log_prob)\n",
    "    keep = weights > np.random.uniform(0, max(weights), weights.shape)\n",
    "    \n",
    "    ess = np.sum(keep)\n",
    "    \n",
    "    return a * b, ess"
   ]
  },
  {
   "cell_type": "code",
   "execution_count": 27,
   "metadata": {},
   "outputs": [],
   "source": [
    "def my_avg(values):\n",
    "    \"\"\"Take the average but floor and int it\"\"\"\n",
    "    \n",
    "    return int(np.floor(np.mean(list(values))))"
   ]
  },
  {
   "cell_type": "code",
   "execution_count": 28,
   "metadata": {},
   "outputs": [
    {
     "name": "stdout",
     "output_type": "stream",
     "text": [
      "(220000, 13)\n",
      "(220000,)\n",
      "(220000, 13)\n",
      "(220000,)\n",
      "(600000, 13)\n",
      "(600000,)\n",
      "(600000, 13)\n",
      "(600000,)\n",
      "Total samples for Jim\n",
      "{'GW170817_TaylorF2': 220000, 'GW170817_NRTidalv2': 220000, 'GW190425_TaylorF2': 600000, 'GW190425_NRTidalv2': 600000}\n",
      "ESS for Jim\n",
      "{'GW170817_TaylorF2': 1793, 'GW170817_NRTidalv2': 3299, 'GW190425_TaylorF2': 4334, 'GW190425_NRTidalv2': 11392}\n"
     ]
    }
   ],
   "source": [
    "total_nb_samples_jim = {}\n",
    "ess_jim = {}\n",
    "\n",
    "for run_name in RUN_NAMES:\n",
    "    total, ess = get_nb_jim_samples(paths_dict[run_name][\"jim\"])\n",
    "    total_nb_samples_jim[run_name] = total\n",
    "    ess_jim[run_name] = ess\n",
    "    \n",
    "print(\"Total samples for Jim\")\n",
    "print(total_nb_samples_jim)\n",
    "\n",
    "print(\"ESS for Jim\")\n",
    "print(ess_jim)\n"
   ]
  },
  {
   "cell_type": "markdown",
   "metadata": {},
   "source": [
    "## Bilby"
   ]
  },
  {
   "cell_type": "code",
   "execution_count": 29,
   "metadata": {},
   "outputs": [],
   "source": [
    "def get_nb_bilby_samples(path: str):\n",
    "    \n",
    "    with open(path, \"r\") as f:\n",
    "        data = json.load(f)\n",
    "    posterior = data[\"posterior\"][\"content\"]\n",
    "    mc = posterior[\"chirp_mass\"] # just taking the chirp mass samples as an example\n",
    "    n = len(mc)\n",
    "    \n",
    "    # Compute the ESS\n",
    "    my_ess_list = []\n",
    "    for name in BILBY_VAR_NAMES:\n",
    "        values = posterior[name]\n",
    "        \n",
    "        # NOTE: sometimes the json is broken and there are dicts instead of floats\n",
    "        if isinstance(values[0], dict):\n",
    "            new_values = [item['content'] for item in values]\n",
    "            values = new_values\n",
    "\n",
    "        values = np.array(values)\n",
    "\n",
    "        ess = arviz.ess(values)\n",
    "        my_ess_list.append(ess)\n",
    "        \n",
    "    avg_ess = int(np.floor(np.mean(my_ess_list)))\n",
    "        \n",
    "    return n, avg_ess"
   ]
  },
  {
   "cell_type": "markdown",
   "metadata": {},
   "source": [
    "### pBilby"
   ]
  },
  {
   "cell_type": "code",
   "execution_count": 30,
   "metadata": {},
   "outputs": [
    {
     "name": "stdout",
     "output_type": "stream",
     "text": [
      "Total samples for Bilby\n",
      "{'GW170817_TaylorF2': 44782, 'GW170817_NRTidalv2': 45365, 'GW190425_TaylorF2': 30782, 'GW190425_NRTidalv2': 30277}\n",
      "Average total samples for Bilby\n",
      "37801\n",
      "ESS for Bilby\n",
      "{'GW170817_TaylorF2': 3982, 'GW170817_NRTidalv2': 4177, 'GW190425_TaylorF2': 5389, 'GW190425_NRTidalv2': 4709}\n",
      "Average ESS for Bilby\n",
      "4564\n"
     ]
    }
   ],
   "source": [
    "total_nb_samples_bilby = {}\n",
    "ess_bilby = {}\n",
    "\n",
    "for run_name in RUN_NAMES:\n",
    "    path = paths_dict[run_name][\"bilby\"]\n",
    "    total, ess = get_nb_bilby_samples(path)\n",
    "    \n",
    "    total_nb_samples_bilby[run_name] = total\n",
    "    ess_bilby[run_name] = ess\n",
    "    \n",
    "print(\"Total samples for Bilby\")\n",
    "print(total_nb_samples_bilby)\n",
    "\n",
    "print(\"Average total samples for Bilby\")\n",
    "avg_total_nb_samples_bilby = my_avg(list(total_nb_samples_bilby.values()))\n",
    "print(avg_total_nb_samples_bilby)\n",
    "\n",
    "print(\"ESS for Bilby\")\n",
    "print(ess_bilby)\n",
    "\n",
    "avg_ess_bilby = my_avg(list(ess_bilby.values()))\n",
    "print(\"Average ESS for Bilby\")\n",
    "print(avg_ess_bilby)"
   ]
  },
  {
   "cell_type": "markdown",
   "metadata": {},
   "source": [
    "### Relative binning-Bilby"
   ]
  },
  {
   "cell_type": "code",
   "execution_count": 31,
   "metadata": {},
   "outputs": [],
   "source": [
    "def get_nb_rb_bilby_samples(path: str):\n",
    "    \n",
    "    with h5py.File(path, \"r\") as f:\n",
    "        posterior = f[\"posterior\"]\n",
    "        mc = posterior[\"chirp_mass\"][()] # just taking the chirp mass samples as an example\n",
    "        n = len(mc)\n",
    "        \n",
    "        my_ess_list = []\n",
    "        for name in BILBY_VAR_NAMES:\n",
    "            values = posterior[name][()]\n",
    "            \n",
    "            # NOTE: sometimes the json is broken and there are dicts instead of floats\n",
    "            if isinstance(values[0], dict):\n",
    "                new_values = [item['content'] for item in values]\n",
    "                values = new_values\n",
    "\n",
    "            values = np.array(values)\n",
    "\n",
    "            ess = arviz.ess(values)\n",
    "            # print(f\"ESS for {name} production: {ess}\")\n",
    "            my_ess_list.append(ess)\n",
    "                \n",
    "        avg_ess = int(np.floor(np.mean(my_ess_list)))\n",
    "    \n",
    "    return n, avg_ess"
   ]
  },
  {
   "cell_type": "code",
   "execution_count": 32,
   "metadata": {},
   "outputs": [
    {
     "name": "stdout",
     "output_type": "stream",
     "text": [
      "GW170817_TaylorF2\n"
     ]
    },
    {
     "name": "stdout",
     "output_type": "stream",
     "text": [
      "GW170817_NRTidalv2\n",
      "GW190425_TaylorF2\n",
      "GW190425_NRTidalv2\n",
      "Total samples for RB Bilby\n",
      "{'GW170817_TaylorF2': 5258, 'GW170817_NRTidalv2': 5172, 'GW190425_TaylorF2': 6743, 'GW190425_NRTidalv2': 5172}\n",
      "Average total samples for RB Bilby\n",
      "5586\n",
      "ESS for RB Bilby\n",
      "{'GW170817_TaylorF2': 3274, 'GW170817_NRTidalv2': 3837, 'GW190425_TaylorF2': 3661, 'GW190425_NRTidalv2': 3837}\n",
      "Average ESS for RB Bilby\n",
      "3652\n"
     ]
    }
   ],
   "source": [
    "rb_paths = [\"../RB/gw170817_relbin_TaylorF2_result.hdf5\", \n",
    "            \"../RB/gw170817_relbin_result.hdf5\",\n",
    "            \"../RB/gw190425_relbin_TaylorF2_result.hdf5\",\n",
    "            \"../RB/gw190425_relbin_result.hdf5\"]\n",
    "\n",
    "total_nb_samples_rb_bilby = {}\n",
    "ess_rb_bilby = {}\n",
    "\n",
    "for path, run_name in zip(rb_paths, RUN_NAMES):\n",
    "    print(run_name)\n",
    "    total, ess = get_nb_rb_bilby_samples(path)\n",
    "\n",
    "    total_nb_samples_rb_bilby[run_name] = total\n",
    "    ess_rb_bilby[run_name] = ess\n",
    "    \n",
    "print(\"Total samples for RB Bilby\")\n",
    "print(total_nb_samples_rb_bilby)\n",
    "\n",
    "print(\"Average total samples for RB Bilby\")\n",
    "avg_total_nb_samples_rb_bilby = my_avg(list(total_nb_samples_rb_bilby.values()))\n",
    "print(avg_total_nb_samples_rb_bilby)\n",
    "\n",
    "print(\"ESS for RB Bilby\")\n",
    "print(ess_rb_bilby)\n",
    "\n",
    "avg_ess_rb_bilby = my_avg(list(ess_rb_bilby.values()))\n",
    "print(\"Average ESS for RB Bilby\")\n",
    "print(avg_ess_rb_bilby)"
   ]
  },
  {
   "cell_type": "markdown",
   "metadata": {},
   "source": [
    "### ROQ-Bilby"
   ]
  },
  {
   "cell_type": "code",
   "execution_count": 33,
   "metadata": {},
   "outputs": [
    {
     "name": "stdout",
     "output_type": "stream",
     "text": [
      "/home/thibeau.wouters/TurboPE-BNS/ROQ/gw170817_ROQ_result.hdf5\n",
      "/home/thibeau.wouters/TurboPE-BNS/ROQ/gw190425_ROQ_result.hdf5\n",
      "Total samples for ROQ Bilby\n",
      "{'/home/thibeau.wouters/TurboPE-BNS/ROQ/gw170817_ROQ_result.hdf5': 5258, '/home/thibeau.wouters/TurboPE-BNS/ROQ/gw190425_ROQ_result.hdf5': 5172}\n",
      "Average total samples for ROQ Bilby\n",
      "5215\n",
      "ESS for ROQ Bilby\n",
      "{'/home/thibeau.wouters/TurboPE-BNS/ROQ/gw170817_ROQ_result.hdf5': 3274, '/home/thibeau.wouters/TurboPE-BNS/ROQ/gw190425_ROQ_result.hdf5': 3837}\n",
      "Average ESS for ROQ Bilby\n",
      "3555\n"
     ]
    }
   ],
   "source": [
    "roq_paths = [\"/home/thibeau.wouters/TurboPE-BNS/ROQ/gw170817_ROQ_result.hdf5\",\n",
    "             \"/home/thibeau.wouters/TurboPE-BNS/ROQ/gw190425_ROQ_result.hdf5\"]\n",
    "\n",
    "total_nb_samples_roq_bilby = {}\n",
    "ess_roq_bilby = {}\n",
    "\n",
    "for path, run_name in zip(rb_paths, roq_paths):\n",
    "    print(run_name)\n",
    "    total, ess = get_nb_rb_bilby_samples(path)\n",
    "\n",
    "    total_nb_samples_roq_bilby[run_name] = total\n",
    "    ess_roq_bilby[run_name] = ess\n",
    "    \n",
    "print(\"Total samples for ROQ Bilby\")\n",
    "print(total_nb_samples_roq_bilby)\n",
    "\n",
    "print(\"Average total samples for ROQ Bilby\")\n",
    "avg_total_nb_samples_roq_bilby = my_avg(list(total_nb_samples_roq_bilby.values()))\n",
    "print(avg_total_nb_samples_roq_bilby)\n",
    "\n",
    "print(\"ESS for ROQ Bilby\")\n",
    "print(ess_roq_bilby)\n",
    "\n",
    "avg_ess_roq_bilby = my_avg(list(ess_roq_bilby.values()))\n",
    "print(\"Average ESS for ROQ Bilby\")\n",
    "print(avg_ess_roq_bilby)"
   ]
  },
  {
   "cell_type": "markdown",
   "metadata": {},
   "source": [
    "# Combine into a table"
   ]
  },
  {
   "cell_type": "code",
   "execution_count": 34,
   "metadata": {},
   "outputs": [
    {
     "name": "stdout",
     "output_type": "stream",
     "text": [
      "(220000, 600000)\n",
      "(1793, 11392)\n"
     ]
    }
   ],
   "source": [
    "values = list(total_nb_samples_jim.values())\n",
    "print((np.min(values), np.max(values)))\n",
    "\n",
    "values = list(ess_jim.values())\n",
    "print((np.min(values), np.max(values)))"
   ]
  },
  {
   "cell_type": "code",
   "execution_count": 35,
   "metadata": {},
   "outputs": [],
   "source": [
    "def my_get_number(value):\n",
    "    value = int(np.round(value))\n",
    "    my_string = str(value)\n",
    "    first, second = my_string[0], my_string[1]\n",
    "    \n",
    "    power = int(np.floor(np.log10(value)))\n",
    "    \n",
    "    return_string = r\"{}.{} \\times 10^{}\".format(first, second, power)\n",
    "    \n",
    "    return return_string"
   ]
  },
  {
   "cell_type": "code",
   "execution_count": 36,
   "metadata": {},
   "outputs": [
    {
     "name": "stdout",
     "output_type": "stream",
     "text": [
      "& Number of samples & Number of effective samples \\\\\n",
      " \\hline\\hline\n",
      " \\textsc{Jim} & $4.1 \\times 10^5$ & $5.2 \\times 10^3$ \\\\ \\hline \n",
      " \\textsc{pBilby} & $3.7 \\times 10^4$ & $4.5 \\times 10^3$ \\\\ \\hline \n",
      " \\textsc{RB-Bilby} & $5.5 \\times 10^3$ & $3.6 \\times 10^3$ \\\\ \\hline \n",
      " \\textsc{ROQ-Bilby} & $5.2 \\times 10^3$ & $3.5 \\times 10^3$ \\\\ \\hline\\hline\n"
     ]
    }
   ],
   "source": [
    "latex_code = '& Number of samples & Number of effective samples \\\\\\\\\\n \\hline\\\\hline\\n \\\\textsc{{Jim}} & ${}$ & ${}$ \\\\\\\\ \\\\hline \\n \\\\textsc{{pBilby}} & ${}$ & ${}$ \\\\\\\\ \\\\hline \\n \\\\textsc{{RB-Bilby}} & ${}$ & ${}$ \\\\\\\\ \\\\hline \\n \\\\textsc{{ROQ-Bilby}} & ${}$ & ${}$ \\\\\\\\ \\\\hline\\\\hline'\\\n",
    ".format(my_get_number(np.mean(list(total_nb_samples_jim.values()))),\n",
    "        my_get_number(np.mean(list(ess_jim.values()))),\n",
    "        my_get_number(avg_total_nb_samples_bilby),\n",
    "        my_get_number(avg_ess_bilby),\n",
    "        my_get_number(avg_total_nb_samples_rb_bilby),\n",
    "        my_get_number(avg_ess_rb_bilby),\n",
    "        my_get_number(avg_total_nb_samples_roq_bilby),\n",
    "        my_get_number(avg_ess_roq_bilby)\n",
    ")\n",
    "\n",
    "print(latex_code)\n",
    "\n",
    "# my_get_number(np.min(list(total_nb_samples_jim.values()))) + \" -- \" + my_get_number(np.max(list(total_nb_samples_jim.values()))),\n",
    "# my_get_number(np.min(list(ess_jim.values()))) + \" -- \" + my_get_number(np.max(list(ess_jim.values())))"
   ]
  },
  {
   "cell_type": "markdown",
   "metadata": {},
   "source": [
    "## Final table"
   ]
  },
  {
   "cell_type": "markdown",
   "metadata": {},
   "source": [
    "Only quote ESS to make it more informed."
   ]
  },
  {
   "cell_type": "code",
   "execution_count": 37,
   "metadata": {},
   "outputs": [
    {
     "name": "stdout",
     "output_type": "stream",
     "text": [
      "& Number of effective samples \\\\\n",
      " \\hline\\hline\n",
      " \\textsc{Jim} & $5.2 \\times 10^3$ \\\\ \\hline \n",
      " \\textsc{pBilby} & $4.5 \\times 10^3$ \\\\ \\hline \n",
      " \\textsc{RB-Bilby} & $3.6 \\times 10^3$ \\\\ \\hline \n",
      " \\textsc{ROQ-Bilby} & $3.5 \\times 10^3$ \\\\ \\hline\\hline\n"
     ]
    }
   ],
   "source": [
    "latex_code = '& Number of effective samples \\\\\\\\\\n \\hline\\\\hline\\n \\\\textsc{{Jim}} & ${}$ \\\\\\\\ \\\\hline \\n \\\\textsc{{pBilby}} & ${}$ \\\\\\\\ \\\\hline \\n \\\\textsc{{RB-Bilby}} & ${}$ \\\\\\\\ \\\\hline \\n \\\\textsc{{ROQ-Bilby}} & ${}$ \\\\\\\\ \\\\hline\\\\hline'\\\n",
    ".format(my_get_number(np.mean(list(ess_jim.values()))),\n",
    "        my_get_number(avg_ess_bilby),\n",
    "        my_get_number(avg_ess_rb_bilby),\n",
    "        my_get_number(avg_ess_roq_bilby)\n",
    ")\n",
    "\n",
    "print(latex_code)\n",
    "\n",
    "# my_get_number(np.min(list(total_nb_samples_jim.values()))) + \" -- \" + my_get_number(np.max(list(total_nb_samples_jim.values()))),\n",
    "# my_get_number(np.min(list(ess_jim.values()))) + \" -- \" + my_get_number(np.max(list(ess_jim.values())))"
   ]
  },
  {
   "cell_type": "code",
   "execution_count": null,
   "metadata": {},
   "outputs": [],
   "source": []
  }
 ],
 "metadata": {
  "kernelspec": {
   "display_name": "Python 3",
   "language": "python",
   "name": "python3"
  },
  "language_info": {
   "codemirror_mode": {
    "name": "ipython",
    "version": 3
   },
   "file_extension": ".py",
   "mimetype": "text/x-python",
   "name": "python",
   "nbconvert_exporter": "python",
   "pygments_lexer": "ipython3",
   "version": "3.10.13"
  },
  "orig_nbformat": 4
 },
 "nbformat": 4,
 "nbformat_minor": 2
}
