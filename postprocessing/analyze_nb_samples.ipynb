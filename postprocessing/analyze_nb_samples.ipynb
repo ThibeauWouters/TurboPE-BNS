{
 "cells": [
  {
   "cell_type": "markdown",
   "metadata": {},
   "source": [
    "# Analyze runtimes"
   ]
  },
  {
   "cell_type": "markdown",
   "metadata": {},
   "source": [
    "The referee asked about the total number of samples produced by the different pipelines."
   ]
  },
  {
   "cell_type": "code",
   "execution_count": 175,
   "metadata": {},
   "outputs": [],
   "source": [
    "import os\n",
    "import psutil\n",
    "p = psutil.Process()\n",
    "p.cpu_affinity([0])\n",
    "os.environ[\"CUDA_VISIBLE_DEVICES\"] = \"-1\"\n",
    "\n",
    "import numpy as np\n",
    "import matplotlib.pyplot as plt\n",
    "import jax.numpy as jnp\n",
    "import jax\n",
    "jax.config.update(\"jax_disable_jit\", True)\n",
    "import arviz\n",
    "\n",
    "import h5py\n",
    "import json\n",
    "from scipy.special import logsumexp"
   ]
  },
  {
   "cell_type": "code",
   "execution_count": 176,
   "metadata": {},
   "outputs": [],
   "source": [
    "gwosc_path = \"/home/thibeau.wouters/gw-datasets/GW190425/posterior_samples.h5\"\n",
    "jim_root_path = \"/home/thibeau.wouters/TurboPE-BNS/real_events/\"\n",
    "bilby_root_path = \"/home/thibeau.wouters/jim_pbilby_samples/older_bilby_version/\"\n",
    "paths_dict = {\"GW170817_TaylorF2\": {\"jim\": jim_root_path + \"GW170817_TaylorF2/outdir/results_production.npz\",\n",
    "                    \"bilby\": bilby_root_path + \"GW170817_TF2_with_tukey_fix_result.json\"},\n",
    "              \n",
    "              \"GW170817_NRTidalv2\": {\"jim\": jim_root_path + \"GW170817_NRTidalv2/outdir/results_production.npz\",\n",
    "                                     \"bilby\": bilby_root_path + \"GW170817_IMRPhenomD_NRTidalv2_result.json\",\n",
    "                    },\n",
    "              \n",
    "              \"GW190425_TaylorF2\": {\"jim\": jim_root_path + \"GW190425_TaylorF2/outdir_gwosc_data/results_production.npz\",\n",
    "                                    \"bilby\": bilby_root_path + \"GW190425_GWOSC_data_result.json\",\n",
    "                    },\n",
    "              \n",
    "              \"GW190425_NRTidalv2\": {\"jim\": jim_root_path + \"GW190425_NRTidalv2/outdir/results_production.npz\",\n",
    "                                     \"bilby\": bilby_root_path + \"GW190425_NRTv2_GWOSC_data_result.json\",\n",
    "                    },\n",
    "}\n",
    "\n",
    "RUN_NAMES = list(paths_dict.keys())\n",
    "JIM_VAR_NAMES = ['M_c', 'q', 's1_z', 's2_z', 'lambda_1', 'lambda_2', 'd_L', 't_c', 'phase_c', 'cos_iota', 'psi', 'ra', 'sin_dec']\n",
    "BILBY_VAR_NAMES = ['chirp_mass', 'mass_ratio', 'spin_1z', 'spin_2z', 'lambda_1', 'lambda_2', 'luminosity_distance', 'phase', 'iota', 'psi', 'ra', 'dec']"
   ]
  },
  {
   "cell_type": "markdown",
   "metadata": {},
   "source": [
    "## ESS methods"
   ]
  },
  {
   "cell_type": "code",
   "execution_count": 177,
   "metadata": {},
   "outputs": [],
   "source": [
    "def log_prob_to_weights(log_prob):\n",
    "    log_prob_normalized = log_prob - logsumexp(log_prob)\n",
    "    weights = np.exp(log_prob_normalized)\n",
    "    return weights\n",
    "\n",
    "def kish_ess(weights):\n",
    "    return (np.sum(weights))**2/np.sum(weights**2)\n",
    "\n",
    "def compute_ess(log_prob, \n",
    "                convert_log_prob_to_weights: bool = False,\n",
    "                method = \"kish\"):\n",
    "\n",
    "    # if log probs are given (in case of jim), convert to weights\n",
    "    if convert_log_prob_to_weights:\n",
    "        weights = log_prob_to_weights(log_prob)\n",
    "    else:\n",
    "        weights = log_prob # so actually \"log prob\" is a misnomer...\n",
    "    \n",
    "    if method == \"rejection_sampling\":\n",
    "        # weights /= np.sum(weights) # to avoid overflow?\n",
    "        keep = weights > np.random.uniform(0, max(weights), weights.shape)\n",
    "        ess = np.sum(keep)\n",
    "        \n",
    "    elif method == \"new_bilby\":\n",
    "        # The new bilby has already rejection sampled --- so N_samples = ESS\n",
    "        ess = len(weights)\n",
    "        \n",
    "    else:\n",
    "        raise ValueError(\"Unknown method\")\n",
    "    \n",
    "    return ess\n",
    "\n",
    "def compute_arviz_ess(chains, which: str = \"smallest\"):\n",
    "    ess_list = []\n",
    "    chains = np.array(chains).T\n",
    "    for param_chains in chains:\n",
    "        ess_list.append(arviz.ess(param_chains))\n",
    "        \n",
    "    if which == \"smallest\":\n",
    "        ess = np.min(ess_list)\n",
    "    elif which in [\"average\", \"mean\"]:\n",
    "        ess = np.mean(ess_list)\n",
    "        \n",
    "    return ess"
   ]
  },
  {
   "cell_type": "markdown",
   "metadata": {},
   "source": [
    "Some further utility functions"
   ]
  },
  {
   "cell_type": "code",
   "execution_count": 178,
   "metadata": {},
   "outputs": [],
   "source": [
    "def my_avg(values):\n",
    "    \"\"\"Take the average but floor and int it\"\"\"\n",
    "    \n",
    "    return int(np.floor(np.mean(list(values))))\n",
    "\n",
    "def my_get_number(value):\n",
    "    value = int(np.round(value))\n",
    "    my_string = str(value)\n",
    "    first, second = my_string[0], my_string[1]\n",
    "    \n",
    "    power = int(np.floor(np.log10(value)))\n",
    "    \n",
    "    return_string = r\"{}.{} \\times 10^{}\".format(first, second, power)\n",
    "    \n",
    "    return return_string"
   ]
  },
  {
   "cell_type": "markdown",
   "metadata": {},
   "source": [
    "## Jim"
   ]
  },
  {
   "cell_type": "code",
   "execution_count": 179,
   "metadata": {},
   "outputs": [],
   "source": [
    "def get_nb_jim_samples(path: str):\n",
    "    \n",
    "    identifier = path.split(\"/\")[-3]\n",
    "    print(f\"identifier is: {identifier}\")\n",
    "    \n",
    "    data = np.load(path)\n",
    "    chains = data[\"chains\"]\n",
    "    a, b = np.shape(chains)[0], np.shape(chains)[1]\n",
    "    \n",
    "    # Get the chains and the log prob\n",
    "    data = np.load(path)\n",
    "    chains = data[\"chains\"]\n",
    "    chains = np.reshape(chains, (int(a * b), 13))\n",
    "    log_prob = data[\"log_prob\"]\n",
    "    log_prob = np.reshape(log_prob, (int(a * b),))\n",
    "    \n",
    "    # Check what values are for both methods\n",
    "    for which_ in [\"smallest\", \"mean\"]:\n",
    "        ess = compute_arviz_ess(chains, which = which_)\n",
    "        print(f\"ESS (which = {which_}) is: {ess}\")\n",
    "    \n",
    "    ess = compute_arviz_ess(chains, which = \"mean\")\n",
    "    \n",
    "    return a * b, ess"
   ]
  },
  {
   "cell_type": "code",
   "execution_count": 180,
   "metadata": {},
   "outputs": [
    {
     "name": "stdout",
     "output_type": "stream",
     "text": [
      "identifier is: GW170817_TaylorF2\n",
      "ESS (which = smallest) is: 11523.01574505162\n",
      "ESS (which = mean) is: 18903.66915946\n",
      "identifier is: GW170817_NRTidalv2\n",
      "ESS (which = smallest) is: 9566.584275663423\n",
      "ESS (which = mean) is: 16488.749027760172\n",
      "identifier is: GW190425_TaylorF2\n",
      "ESS (which = smallest) is: 51591.248901791354\n",
      "ESS (which = mean) is: 106992.97257659023\n",
      "identifier is: GW190425_NRTidalv2\n",
      "ESS (which = smallest) is: 13444.139475239215\n",
      "ESS (which = mean) is: 24243.663665017328\n",
      "Total samples for Jim\n",
      "{'GW170817_TaylorF2': 220000, 'GW170817_NRTidalv2': 220000, 'GW190425_TaylorF2': 600000, 'GW190425_NRTidalv2': 600000}\n",
      "ESS for Jim\n",
      "{'GW170817_TaylorF2': 18903.66915946, 'GW170817_NRTidalv2': 16488.749027760172, 'GW190425_TaylorF2': 106992.97257659023, 'GW190425_NRTidalv2': 24243.663665017328}\n"
     ]
    }
   ],
   "source": [
    "total_nb_samples_jim = {}\n",
    "ess_jim = {}\n",
    "\n",
    "for run_name in RUN_NAMES:\n",
    "    total, ess = get_nb_jim_samples(paths_dict[run_name][\"jim\"])\n",
    "    total_nb_samples_jim[run_name] = total\n",
    "    ess_jim[run_name] = ess\n",
    "    \n",
    "print(\"Total samples for Jim\")\n",
    "print(total_nb_samples_jim)\n",
    "\n",
    "print(\"ESS for Jim\")\n",
    "print(ess_jim)"
   ]
  },
  {
   "cell_type": "markdown",
   "metadata": {},
   "source": [
    "## Bilby"
   ]
  },
  {
   "cell_type": "code",
   "execution_count": 181,
   "metadata": {},
   "outputs": [],
   "source": [
    "def get_nb_bilby_samples(path: str, method = \"new_bilby\"):\n",
    "    \n",
    "    with open(path, \"r\") as f:\n",
    "        data = json.load(f)\n",
    "    posterior = data[\"posterior\"][\"content\"]\n",
    "    mc = posterior[\"chirp_mass\"] # just taking the chirp mass samples as an example to get total number of samples\n",
    "    n = len(mc)\n",
    "    \n",
    "    # log_likelihood = np.array(posterior[\"log_likelihood\"])\n",
    "    # samples = data[\"samples\"]['content']\n",
    "    nested_samples_weights = data[\"nested_samples\"]['content'][\"weights\"]\n",
    "    \n",
    "    ess = int(compute_ess(np.array(nested_samples_weights), convert_log_prob_to_weights=False, method = method))\n",
    "        \n",
    "    return n, ess"
   ]
  },
  {
   "cell_type": "markdown",
   "metadata": {},
   "source": [
    "### pBilby"
   ]
  },
  {
   "cell_type": "code",
   "execution_count": 182,
   "metadata": {},
   "outputs": [
    {
     "name": "stdout",
     "output_type": "stream",
     "text": [
      "Total samples for Bilby\n",
      "{'GW170817_TaylorF2': 44782, 'GW170817_NRTidalv2': 45365, 'GW190425_TaylorF2': 30782, 'GW190425_NRTidalv2': 30277}\n",
      "ESS for Bilby\n",
      "{'GW170817_TaylorF2': 6215, 'GW170817_NRTidalv2': 6336, 'GW190425_TaylorF2': 6754, 'GW190425_NRTidalv2': 6918}\n"
     ]
    }
   ],
   "source": [
    "total_nb_samples_bilby = {}\n",
    "ess_bilby = {}\n",
    "\n",
    "for run_name in RUN_NAMES:\n",
    "    path = paths_dict[run_name][\"bilby\"]\n",
    "    total, ess = get_nb_bilby_samples(path, method = \"rejection_sampling\")\n",
    "    \n",
    "    total_nb_samples_bilby[run_name] = total\n",
    "    ess_bilby[run_name] = ess\n",
    "    \n",
    "print(\"Total samples for Bilby\")\n",
    "print(total_nb_samples_bilby)\n",
    "\n",
    "print(\"ESS for Bilby\")\n",
    "print(ess_bilby)\n",
    "\n",
    "# Get the averages\n",
    "avg_total_nb_samples_bilby = my_avg(list(total_nb_samples_bilby.values()))\n",
    "avg_ess_bilby = my_avg(list(ess_bilby.values()))"
   ]
  },
  {
   "cell_type": "markdown",
   "metadata": {},
   "source": [
    "### Relative binning-Bilby"
   ]
  },
  {
   "cell_type": "code",
   "execution_count": 183,
   "metadata": {},
   "outputs": [],
   "source": [
    "def get_nb_rb_bilby_samples(path: str):\n",
    "    \"\"\"Different file format -- but these are with the new pBilby version so just return the number of samples as ESS\"\"\"\n",
    "    \n",
    "    with h5py.File(path, \"r\") as f:\n",
    "        posterior = f[\"posterior\"]\n",
    "        mc = posterior[\"chirp_mass\"][()] # just taking the chirp mass samples as an example\n",
    "        n = len(mc)\n",
    "        \n",
    "        avg_ess = n\n",
    "    \n",
    "    return n, avg_ess"
   ]
  },
  {
   "cell_type": "code",
   "execution_count": 184,
   "metadata": {},
   "outputs": [
    {
     "name": "stdout",
     "output_type": "stream",
     "text": [
      "GW170817_TaylorF2\n",
      "GW170817_NRTidalv2\n",
      "GW190425_TaylorF2\n",
      "GW190425_NRTidalv2\n",
      "Total samples for RB Bilby\n",
      "{'GW170817_TaylorF2': 5258, 'GW170817_NRTidalv2': 5172, 'GW190425_TaylorF2': 6743, 'GW190425_NRTidalv2': 5172}\n",
      "ESS for RB Bilby\n",
      "{'GW170817_TaylorF2': 5258, 'GW170817_NRTidalv2': 5172, 'GW190425_TaylorF2': 6743, 'GW190425_NRTidalv2': 5172}\n"
     ]
    }
   ],
   "source": [
    "rb_paths = [\"../RB/gw170817_relbin_TaylorF2_result.hdf5\", \n",
    "            \"../RB/gw170817_relbin_result.hdf5\",\n",
    "            \"../RB/gw190425_relbin_TaylorF2_result.hdf5\",\n",
    "            \"../RB/gw190425_relbin_result.hdf5\"]\n",
    "\n",
    "total_nb_samples_rb_bilby = {}\n",
    "ess_rb_bilby = {}\n",
    "\n",
    "for path, run_name in zip(rb_paths, RUN_NAMES):\n",
    "    print(run_name)\n",
    "    total, ess = get_nb_rb_bilby_samples(path)\n",
    "\n",
    "    total_nb_samples_rb_bilby[run_name] = total\n",
    "    ess_rb_bilby[run_name] = ess\n",
    "    \n",
    "print(\"Total samples for RB Bilby\")\n",
    "print(total_nb_samples_rb_bilby)\n",
    "\n",
    "print(\"ESS for RB Bilby\")\n",
    "print(ess_rb_bilby)\n",
    "\n",
    "avg_total_nb_samples_rb_bilby = my_avg(list(total_nb_samples_rb_bilby.values()))\n",
    "avg_ess_rb_bilby = my_avg(list(ess_rb_bilby.values()))"
   ]
  },
  {
   "cell_type": "markdown",
   "metadata": {},
   "source": [
    "### ROQ-Bilby"
   ]
  },
  {
   "cell_type": "code",
   "execution_count": 185,
   "metadata": {},
   "outputs": [
    {
     "name": "stdout",
     "output_type": "stream",
     "text": [
      "/home/thibeau.wouters/TurboPE-BNS/ROQ/gw170817_ROQ_result.hdf5\n",
      "/home/thibeau.wouters/TurboPE-BNS/ROQ/gw190425_ROQ_result.hdf5\n",
      "Total samples for ROQ Bilby\n",
      "{'/home/thibeau.wouters/TurboPE-BNS/ROQ/gw170817_ROQ_result.hdf5': 5258, '/home/thibeau.wouters/TurboPE-BNS/ROQ/gw190425_ROQ_result.hdf5': 5172}\n",
      "ESS for ROQ Bilby\n",
      "{'/home/thibeau.wouters/TurboPE-BNS/ROQ/gw170817_ROQ_result.hdf5': 5258, '/home/thibeau.wouters/TurboPE-BNS/ROQ/gw190425_ROQ_result.hdf5': 5172}\n"
     ]
    }
   ],
   "source": [
    "roq_paths = [\"/home/thibeau.wouters/TurboPE-BNS/ROQ/gw170817_ROQ_result.hdf5\",\n",
    "             \"/home/thibeau.wouters/TurboPE-BNS/ROQ/gw190425_ROQ_result.hdf5\"]\n",
    "\n",
    "total_nb_samples_roq_bilby = {}\n",
    "ess_roq_bilby = {}\n",
    "\n",
    "for path, run_name in zip(rb_paths, roq_paths):\n",
    "    print(run_name)\n",
    "    total, ess = get_nb_rb_bilby_samples(path)\n",
    "\n",
    "    total_nb_samples_roq_bilby[run_name] = total\n",
    "    ess_roq_bilby[run_name] = ess\n",
    "    \n",
    "print(\"Total samples for ROQ Bilby\")\n",
    "print(total_nb_samples_roq_bilby)\n",
    "\n",
    "print(\"ESS for ROQ Bilby\")\n",
    "print(ess_roq_bilby)\n",
    "\n",
    "avg_total_nb_samples_roq_bilby = my_avg(list(total_nb_samples_roq_bilby.values()))\n",
    "avg_ess_roq_bilby = my_avg(list(ess_roq_bilby.values()))"
   ]
  },
  {
   "cell_type": "markdown",
   "metadata": {},
   "source": [
    "# Combine into a table"
   ]
  },
  {
   "cell_type": "code",
   "execution_count": 186,
   "metadata": {},
   "outputs": [
    {
     "name": "stdout",
     "output_type": "stream",
     "text": [
      "Checking the range of number of samples for Jim\n",
      "(220000, 600000)\n",
      "(16488.749027760172, 106992.97257659023)\n"
     ]
    }
   ],
   "source": [
    "print(\"Checking the range of number of samples for Jim\")\n",
    "values = list(total_nb_samples_jim.values())\n",
    "print((np.min(values), np.max(values)))\n",
    "\n",
    "values = list(ess_jim.values())\n",
    "print((np.min(values), np.max(values)))"
   ]
  },
  {
   "cell_type": "code",
   "execution_count": 187,
   "metadata": {},
   "outputs": [
    {
     "name": "stdout",
     "output_type": "stream",
     "text": [
      "& Number of samples & Method & Number of effective samples \\\\\n",
      " \\hline\\hline\n",
      " \\textsc{Jim} & \\textsc{Arviz} $4.1 \\times 10^5$ & $4.1 \\times 10^4$ \\\\ \\hline \n",
      " \\textsc{pBilby} & Rejection sampling & $3.7 \\times 10^4$ & $6.5 \\times 10^3$ \\\\ \\hline \n",
      " \\textsc{RB-Bilby} & Rejection sampling & $5.5 \\times 10^3$ & $5.5 \\times 10^3$ \\\\ \\hline \n",
      " \\textsc{ROQ-Bilby} & Rejection sampling & $5.2 \\times 10^3$ & $5.2 \\times 10^3$ \\\\ \\hline\\hline\n"
     ]
    }
   ],
   "source": [
    "latex_code = '& Number of samples & Method & Number of effective samples \\\\\\\\\\n \\hline\\\\hline\\n \\\\textsc{{Jim}} & \\\\textsc{{Arviz}} ${}$ & ${}$ \\\\\\\\ \\\\hline \\n \\\\textsc{{pBilby}} & Rejection sampling & ${}$ & ${}$ \\\\\\\\ \\\\hline \\n \\\\textsc{{RB-Bilby}} & Rejection sampling & ${}$ & ${}$ \\\\\\\\ \\\\hline \\n \\\\textsc{{ROQ-Bilby}} & Rejection sampling & ${}$ & ${}$ \\\\\\\\ \\\\hline\\\\hline'\\\n",
    ".format(my_get_number(np.mean(list(total_nb_samples_jim.values()))),\n",
    "        my_get_number(np.mean(list(ess_jim.values()))),\n",
    "        my_get_number(avg_total_nb_samples_bilby),\n",
    "        my_get_number(avg_ess_bilby),\n",
    "        my_get_number(avg_total_nb_samples_rb_bilby),\n",
    "        my_get_number(avg_ess_rb_bilby),\n",
    "        my_get_number(avg_total_nb_samples_roq_bilby),\n",
    "        my_get_number(avg_ess_roq_bilby)\n",
    ")\n",
    "\n",
    "print(latex_code)\n",
    "\n",
    "# my_get_number(np.min(list(total_nb_samples_jim.values()))) + \" -- \" + my_get_number(np.max(list(total_nb_samples_jim.values()))),\n",
    "# my_get_number(np.min(list(ess_jim.values()))) + \" -- \" + my_get_number(np.max(list(ess_jim.values())))"
   ]
  },
  {
   "cell_type": "markdown",
   "metadata": {},
   "source": [
    "## Final table"
   ]
  },
  {
   "cell_type": "markdown",
   "metadata": {},
   "source": [
    "Only quote ESS to make it more informed."
   ]
  },
  {
   "cell_type": "code",
   "execution_count": 188,
   "metadata": {},
   "outputs": [
    {
     "name": "stdout",
     "output_type": "stream",
     "text": [
      "& Method & ESS \\\\\n",
      " \\hline\\hline\n",
      " \\textsc{Jim} & \\textsc{Arviz} & $4.1 \\times 10^4$ \\\\ \\hline \n",
      " \\textsc{pBilby} &  & $6.5 \\times 10^3$ \\\\ \n",
      " \\textsc{RB-Bilby} & Rejection sampling & $5.5 \\times 10^3$ \\\\ \n",
      " \\textsc{ROQ-Bilby} & & $5.2 \\times 10^3$ \\\\ \\hline\\hline\n"
     ]
    }
   ],
   "source": [
    "latex_code = '& Method & ESS \\\\\\\\\\n \\hline\\\\hline\\n \\\\textsc{{Jim}} & \\\\textsc{{Arviz}} & ${}$ \\\\\\\\ \\\\hline \\n \\\\textsc{{pBilby}} &  & ${}$ \\\\\\\\ \\n \\\\textsc{{RB-Bilby}} & Rejection sampling & ${}$ \\\\\\\\ \\n \\\\textsc{{ROQ-Bilby}} & & ${}$ \\\\\\\\ \\\\hline\\\\hline'\\\n",
    ".format(my_get_number(np.mean(list(ess_jim.values()))),\n",
    "        my_get_number(avg_ess_bilby),\n",
    "        my_get_number(avg_ess_rb_bilby),\n",
    "        my_get_number(avg_ess_roq_bilby)\n",
    ")\n",
    "\n",
    "print(latex_code)"
   ]
  },
  {
   "cell_type": "code",
   "execution_count": null,
   "metadata": {},
   "outputs": [],
   "source": []
  }
 ],
 "metadata": {
  "kernelspec": {
   "display_name": "Python 3",
   "language": "python",
   "name": "python3"
  },
  "language_info": {
   "codemirror_mode": {
    "name": "ipython",
    "version": 3
   },
   "file_extension": ".py",
   "mimetype": "text/x-python",
   "name": "python",
   "nbconvert_exporter": "python",
   "pygments_lexer": "ipython3",
   "version": "3.10.13"
  },
  "orig_nbformat": 4
 },
 "nbformat": 4,
 "nbformat_minor": 2
}
