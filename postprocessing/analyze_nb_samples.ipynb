{
 "cells": [
  {
   "cell_type": "markdown",
   "metadata": {},
   "source": [
    "# Analyze runtimes"
   ]
  },
  {
   "cell_type": "markdown",
   "metadata": {},
   "source": [
    "The referee asked about the total number of samples produced by the different pipelines."
   ]
  },
  {
   "cell_type": "code",
   "execution_count": 2,
   "metadata": {},
   "outputs": [],
   "source": [
    "import os\n",
    "import psutil\n",
    "p = psutil.Process()\n",
    "p.cpu_affinity([0])\n",
    "os.environ[\"CUDA_VISIBLE_DEVICES\"] = \"-1\"\n",
    "\n",
    "import numpy as np\n",
    "import jax.numpy as jnp\n",
    "import jax\n",
    "jax.config.update(\"jax_disable_jit\", True)\n",
    "import arviz\n",
    "\n",
    "import h5py\n",
    "import json"
   ]
  },
  {
   "cell_type": "code",
   "execution_count": 3,
   "metadata": {},
   "outputs": [],
   "source": [
    "gwosc_path = \"/home/thibeau.wouters/gw-datasets/GW190425/posterior_samples.h5\"\n",
    "jim_root_path = \"/home/thibeau.wouters/TurboPE-BNS/real_events/\"\n",
    "bilby_root_path = \"/home/thibeau.wouters/jim_pbilby_samples/older_bilby_version/\"\n",
    "paths_dict = {\"GW170817_TaylorF2\": {\"jim\": jim_root_path + \"GW170817_TaylorF2/outdir/results_production.npz\",\n",
    "                    \"bilby\": bilby_root_path + \"GW170817_TF2_with_tukey_fix_result.json\"},\n",
    "              \n",
    "              \"GW170817_NRTidalv2\": {\"jim\": jim_root_path + \"GW170817_NRTidalv2/outdir/results_production.npz\",\n",
    "                                     \"bilby\": bilby_root_path + \"GW170817_IMRPhenomD_NRTidalv2_result.json\",\n",
    "                    },\n",
    "              \n",
    "              \"GW190425_TaylorF2\": {\"jim\": jim_root_path + \"GW190425_TaylorF2/outdir_gwosc_data/results_production.npz\",\n",
    "                                    \"bilby\": bilby_root_path + \"GW190425_GWOSC_data_result.json\",\n",
    "                    },\n",
    "              \n",
    "              \"GW190425_NRTidalv2\": {\"jim\": jim_root_path + \"GW190425_NRTidalv2/outdir/results_production.npz\",\n",
    "                                     \"bilby\": bilby_root_path + \"GW190425_NRTv2_GWOSC_data_result.json\",\n",
    "                    },\n",
    "}\n",
    "\n",
    "RUN_NAMES = list(paths_dict.keys())\n",
    "JIM_VAR_NAMES = ['M_c', 'q', 's1_z', 's2_z', 'lambda_1', 'lambda_2', 'd_L', 't_c', 'phase_c', 'cos_iota', 'psi', 'ra', 'sin_dec']\n",
    "BILBY_VAR_NAMES = ['chirp_mass', 'mass_ratio', 'spin_1z', 'spin_2z', 'lambda_1', 'lambda_2', 'luminosity_distance', 'phase', 'iota', 'psi', 'ra', 'dec']"
   ]
  },
  {
   "cell_type": "markdown",
   "metadata": {},
   "source": [
    "## Jim"
   ]
  },
  {
   "cell_type": "code",
   "execution_count": 48,
   "metadata": {},
   "outputs": [],
   "source": [
    "def get_nb_jim_samples(path: str, \n",
    "                       report_runtime_production: bool = False,\n",
    "                       get_ess: bool = True):\n",
    "    data = np.load(path)\n",
    "    chains = data[\"chains\"]\n",
    "    a, b = np.shape(chains)[0], np.shape(chains)[1]\n",
    "    \n",
    "    # Also show the runtimes of the production loop\n",
    "    if report_runtime_production:\n",
    "        new_path = path.replace(\"results_production.npz\", \"runtime_production.txt\")\n",
    "        \n",
    "        time = np.loadtxt(new_path)\n",
    "        print(\"Runtime production:\", time)\n",
    "        \n",
    "    # Compute the ESS\n",
    "    data = np.load(path)\n",
    "    chains = data[\"chains\"]\n",
    "    chains = np.reshape(chains, (int(a * b), 13))\n",
    "    \n",
    "    my_ess_list = []\n",
    "    for values, name in zip(chains.T, JIM_VAR_NAMES):\n",
    "        ess = arviz.ess(values)\n",
    "        # print(f\"ESS for {name} production: {ess}\")\n",
    "        my_ess_list.append(ess)\n",
    "        \n",
    "    avg_ess = int(np.floor(np.mean(my_ess_list)))\n",
    "    \n",
    "    return a * b, avg_ess"
   ]
  },
  {
   "cell_type": "code",
   "execution_count": 50,
   "metadata": {},
   "outputs": [],
   "source": [
    "def my_avg(values):\n",
    "    \"\"\"Take the average but floor and int it\"\"\"\n",
    "    \n",
    "    return int(np.floor(np.mean(list(values))))"
   ]
  },
  {
   "cell_type": "code",
   "execution_count": 52,
   "metadata": {},
   "outputs": [
    {
     "name": "stdout",
     "output_type": "stream",
     "text": [
      "Total samples for Jim\n",
      "{'GW170817_TaylorF2': 220000, 'GW170817_NRTidalv2': 220000, 'GW190425_TaylorF2': 600000, 'GW190425_NRTidalv2': 600000}\n",
      "ESS for Jim\n",
      "{'GW170817_TaylorF2': 18903, 'GW170817_NRTidalv2': 16488, 'GW190425_TaylorF2': 106992, 'GW190425_NRTidalv2': 33828}\n",
      "Average ESS for Jim\n",
      "44052\n"
     ]
    }
   ],
   "source": [
    "total_nb_samples_jim = {}\n",
    "ess_jim = {}\n",
    "\n",
    "for run_name in RUN_NAMES:\n",
    "    total, ess = get_nb_jim_samples(paths_dict[run_name][\"jim\"])\n",
    "    total_nb_samples_jim[run_name] = total\n",
    "    ess_jim[run_name] = ess\n",
    "    \n",
    "print(\"Total samples for Jim\")\n",
    "print(total_nb_samples_jim)\n",
    "\n",
    "print(\"ESS for Jim\")\n",
    "print(ess_jim)\n",
    "\n",
    "avg_ess_jim = my_avg(list(ess_jim.values()))\n",
    "print(\"Average ESS for Jim\")\n",
    "print(avg_ess_jim)"
   ]
  },
  {
   "cell_type": "markdown",
   "metadata": {},
   "source": [
    "All the runtimes are below 1 minute -- love jax <3"
   ]
  },
  {
   "cell_type": "markdown",
   "metadata": {},
   "source": [
    "## Bilby"
   ]
  },
  {
   "cell_type": "code",
   "execution_count": 53,
   "metadata": {},
   "outputs": [],
   "source": [
    "def get_nb_bilby_samples(path: str):\n",
    "    \n",
    "    with open(path, \"r\") as f:\n",
    "        data = json.load(f)\n",
    "    posterior = data[\"posterior\"][\"content\"]\n",
    "    mc = posterior[\"chirp_mass\"] # just taking the chirp mass samples as an example\n",
    "    n = len(mc)\n",
    "    \n",
    "    # Compute the ESS\n",
    "    my_ess_list = []\n",
    "    for name in BILBY_VAR_NAMES:\n",
    "        values = posterior[name]\n",
    "        \n",
    "        # NOTE: sometimes the json is broken and there are dicts instead of floats\n",
    "        if isinstance(values[0], dict):\n",
    "            new_values = [item['content'] for item in values]\n",
    "            values = new_values\n",
    "\n",
    "        values = np.array(values)\n",
    "\n",
    "        ess = arviz.ess(values)\n",
    "        my_ess_list.append(ess)\n",
    "        \n",
    "    avg_ess = int(np.floor(np.mean(my_ess_list)))\n",
    "        \n",
    "    return n, avg_ess"
   ]
  },
  {
   "cell_type": "markdown",
   "metadata": {},
   "source": [
    "### pBilby"
   ]
  },
  {
   "cell_type": "code",
   "execution_count": 54,
   "metadata": {},
   "outputs": [
    {
     "name": "stdout",
     "output_type": "stream",
     "text": [
      "Total samples for Bilby\n",
      "{'GW170817_TaylorF2': 44782, 'GW170817_NRTidalv2': 45365, 'GW190425_TaylorF2': 30782, 'GW190425_NRTidalv2': 30277}\n",
      "ESS for Bilby\n",
      "{'GW170817_TaylorF2': 3982, 'GW170817_NRTidalv2': 4177, 'GW190425_TaylorF2': 5389, 'GW190425_NRTidalv2': 4709}\n",
      "Average ESS for Bilby\n",
      "4564\n"
     ]
    }
   ],
   "source": [
    "total_nb_samples_bilby = {}\n",
    "ess_bilby = {}\n",
    "\n",
    "for run_name in RUN_NAMES:\n",
    "    path = paths_dict[run_name][\"bilby\"]\n",
    "    total, ess = get_nb_bilby_samples(path)\n",
    "    \n",
    "    total_nb_samples_bilby[run_name] = total\n",
    "    ess_bilby[run_name] = ess\n",
    "    \n",
    "print(\"Total samples for Bilby\")\n",
    "print(total_nb_samples_bilby)\n",
    "\n",
    "print(\"ESS for Bilby\")\n",
    "print(ess_bilby)\n",
    "\n",
    "avg_ess_bilby = my_avg(list(ess_bilby.values()))\n",
    "print(\"Average ESS for Bilby\")\n",
    "print(avg_ess_bilby)"
   ]
  },
  {
   "cell_type": "markdown",
   "metadata": {},
   "source": [
    "### Relative binning-Bilby"
   ]
  },
  {
   "cell_type": "code",
   "execution_count": 55,
   "metadata": {},
   "outputs": [],
   "source": [
    "rb_paths = [\"../RB/gw170817_relbin_TaylorF2_result.hdf5\", \n",
    "            \"../RB/gw170817_relbin_result.hdf5\",\n",
    "            \"../RB/gw190425_relbin_TaylorF2_result.hdf5\",\n",
    "            \"../RB/gw190425_relbin_result.hdf5\"]\n",
    "\n",
    "def get_nb_rb_bilby_samples(path: str):\n",
    "    \n",
    "    with h5py.File(path, \"r\") as f:\n",
    "        posterior = f[\"posterior\"]\n",
    "        mc = posterior[\"chirp_mass\"][()] # just taking the chirp mass samples as an example\n",
    "        n = len(mc)\n",
    "        \n",
    "        my_ess_list = []\n",
    "        for name in BILBY_VAR_NAMES:\n",
    "            values = posterior[name][()]\n",
    "            \n",
    "            # NOTE: sometimes the json is broken and there are dicts instead of floats\n",
    "            if isinstance(values[0], dict):\n",
    "                new_values = [item['content'] for item in values]\n",
    "                values = new_values\n",
    "\n",
    "            values = np.array(values)\n",
    "\n",
    "            ess = arviz.ess(values)\n",
    "            # print(f\"ESS for {name} production: {ess}\")\n",
    "            my_ess_list.append(ess)\n",
    "                \n",
    "        avg_ess = int(np.floor(np.mean(my_ess_list)))\n",
    "    \n",
    "    return n, avg_ess"
   ]
  },
  {
   "cell_type": "code",
   "execution_count": 56,
   "metadata": {},
   "outputs": [
    {
     "name": "stdout",
     "output_type": "stream",
     "text": [
      "GW170817_TaylorF2\n",
      "GW170817_NRTidalv2\n",
      "GW190425_TaylorF2\n",
      "GW190425_NRTidalv2\n",
      "Total samples for RB Bilby\n",
      "{'GW170817_TaylorF2': 5258, 'GW170817_NRTidalv2': 5172, 'GW190425_TaylorF2': 6743, 'GW190425_NRTidalv2': 5172}\n",
      "ESS for RB Bilby\n",
      "{'GW170817_TaylorF2': 3274, 'GW170817_NRTidalv2': 3837, 'GW190425_TaylorF2': 3661, 'GW190425_NRTidalv2': 3837}\n",
      "Average ESS for RB Bilby\n",
      "3652\n"
     ]
    }
   ],
   "source": [
    "total_nb_samples_rb_bilby = {}\n",
    "ess_rb_bilby = {}\n",
    "\n",
    "for path, run_name in zip(rb_paths, RUN_NAMES):\n",
    "    print(run_name)\n",
    "    total, ess = get_nb_rb_bilby_samples(path)\n",
    "\n",
    "    total_nb_samples_rb_bilby[run_name] = total\n",
    "    ess_rb_bilby[run_name] = ess\n",
    "    \n",
    "print(\"Total samples for RB Bilby\")\n",
    "print(total_nb_samples_rb_bilby)\n",
    "\n",
    "print(\"ESS for RB Bilby\")\n",
    "print(ess_rb_bilby)\n",
    "\n",
    "avg_ess_rb_bilby = my_avg(list(ess_rb_bilby.values()))\n",
    "print(\"Average ESS for RB Bilby\")\n",
    "print(avg_ess_rb_bilby)"
   ]
  },
  {
   "cell_type": "markdown",
   "metadata": {},
   "source": [
    "### ROQ-Bilby"
   ]
  },
  {
   "cell_type": "code",
   "execution_count": 43,
   "metadata": {},
   "outputs": [
    {
     "name": "stdout",
     "output_type": "stream",
     "text": [
      "GW170817_TaylorF2\n",
      "Average ESS: 2685\n",
      "GW170817_NRTidalv2\n",
      "Average ESS: 2414\n"
     ]
    },
    {
     "data": {
      "text/plain": [
       "{'GW170817_TaylorF2': 6783, 'GW170817_NRTidalv2': 6588}"
      ]
     },
     "execution_count": 43,
     "metadata": {},
     "output_type": "execute_result"
    }
   ],
   "source": [
    "roq_paths = [\"/home/thibeau.wouters/TurboPE-BNS/ROQ/gw170817_ROQ_result.hdf5\",\n",
    "             \"/home/thibeau.wouters/TurboPE-BNS/ROQ/gw190425_ROQ_result.hdf5\"]\n",
    "\n",
    "total_nb_samples_roq_bilby = {}\n",
    "ess_roq_bilby = {}\n",
    "\n",
    "for path, run_name in zip(rb_paths, RUN_NAMES):\n",
    "    print(run_name)\n",
    "    total, ess = get_nb_rb_bilby_samples(path)\n",
    "\n",
    "    total_nb_samples_rb_bilby[run_name] = total\n",
    "    ess_rb_bilby[run_name] = ess\n",
    "    \n",
    "print(\"Total samples for RB Bilby\")\n",
    "print(total_nb_samples_rb_bilby)\n",
    "\n",
    "print(\"ESS for RB Bilby\")\n",
    "print(ess_rb_bilby)\n",
    "\n",
    "avg_ess_rb_bilby = my_avg(list(ess_rb_bilby.values()))\n",
    "print(\"Average ESS for RB Bilby\")\n",
    "print(avg_ess_rb_bilby)"
   ]
  },
  {
   "cell_type": "code",
   "execution_count": null,
   "metadata": {},
   "outputs": [],
   "source": []
  }
 ],
 "metadata": {
  "kernelspec": {
   "display_name": "Python 3",
   "language": "python",
   "name": "python3"
  },
  "language_info": {
   "codemirror_mode": {
    "name": "ipython",
    "version": 3
   },
   "file_extension": ".py",
   "mimetype": "text/x-python",
   "name": "python",
   "nbconvert_exporter": "python",
   "pygments_lexer": "ipython3",
   "version": "3.10.13"
  },
  "orig_nbformat": 4
 },
 "nbformat": 4,
 "nbformat_minor": 2
}
