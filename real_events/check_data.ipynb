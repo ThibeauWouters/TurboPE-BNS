{
 "cells": [
  {
   "cell_type": "code",
   "execution_count": 1,
   "metadata": {},
   "outputs": [],
   "source": [
    "import psutil\n",
    "p = psutil.Process()\n",
    "p.cpu_affinity([0])\n",
    "import os \n",
    "os.environ[\"CUDA_VISIBLE_DEVICES\"] = \"3\"\n",
    "os.environ[\"XLA_PYTHON_CLIENT_MEM_FRACTION\"] = \"0.10\"\n",
    "\n",
    "import numpy as np \n",
    "import pickle \n",
    "import matplotlib.pyplot as plt"
   ]
  },
  {
   "cell_type": "markdown",
   "metadata": {},
   "source": [
    "# Check data for GW190425"
   ]
  },
  {
   "cell_type": "code",
   "execution_count": 2,
   "metadata": {},
   "outputs": [],
   "source": [
    "data_path = \"/home/thibeau.wouters/gw-datasets/GW190425/GW190425_data_dump.pickle\""
   ]
  },
  {
   "cell_type": "code",
   "execution_count": 5,
   "metadata": {},
   "outputs": [
    {
     "name": "stdout",
     "output_type": "stream",
     "text": [
      "dict_keys(['waveform_generator', 'ifo_list', 'prior_file', 'args', 'data_dump_file', 'meta_data', 'injection_parameters'])\n"
     ]
    },
    {
     "name": "stderr",
     "output_type": "stream",
     "text": [
      "/local/thibeau.wouters/ipykernel_1077494/2117166836.py:3: DeprecationWarning: Please use `interp1d` from the `scipy.interpolate` namespace, the `scipy.interpolate.interpolate` namespace is deprecated.\n",
      "  data = pickle.load(file)\n"
     ]
    }
   ],
   "source": [
    "# Load the file:\n",
    "with open(data_path, \"rb\") as file:\n",
    "    data = pickle.load(file)\n",
    "    \n",
    "print(data.keys())"
   ]
  },
  {
   "cell_type": "code",
   "execution_count": 7,
   "metadata": {},
   "outputs": [
    {
     "data": {
      "text/plain": [
       "Namespace(nlive=2048, dlogz=0.1, n_effective=inf, dynesty_sample='rwalk', dynesty_bound='multi', walks=100, maxmcmc=10000, nact=10, min_eff=10, facc=0.5, vol_dec=0.5, vol_check=8, enlarge=1.5, n_check_point=100, max_its=10000000000, max_run_time=10000000000.0, fast_mpi=False, mpi_timing=False, mpi_timing_interval=0, nestcheck=False, nsamples=10000, ntemps=20, nwalkers=100, max_iterations=100000, ncheck=500, burn_in_nact=50.0, thin_by_nact=1.0, frac_threshold=0.01, nfrac=5, min_tau=30, Tmax=10000, safety=1.0, autocorr_c=5.0, autocorr_tol=50.0, adapt=False, bilby_zero_likelihood_mode=False, sampling_seed=42, clean=False, no_plot=True, do_not_save_bounds_in_resume=False, check_point_deltaT=3600, ini='config.ini', verbose=False, calibration_model='CubicSpline', spline_calibration_envelope_dict='{L1:raw_data/Aug-24-2019_O3_LLO_GPSTime_1240215364_C01_RelativeResponseUncertainty_FinalResults.txt, V1:raw_data/V_earlyO3_calibrationUncertaintyEnvelope_magnitude5percent_phase2degrees10microseconds.txt}', spline_calibration_nodes=10, spline_calibration_amplitude_uncertainty_dict=None, spline_calibration_phase_uncertainty_dict=None, ignore_gwpy_data_quality_check=True, gps_tuple=None, gps_file=None, timeslide_file=None, timeslide_dict=None, trigger_time='1240215503.017147', gaussian_noise=False, n_simulation=0, data_dict='{L1=raw_data/L-L1_HOFT_C01_T1700406_v3-1240211456-4096.gwf, V1=raw_data/V-V1Online_T1700406_v3-1240214000-2000.gwf}', data_format=None, channel_dict='{L1:DCS-CALIB_STRAIN_CLEAN_C01_T1700406_v3, V1=Hrec_hoft_16384Hz_T1700406_v3}', coherence_test=False, detectors=['L1', 'V1'], duration=128.0, generation_seed=None, psd_dict='{L1=raw_data/glitch_median_PSD_forLI_L1_srate8192.txt, V1=raw_data/glitch_median_PSD_forLI_V1_srate8192.txt}', psd_fractional_overlap=0.5, post_trigger_duration=2.0, sampling_frequency=4096, psd_length=32, psd_maximum_duration=1024, psd_method='median', psd_start_time=None, maximum_frequency=None, minimum_frequency='20', zero_noise=False, tukey_roll_off=0.4, resampling_method='lal', injection=False, injection_dict=None, injection_file=None, injection_numbers=None, injection_waveform_approximant=None, label='GW190425', outdir='outdir', periodic_restart_time=28800, scheduler_analysis_time='7-00:00:00', submit=False, condor_job_priority=0, log_directory=None, analysis_executable=None, distance_marginalization=False, distance_marginalization_lookup_table=None, phase_marginalization=False, time_marginalization=False, jitter_time=True, reference_frame='sky', time_reference='geocent', likelihood_type='ROQGravitationalWaveTransient', roq_folder='ROQ/', roq_weights=None, roq_scale_factor=1, extra_likelihood_kwargs=None, create_plots=False, create_summary=False, notification='Never', existing_dir=None, webdir=None, summarypages_arguments=None, default_prior='BBHPriorDict', deltaT=0.2, prior_file='GW190425.prior', prior_dict=None, convert_to_flat_in_component_mass=True, single_postprocessing_executable=None, single_postprocessing_arguments=None, n_parallel=1, waveform_generator='bilby.gw.waveform_generator.WaveformGenerator', reference_frequency=20, waveform_approximant='IMRPhenomPv2_NRTidal', catch_waveform_errors=False, pn_spin_order=-1, pn_tidal_order=-1, pn_phase_order=-1, pn_amplitude_order=0, numerical_relativity_file=None, waveform_arguments_dict=None, mode_array=None, frequency_domain_source_model='lal_binary_neutron_star', sampler='dynesty', nodes=40, ntasks_per_node=40, time='24:00:00', mem_per_cpu=None, extra_lines=None, slurm_extra_lines=None, idx=0, data_dump_file=None, accounting=None, local=False, local_generation=False, local_plot=False, request_memory=4.0, request_memory_generation=None, request_cpus=1, singularity_image=None, scheduler='condor', scheduler_args=None, scheduler_module=None, scheduler_env=None, transfer_files=True, online_pe=False, osg=False, plot_calibration=False, plot_corner=False, plot_marginal=False, plot_skymap=False, plot_waveform=False, plot_format='png', email=None, postprocessing_executable=None, postprocessing_arguments=None, sampler_kwargs='Default')"
      ]
     },
     "execution_count": 7,
     "metadata": {},
     "output_type": "execute_result"
    }
   ],
   "source": [
    "data[\"args\"]"
   ]
  },
  {
   "cell_type": "code",
   "execution_count": null,
   "metadata": {},
   "outputs": [],
   "source": []
  }
 ],
 "metadata": {
  "kernelspec": {
   "display_name": "Python 3",
   "language": "python",
   "name": "python3"
  },
  "language_info": {
   "codemirror_mode": {
    "name": "ipython",
    "version": 3
   },
   "file_extension": ".py",
   "mimetype": "text/x-python",
   "name": "python",
   "nbconvert_exporter": "python",
   "pygments_lexer": "ipython3",
   "version": "3.10.13"
  },
  "orig_nbformat": 4
 },
 "nbformat": 4,
 "nbformat_minor": 2
}
