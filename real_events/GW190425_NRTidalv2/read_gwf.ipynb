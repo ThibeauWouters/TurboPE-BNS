{
 "cells": [
  {
   "cell_type": "markdown",
   "metadata": {},
   "source": [
    "# Read GWF files"
   ]
  },
  {
   "cell_type": "code",
   "execution_count": 1,
   "metadata": {},
   "outputs": [
    {
     "name": "stderr",
     "output_type": "stream",
     "text": [
      "2024-03-13 11:28:56.052642: W external/xla/xla/service/platform_util.cc:198] unable to create StreamExecutor for CUDA:2: failed initializing StreamExecutor for CUDA device ordinal 2: INTERNAL: failed call to cuDevicePrimaryCtxRetain: CUDA_ERROR_OUT_OF_MEMORY: out of memory; total memory reported: 84974239744\n"
     ]
    }
   ],
   "source": [
    "import psutil\n",
    "p = psutil.Process()\n",
    "p.cpu_affinity([0])\n",
    "import warnings\n",
    "warnings.filterwarnings(\"ignore\", \"Wswiglal-redir-stdio\")\n",
    "import lal\n",
    "from gwpy.timeseries import TimeSeries\n",
    "from lalframe.utils.frtools import get_channels\n",
    "\n",
    "import jax\n",
    "import jax.numpy as jnp\n",
    "import numpy as np \n",
    "import matplotlib.pyplot as plt\n",
    "from jimgw.single_event.detector import H1, L1, V1"
   ]
  },
  {
   "cell_type": "code",
   "execution_count": 10,
   "metadata": {},
   "outputs": [],
   "source": [
    "data_path = \"/home/thibeau.wouters/gw-datasets/GW190425/\"\n",
    "\n",
    "# Original data\n",
    "data_dict = {\"L1\":{\"data\": data_path + \"L-L1_HOFT_C01_T1700406_v3-1240211456-4096.gwf\",\n",
    "                   \"psd\": data_path + \"glitch_median_PSD_forLI_L1_srate8192.txt\",\n",
    "                   \"channel\": \"L1:DCS-CALIB_STRAIN_CLEAN_C01_T1700406_v3\"},\n",
    "            \"V1\":{\"data\": data_path + \"V-V1Online_T1700406_v3-1240214000-2000.gwf\",\n",
    "                    \"psd\": data_path + \"glitch_median_PSD_forLI_V1_srate8192.txt\",\n",
    "                    \"channel\": \"V1:Hrec_hoft_16384Hz_T1700406_v3\"}\n",
    "}\n",
    "\n",
    "# New attempt\n",
    "data_dict = {\"L1\":{\"data\": data_path + \"L-L1_GWOSC_16KHZ_R1-1240213455-4096.gwf\",\n",
    "                   \"psd\": data_path + \"glitch_median_PSD_forLI_L1_srate8192.txt\",\n",
    "                   \"channel\": \"L1:GWOSC-16KHZ_R1_STRAIN\"},\n",
    "            \"V1\":{\"data\": data_path + \"V-V1_GWOSC_16KHZ_R1-1240213455-4096.gwf\",\n",
    "                    \"psd\": data_path + \"glitch_median_PSD_forLI_V1_srate8192.txt\",\n",
    "                    \"channel\": \"V1:GWOSC-16KHZ_R1_STRAIN\"}\n",
    "}"
   ]
  },
  {
   "cell_type": "code",
   "execution_count": 31,
   "metadata": {},
   "outputs": [
    {
     "name": "stdout",
     "output_type": "stream",
     "text": [
      "0.03125\n"
     ]
    }
   ],
   "source": [
    "gps = 1240215503.017147\n",
    "trigger_time = gps\n",
    "fmin = 20\n",
    "fmax = 2048\n",
    "minimum_frequency = fmin\n",
    "maximum_frequency = fmax\n",
    "T = 128\n",
    "duration = T\n",
    "post_trigger_duration = 2\n",
    "epoch = duration - post_trigger_duration\n",
    "f_ref = fmin\n",
    "tukey_alpha = 2 / (T / 2)\n",
    "print(tukey_alpha)\n",
    "\n",
    "gps_start_pad = duration-2\n",
    "gps_end_pad = 2\n",
    "\n",
    "# L1.load_data_from_frame(trigger_time=trigger_time,\n",
    "#                         gps_start_pad=duration-2,\n",
    "#                         gps_end_pad=2,\n",
    "#                         frame_file_path=data_dict[\"L1\"][\"data\"],\n",
    "#                         channel_name=data_dict[\"L1\"][\"channel\"],\n",
    "#                         f_min=fmin,\n",
    "#                         f_max=fmax,\n",
    "#                         tukey_alpha=tukey_alpha)\n",
    "\n",
    "# V1.load_data_from_frame(trigger_time=trigger_time,\n",
    "#                         gps_start_pad=duration-2,\n",
    "#                         gps_end_pad=2,\n",
    "#                         frame_file_path=data_dict[\"V1\"][\"data\"],\n",
    "#                         channel_name=data_dict[\"V1\"][\"channel\"],\n",
    "#                         f_min=fmin,\n",
    "#                         f_max=fmax,\n",
    "#                         tukey_alpha=tukey_alpha)\n",
    "\n",
    "# L1.psd = L1.load_psd(L1.frequencies, data_dict[\"L1\"][\"psd\"])\n",
    "# V1.psd = V1.load_psd(V1.frequencies, data_dict[\"V1\"][\"psd\"])"
   ]
  },
  {
   "cell_type": "markdown",
   "metadata": {},
   "source": [
    "## Playing with hdf5 files"
   ]
  },
  {
   "cell_type": "code",
   "execution_count": 35,
   "metadata": {},
   "outputs": [
    {
     "name": "stdout",
     "output_type": "stream",
     "text": [
      "[7.88878441e+268 7.90092367e+268 7.83476823e+268 ...\n",
      " 5.51847092e+188 1.87685746e+211 6.71245144e+189]\n",
      "nan\n"
     ]
    },
    {
     "name": "stderr",
     "output_type": "stream",
     "text": [
      "/home/thibeau.wouters/miniconda3/envs/jim/lib/python3.10/site-packages/numpy/core/_methods.py:118: RuntimeWarning: overflow encountered in reduce\n",
      "  ret = umr_sum(arr, axis, dtype, out, keepdims, where=where)\n",
      "/home/thibeau.wouters/miniconda3/envs/jim/lib/python3.10/site-packages/numpy/core/_methods.py:118: RuntimeWarning: invalid value encountered in reduce\n",
      "  ret = umr_sum(arr, axis, dtype, out, keepdims, where=where)\n"
     ]
    },
    {
     "name": "stdout",
     "output_type": "stream",
     "text": [
      "[3.28489880e-280 1.18952122e-255 1.12006694e-204 ...\n",
      " 8.44097369e-153 8.44097369e-153 8.44097369e-153]\n",
      "nan\n"
     ]
    }
   ],
   "source": [
    "example_gwf_file = data_dict[\"L1\"][\"data\"]\n",
    "channel = data_dict[\"L1\"][\"channel\"]\n",
    "\n",
    "data_td = TimeSeries.read(example_gwf_file, channel,\n",
    "                          start = trigger_time - gps_start_pad,\n",
    "                          end = trigger_time + gps_end_pad)\n",
    "\n",
    "print(data_td.value)\n",
    "print(np.mean(data_td.value))\n",
    "\n",
    "data_td = TimeSeries.read(example_gwf_file, channel)\n",
    "\n",
    "print(data_td.value)\n",
    "print(np.mean(data_td.value))"
   ]
  },
  {
   "cell_type": "code",
   "execution_count": 12,
   "metadata": {},
   "outputs": [
    {
     "data": {
      "text/plain": [
       "Array([nan+nanj, nan+nanj, nan+nanj, ..., nan+nanj, nan+nanj,\n",
       "       nan+nanj], dtype=complex64)"
      ]
     },
     "execution_count": 12,
     "metadata": {},
     "output_type": "execute_result"
    }
   ],
   "source": [
    "V1.data"
   ]
  },
  {
   "cell_type": "code",
   "execution_count": 4,
   "metadata": {},
   "outputs": [
    {
     "name": "stderr",
     "output_type": "stream",
     "text": [
      "/home/thibeau.wouters/miniconda3/envs/jim/lib/python3.10/site-packages/jax/_src/array.py:390: ComplexWarning: Casting complex values to real discards the imaginary part\n",
      "  return np.asarray(self._value, dtype=dtype)\n"
     ]
    },
    {
     "data": {
      "image/png": "[encoded data removed]",
      "text/plain": [
       "<Figure size 1200x800 with 2 Axes>"
      ]
     },
     "metadata": {},
     "output_type": "display_data"
    }
   ],
   "source": [
    "# Plot the two ifo data streams\n",
    "\n",
    "fig, ax = plt.subplots(2, 1, figsize=(12, 8), sharex=True)\n",
    "ax[0].plot(L1.frequencies, L1.data, label=\"L1\")\n",
    "ax[1].plot(V1.frequencies, V1.data, label=\"V1\")\n",
    "ax[0].set_ylabel(\"Strain\")\n",
    "ax[1].set_ylabel(\"Strain\")\n",
    "ax[1].set_xlabel(\"Frequency [Hz]\")\n",
    "ax[0].legend()\n",
    "ax[1].legend()\n",
    "plt.show()"
   ]
  },
  {
   "cell_type": "markdown",
   "metadata": {},
   "source": [
    "## txt files?"
   ]
  },
  {
   "cell_type": "code",
   "execution_count": 14,
   "metadata": {},
   "outputs": [],
   "source": [
    "# txt_file = data_path + \"L-L1_GWOSC_16KHZ_R1-1240213455-4096.txt\"\n",
    "# # Read the data\n",
    "# data = np.loadtxt(txt_file)\n",
    "# data"
   ]
  },
  {
   "cell_type": "markdown",
   "metadata": {},
   "source": [
    "## hdf5 files"
   ]
  },
  {
   "cell_type": "code",
   "execution_count": 15,
   "metadata": {},
   "outputs": [],
   "source": [
    "import h5py"
   ]
  },
  {
   "cell_type": "code",
   "execution_count": 28,
   "metadata": {},
   "outputs": [
    {
     "name": "stdout",
     "output_type": "stream",
     "text": [
      "<KeysViewHDF5 ['meta', 'quality', 'strain']>\n",
      "<KeysViewHDF5 ['Description', 'DescriptionURL', 'Detector', 'Duration', 'GPSstart', 'Observatory', 'Type', 'UTCstart']>\n",
      "b'Strain data time series from Virgo'\n",
      "b'http://www.gw-openscience.org/'\n",
      "b'V1'\n",
      "b'V1'\n",
      "4096\n",
      "1240213455\n",
      "b'V'\n",
      "b'StrainTimeSeries'\n",
      "b'2019-04-25T07:43:57'\n"
     ]
    }
   ],
   "source": [
    "h5_file = data_path + \"V-V1_GWOSC_16KHZ_R1-1240213455-4096.hdf5\"\n",
    "with h5py.File(h5_file, \"r\") as f:\n",
    "    print(f.keys())\n",
    "    \n",
    "    # Meta:\n",
    "    print(f['meta'].keys())\n",
    "    print(f['meta']['Description'][()])\n",
    "    print(f['meta']['DescriptionURL'][()])\n",
    "    print(f['meta']['Detector'][()])\n",
    "    print(f['meta']['Detector'][()])\n",
    "    duration = f['meta']['Duration'][()]\n",
    "    gps_start = f['meta']['GPSstart'][()]\n",
    "    print(f['meta']['Observatory'][()])\n",
    "    print(f['meta']['Type'][()])\n",
    "    print(f['meta']['UTCstart'][()])\n",
    "    \n",
    "    # data = f['strain']['Strain'][()]"
   ]
  },
  {
   "cell_type": "code",
   "execution_count": 38,
   "metadata": {},
   "outputs": [
    {
     "name": "stdout",
     "output_type": "stream",
     "text": [
      "9.29630999831302e-25\n",
      "-1.0329245334379674e-23\n"
     ]
    }
   ],
   "source": [
    "data = TimeSeries.read(h5_file, format=\"hdf5.gwosc\")\n",
    "print(np.mean(data.value))\n",
    "\n",
    "data = TimeSeries.read(h5_file, format=\"hdf5.gwosc\",\n",
    "                       start = trigger_time - gps_start_pad,\n",
    "                       end = trigger_time + gps_end_pad)\n",
    "print(np.mean(data.value))"
   ]
  },
  {
   "cell_type": "code",
   "execution_count": null,
   "metadata": {},
   "outputs": [],
   "source": []
  }
 ],
 "metadata": {
  "kernelspec": {
   "display_name": "Python 3",
   "language": "python",
   "name": "python3"
  },
  "language_info": {
   "codemirror_mode": {
    "name": "ipython",
    "version": 3
   },
   "file_extension": ".py",
   "mimetype": "text/x-python",
   "name": "python",
   "nbconvert_exporter": "python",
   "pygments_lexer": "ipython3",
   "version": "3.10.13"
  },
  "orig_nbformat": 4
 },
 "nbformat": 4,
 "nbformat_minor": 2
}
