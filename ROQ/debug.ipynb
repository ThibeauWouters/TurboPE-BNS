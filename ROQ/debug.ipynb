{
 "cells": [
  {
   "cell_type": "markdown",
   "metadata": {},
   "source": [
    "# Debug the number of bins"
   ]
  },
  {
   "cell_type": "code",
   "execution_count": 1,
   "metadata": {},
   "outputs": [],
   "source": [
    "import os \n",
    "import json \n",
    "import pickle\n",
    "import h5py \n",
    "import numpy as np\n",
    "import matplotlib.pyplot as plt\n",
    "import corner "
   ]
  },
  {
   "cell_type": "code",
   "execution_count": 2,
   "metadata": {},
   "outputs": [
    {
     "name": "stdout",
     "output_type": "stream",
     "text": [
      "/home/thibeau.wouters/TurboPE-BNS/ROQ\n",
      "['debug.ipynb', 'gw170817_ROQ_result.hdf5', 'gw190425_ROQ_result.hdf5']\n"
     ]
    }
   ],
   "source": [
    "print(os.getcwd())\n",
    "print(os.listdir(os.getcwd()))"
   ]
  },
  {
   "cell_type": "code",
   "execution_count": 3,
   "metadata": {},
   "outputs": [],
   "source": [
    "ALL_LABELS = [\"GW170817_NRTidalv2\", \n",
    "              \"GW190425_NRTidalv2\"]\n",
    "\n",
    "files_translation = {\"GW170817_NRTidalv2\": \"gw170817_ROQ_result.hdf5\", \n",
    "                     \"GW190425_NRTidalv2\": 'gw190425_ROQ_result.hdf5'}\n",
    "\n",
    "bilby_names = ['chirp_mass', 'mass_ratio', 'spin_1z', 'spin_2z', 'lambda_1', 'lambda_2', 'luminosity_distance', 'phase', 'iota', 'psi', 'ra', 'dec']"
   ]
  },
  {
   "cell_type": "markdown",
   "metadata": {},
   "source": [
    "## Start"
   ]
  },
  {
   "cell_type": "code",
   "execution_count": 13,
   "metadata": {},
   "outputs": [
    {
     "name": "stdout",
     "output_type": "stream",
     "text": [
      "<KeysViewHDF5 ['__module__', '__name__', 'constraint_parameter_keys', 'fixed_parameter_keys', 'information_gain', 'injection_parameters', 'label', 'log_bayes_factor', 'log_evidence', 'log_evidence_err', 'log_likelihood_evaluations', 'log_noise_evidence', 'log_prior_evaluations', 'meta_data', 'nested_samples', 'num_likelihood_evaluations', 'outdir', 'parameter_labels', 'parameter_labels_with_unit', 'posterior', 'priors', 'sampler', 'sampler_kwargs', 'samples', 'sampling_time', 'search_parameter_keys', 'use_ratio', 'version']>\n",
      "version\n",
      "b'bilby=2.1.1'\n",
      "meta_data.keys()\n",
      "<KeysViewHDF5 ['bilby_pipe_version', 'bilby_version', 'command_line_args', 'data_dump', 'environment_packages', 'injection_parameters', 'likelihood', 'loaded_modules', 'run_statistics', 'unknown_command_line_args', 'weight_file']>\n",
      "<KeysViewHDF5 ['H1_log_likelihood', 'H1_matched_filter_snr', 'H1_optimal_snr', 'L1_log_likelihood', 'L1_matched_filter_snr', 'L1_optimal_snr', 'V1_log_likelihood', 'V1_matched_filter_snr', 'V1_optimal_snr', 'a_1', 'a_2', 'chi_1', 'chi_1_in_plane', 'chi_2', 'chi_2_in_plane', 'chi_eff', 'chi_p', 'chirp_mass', 'chirp_mass_source', 'comoving_distance', 'cos_theta_jn', 'cos_tilt_1', 'cos_tilt_2', 'dec', 'delta_lambda_tilde', 'geocent_time', 'iota', 'lambda_1', 'lambda_2', 'lambda_tilde', 'log_likelihood', 'log_prior', 'luminosity_distance', 'mass_1', 'mass_1_source', 'mass_2', 'mass_2_source', 'mass_ratio', 'minimum_frequency', 'phase', 'phi_1', 'phi_12', 'phi_2', 'phi_jl', 'psi', 'ra', 'redshift', 'reference_frequency', 'spin_1x', 'spin_1y', 'spin_1z', 'spin_2x', 'spin_2y', 'spin_2z', 'symmetric_mass_ratio', 'theta_jn', 'tilt_1', 'tilt_2', 'total_mass', 'total_mass_source', 'waveform_approximant']>\n",
      "<KeysViewHDF5 ['__module__', '__name__', 'constraint_parameter_keys', 'fixed_parameter_keys', 'information_gain', 'injection_parameters', 'label', 'log_bayes_factor', 'log_evidence', 'log_evidence_err', 'log_likelihood_evaluations', 'log_noise_evidence', 'log_prior_evaluations', 'meta_data', 'nested_samples', 'num_likelihood_evaluations', 'outdir', 'parameter_labels', 'parameter_labels_with_unit', 'posterior', 'priors', 'sampler', 'sampler_kwargs', 'samples', 'sampling_time', 'search_parameter_keys', 'use_ratio', 'version']>\n",
      "version\n",
      "b'bilby=2.1.1'\n",
      "meta_data.keys()\n",
      "<KeysViewHDF5 ['bilby_pipe_version', 'bilby_version', 'command_line_args', 'data_dump', 'environment_packages', 'injection_parameters', 'likelihood', 'loaded_modules', 'run_statistics', 'unknown_command_line_args', 'weight_file']>\n",
      "<KeysViewHDF5 ['L1_log_likelihood', 'L1_matched_filter_snr', 'L1_optimal_snr', 'V1_log_likelihood', 'V1_matched_filter_snr', 'V1_optimal_snr', 'a_1', 'a_2', 'chi_1', 'chi_1_in_plane', 'chi_2', 'chi_2_in_plane', 'chi_eff', 'chi_p', 'chirp_mass', 'chirp_mass_source', 'comoving_distance', 'cos_theta_jn', 'cos_tilt_1', 'cos_tilt_2', 'dec', 'delta_lambda_tilde', 'geocent_time', 'iota', 'lambda_1', 'lambda_2', 'lambda_tilde', 'log_likelihood', 'log_prior', 'luminosity_distance', 'mass_1', 'mass_1_source', 'mass_2', 'mass_2_source', 'mass_ratio', 'minimum_frequency', 'phase', 'phi_1', 'phi_12', 'phi_2', 'phi_jl', 'psi', 'ra', 'redshift', 'reference_frequency', 'spin_1x', 'spin_1y', 'spin_1z', 'spin_2x', 'spin_2y', 'spin_2z', 'symmetric_mass_ratio', 'theta_jn', 'tilt_1', 'tilt_2', 'total_mass', 'total_mass_source', 'waveform_approximant']>\n"
     ]
    }
   ],
   "source": [
    "posteriors_dict = {}\n",
    "metadata_dict = {}\n",
    "\n",
    "for label in ALL_LABELS:\n",
    "    \n",
    "    with h5py.File(files_translation[label], 'r') as f:\n",
    "        print(f.keys())\n",
    "        \n",
    "        ### Getting the metadata\n",
    "        meta_data = f[\"meta_data\"]\n",
    "        version = f[\"version\"][()]\n",
    "        \n",
    "        print(\"version\")\n",
    "        print(version)\n",
    "        \n",
    "        print(\"meta_data.keys()\")\n",
    "        print(meta_data.keys())\n",
    "        \n",
    "        \n",
    "        data_dump = meta_data[\"data_dump\"]\n",
    "        data_dump_keys = list(data_dump.attrs)\n",
    "        args = meta_data[\"command_line_args\"]\n",
    "        args_dict = {}\n",
    "        for name in args:\n",
    "            args_dict[name] = args[name][()]\n",
    "        \n",
    "        metadata_dict[label] = args_dict\n",
    "        \n",
    "        ### Getting the posterior\n",
    "        posterior = f[\"posterior\"]\n",
    "        \n",
    "        print(\"Sanity \")\n",
    "        # log_likelihood = np.array(posterior[\"log_likelihood\"][()])\n",
    "        # print(f\"Log likelihood for {label}:\")\n",
    "        # print(f\"   - min: {np.min(log_likelihood)}\")\n",
    "        # print(f\"   - max: {np.max(log_likelihood)}\")\n",
    "        # print(f\"   - mean: {np.mean(log_likelihood)}\")\n",
    "        \n",
    "        posterior = {}\n",
    "        for key in bilby_names:\n",
    "            posterior[key] = np.array(f[\"posterior\"][key][()])\n",
    "            \n",
    "        posteriors_dict[label] = posterior"
   ]
  },
  {
   "cell_type": "code",
   "execution_count": 5,
   "metadata": {},
   "outputs": [],
   "source": [
    "# for label in ALL_LABELS:\n",
    "#     posterior = posteriors_dict[label]\n",
    "#     posterior_values = np.array([posterior[key] for key in bilby_names]).T\n",
    "#     corner.corner(posterior_values)\n",
    "#     plt.show()"
   ]
  },
  {
   "cell_type": "markdown",
   "metadata": {},
   "source": [
    "## Metadata"
   ]
  },
  {
   "cell_type": "code",
   "execution_count": 8,
   "metadata": {},
   "outputs": [
    {
     "name": "stdout",
     "output_type": "stream",
     "text": [
      "conversion_function: b'__none__'\n"
     ]
    }
   ],
   "source": [
    "# example = metadata_dict['GW170817_NRTidalv2']\n",
    "# for k, v in example.items():\n",
    "#     if \"version\" in k or \"bilby\" in k:\n",
    "#         print(f\"{k}: {v}\")"
   ]
  },
  {
   "cell_type": "code",
   "execution_count": null,
   "metadata": {},
   "outputs": [],
   "source": []
  }
 ],
 "metadata": {
  "kernelspec": {
   "display_name": "Python 3",
   "language": "python",
   "name": "python3"
  },
  "language_info": {
   "codemirror_mode": {
    "name": "ipython",
    "version": 3
   },
   "file_extension": ".py",
   "mimetype": "text/x-python",
   "name": "python",
   "nbconvert_exporter": "python",
   "pygments_lexer": "ipython3",
   "version": "3.10.13"
  },
  "orig_nbformat": 4
 },
 "nbformat": 4,
 "nbformat_minor": 2
}
